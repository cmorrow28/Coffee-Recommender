{
 "cells": [
  {
   "cell_type": "code",
   "execution_count": 1,
   "id": "5e9c5e33-072c-40c7-8b5c-a4da281749ac",
   "metadata": {
    "tags": []
   },
   "outputs": [],
   "source": [
    "import pandas as pd\n",
    "import matplotlib.pyplot as plt \n",
    "from sklearn.metrics.pairwise import cosine_similarity\n",
    "import numpy as np "
   ]
  },
  {
   "cell_type": "code",
   "execution_count": 2,
   "id": "d6a0c916-ab39-4b1c-a140-9e555209cedc",
   "metadata": {
    "tags": []
   },
   "outputs": [],
   "source": [
    "#Read csv into pandas Dataframe\n",
    "coffee_original_df = pd.read_csv(\"Resources/NEW_coffee_final.csv\")"
   ]
  },
  {
   "cell_type": "code",
   "execution_count": 3,
   "id": "3443ad55-6849-4d47-b0a2-dcf131167bba",
   "metadata": {
    "tags": []
   },
   "outputs": [
    {
     "name": "stdout",
     "output_type": "stream",
     "text": [
      "<class 'pandas.core.frame.DataFrame'>\n",
      "RangeIndex: 4509 entries, 0 to 4508\n",
      "Data columns (total 26 columns):\n",
      " #   Column                  Non-Null Count  Dtype  \n",
      "---  ------                  --------------  -----  \n",
      " 0   slug                    4509 non-null   object \n",
      " 1   name                    4509 non-null   object \n",
      " 2   roaster                 4509 non-null   object \n",
      " 3   roast                   4399 non-null   object \n",
      " 4   country_of_origin       4509 non-null   object \n",
      " 5   desc_1                  4509 non-null   object \n",
      " 6   desc_2                  4509 non-null   object \n",
      " 7   rating                  4509 non-null   int64  \n",
      " 8   aroma                   4475 non-null   float64\n",
      " 9   acid                    3685 non-null   float64\n",
      " 10  body                    4499 non-null   float64\n",
      " 11  flavor                  4496 non-null   float64\n",
      " 12  aftertaste              4091 non-null   float64\n",
      " 13  region_africa_arabia    4509 non-null   int64  \n",
      " 14  region_caribbean        4509 non-null   int64  \n",
      " 15  region_central_america  4509 non-null   int64  \n",
      " 16  region_hawaii           4509 non-null   int64  \n",
      " 17  region_asia_pacific     4509 non-null   int64  \n",
      " 18  region_south_america    4509 non-null   int64  \n",
      " 19  type_espresso           4509 non-null   int64  \n",
      " 20  type_organic            4509 non-null   int64  \n",
      " 21  type_fair_trade         4509 non-null   int64  \n",
      " 22  type_decaffeinated      4509 non-null   int64  \n",
      " 23  type_pod_capsule        4509 non-null   int64  \n",
      " 24  type_blend              4509 non-null   int64  \n",
      " 25  type_estate             4509 non-null   int64  \n",
      "dtypes: float64(5), int64(14), object(7)\n",
      "memory usage: 916.0+ KB\n"
     ]
    }
   ],
   "source": [
    "coffee_original_df.info()"
   ]
  },
  {
   "cell_type": "code",
   "execution_count": 4,
   "id": "dd9192ae-228e-4d5e-adfd-28eb5c497291",
   "metadata": {
    "tags": []
   },
   "outputs": [
    {
     "name": "stdout",
     "output_type": "stream",
     "text": [
      "<class 'pandas.core.frame.DataFrame'>\n",
      "Index: 3332 entries, 0 to 4106\n",
      "Data columns (total 5 columns):\n",
      " #   Column      Non-Null Count  Dtype  \n",
      "---  ------      --------------  -----  \n",
      " 0   aroma       3332 non-null   float64\n",
      " 1   body        3332 non-null   float64\n",
      " 2   flavor      3332 non-null   float64\n",
      " 3   acid        3332 non-null   float64\n",
      " 4   aftertaste  3332 non-null   float64\n",
      "dtypes: float64(5)\n",
      "memory usage: 156.2 KB\n"
     ]
    }
   ],
   "source": [
    "# Create features and target\n",
    "coffee_test = coffee_original_df[['aroma','body','flavor','acid','aftertaste','slug']]\n",
    "coffee_test = coffee_test.dropna()\n",
    "X = coffee_test[['aroma','body','flavor','acid','aftertaste']]\n",
    "X.info()"
   ]
  },
  {
   "cell_type": "code",
   "execution_count": 5,
   "id": "8e440f9f-e9fb-46ea-9cfc-a3479428a0c1",
   "metadata": {
    "tags": []
   },
   "outputs": [
    {
     "data": {
      "text/plain": [
       "0              /review/ethiopia-deri-kochoha-2\n",
       "2               /review/kenya-ruthaka-peaberry\n",
       "3            /review/ethiopia-gora-kone-sidamo\n",
       "5        /review/honduras-las-flores-parainema\n",
       "6                        /review/kivu-dr-congo\n",
       "                         ...                  \n",
       "4102               /review/tanzania-peaberry-2\n",
       "4103    /review/cafe-quindio-gourmet-colombian\n",
       "4104                /review/la-mattina-sumatra\n",
       "4105                   /review/decaf-sumatra-4\n",
       "4106                        /review/sumatra-11\n",
       "Name: slug, Length: 3332, dtype: object"
      ]
     },
     "execution_count": 5,
     "metadata": {},
     "output_type": "execute_result"
    }
   ],
   "source": [
    "y = coffee_test['slug']\n",
    "y"
   ]
  },
  {
   "cell_type": "code",
   "execution_count": 6,
   "id": "ef9b0163-1334-46ec-bd88-9e36952c5846",
   "metadata": {
    "tags": []
   },
   "outputs": [],
   "source": [
    "# Show Standardise data scale for aroma, acidity, body, balance \n",
    "from sklearn.preprocessing import StandardScaler\n",
    "\n",
    "scaler = StandardScaler()\n",
    "scaled_data = scaler.fit_transform(X)"
   ]
  },
  {
   "cell_type": "code",
   "execution_count": 7,
   "id": "14cedde9-649c-4f1a-a62b-ad5e5500564a",
   "metadata": {
    "tags": []
   },
   "outputs": [
    {
     "data": {
      "text/plain": [
       "array([[ 0.7316112 ,  1.31749907,  0.51316541,  0.08046062,  0.07904931],\n",
       "       [ 0.7316112 ,  1.31749907,  1.75399787,  0.08046062,  0.07904931],\n",
       "       [ 0.7316112 ,  1.31749907,  0.51316541,  0.08046062,  0.07904931],\n",
       "       ...,\n",
       "       [-1.87698004, -1.75558942, -3.20933198, -1.22097042, -1.22487303],\n",
       "       [-1.87698004, -1.75558942, -1.96849952, -1.22097042, -1.22487303],\n",
       "       [-1.87698004, -1.75558942, -0.72766706, -1.22097042, -1.22487303]])"
      ]
     },
     "execution_count": 7,
     "metadata": {},
     "output_type": "execute_result"
    }
   ],
   "source": [
    "scaled_data"
   ]
  },
  {
   "cell_type": "code",
   "execution_count": 8,
   "id": "c6f74b86-a76c-4de7-9a86-945079f309e6",
   "metadata": {
    "tags": []
   },
   "outputs": [
    {
     "data": {
      "text/plain": [
       "(3332, 5)"
      ]
     },
     "execution_count": 8,
     "metadata": {},
     "output_type": "execute_result"
    }
   ],
   "source": [
    "scaled_data.shape"
   ]
  },
  {
   "cell_type": "code",
   "execution_count": 9,
   "id": "0cbe57b3-09f2-4f4a-8af0-7d2796e22764",
   "metadata": {
    "tags": []
   },
   "outputs": [
    {
     "data": {
      "image/png": "[encoded data removed]",
      "text/plain": [
       "<Figure size 1000x800 with 4 Axes>"
      ]
     },
     "metadata": {},
     "output_type": "display_data"
    }
   ],
   "source": [
    "import matplotlib.pyplot as plt\n",
    "\n",
    "# Assuming scaled_data has shape (n_samples, n_features)\n",
    "n_features = scaled_data.shape[1]\n",
    "\n",
    "# Create a 2x2 grid for subplots\n",
    "fig, axes = plt.subplots(nrows=2, ncols=2, figsize=(10, 8))\n",
    "\n",
    "# Flatten the 2D array of subplots for easier indexing\n",
    "axes = axes.flatten()\n",
    "\n",
    "# Create histograms for the first four features\n",
    "for i in range(min(4, n_features)):\n",
    "    axes[i].hist(scaled_data[:, i], bins=50, color='blue', alpha=0.7)\n",
    "    axes[i].set_title(f'Standardized Feature {i+1} Distribution')\n",
    "    axes[i].set_xlabel(f'Standardized Feature {i+1}')\n",
    "    axes[i].set_ylabel('Frequency')\n",
    "\n",
    "# Adjust layout to prevent overlapping\n",
    "plt.tight_layout()\n",
    "plt.show()\n"
   ]
  },
  {
   "cell_type": "markdown",
   "id": "bc503807-e650-4459-9435-dd38370ec551",
   "metadata": {},
   "source": [
    "This shows us that generally there are not too many outliers and standardisation is good. "
   ]
  },
  {
   "cell_type": "code",
   "execution_count": 10,
   "id": "e030c7c7-8903-48b2-9a33-46ca0f896c1d",
   "metadata": {
    "tags": []
   },
   "outputs": [
    {
     "name": "stdout",
     "output_type": "stream",
     "text": [
      "Shape of scaled_data: (3332, 5)\n",
      "Shape of y: (3332,)\n",
      "NaN or missing values in scaled_data: False\n",
      "Missing values in y: False\n"
     ]
    }
   ],
   "source": [
    "print(\"Shape of scaled_data:\", scaled_data.shape)\n",
    "print(\"Shape of y:\", y.shape)\n",
    "print(\"NaN or missing values in scaled_data:\", np.isnan(scaled_data).any())\n",
    "print(\"Missing values in y:\", y.isnull().any().any())"
   ]
  },
  {
   "cell_type": "code",
   "execution_count": 11,
   "id": "94124ff3-2f24-451d-a478-cee57f6191cd",
   "metadata": {
    "tags": []
   },
   "outputs": [
    {
     "data": {
      "text/html": [
       "<div>\n",
       "<style scoped>\n",
       "    .dataframe tbody tr th:only-of-type {\n",
       "        vertical-align: middle;\n",
       "    }\n",
       "\n",
       "    .dataframe tbody tr th {\n",
       "        vertical-align: top;\n",
       "    }\n",
       "\n",
       "    .dataframe thead th {\n",
       "        text-align: right;\n",
       "    }\n",
       "</style>\n",
       "<table border=\"1\" class=\"dataframe\">\n",
       "  <thead>\n",
       "    <tr style=\"text-align: right;\">\n",
       "      <th></th>\n",
       "      <th>aroma</th>\n",
       "      <th>body</th>\n",
       "      <th>flavor</th>\n",
       "      <th>acid</th>\n",
       "      <th>aftertaste</th>\n",
       "      <th>aroma_2.0</th>\n",
       "      <th>aroma_3.0</th>\n",
       "      <th>aroma_4.0</th>\n",
       "      <th>aroma_5.0</th>\n",
       "      <th>aroma_6.0</th>\n",
       "      <th>...</th>\n",
       "      <th>acid_10.0</th>\n",
       "      <th>aftertaste_2.0</th>\n",
       "      <th>aftertaste_3.0</th>\n",
       "      <th>aftertaste_4.0</th>\n",
       "      <th>aftertaste_5.0</th>\n",
       "      <th>aftertaste_6.0</th>\n",
       "      <th>aftertaste_7.0</th>\n",
       "      <th>aftertaste_8.0</th>\n",
       "      <th>aftertaste_9.0</th>\n",
       "      <th>aftertaste_10.0</th>\n",
       "    </tr>\n",
       "  </thead>\n",
       "  <tbody>\n",
       "    <tr>\n",
       "      <th>0</th>\n",
       "      <td>9.0</td>\n",
       "      <td>9.0</td>\n",
       "      <td>9.0</td>\n",
       "      <td>8.0</td>\n",
       "      <td>8.0</td>\n",
       "      <td>0</td>\n",
       "      <td>0</td>\n",
       "      <td>0</td>\n",
       "      <td>0</td>\n",
       "      <td>0</td>\n",
       "      <td>...</td>\n",
       "      <td>0</td>\n",
       "      <td>0</td>\n",
       "      <td>0</td>\n",
       "      <td>0</td>\n",
       "      <td>0</td>\n",
       "      <td>0</td>\n",
       "      <td>0</td>\n",
       "      <td>1</td>\n",
       "      <td>0</td>\n",
       "      <td>0</td>\n",
       "    </tr>\n",
       "    <tr>\n",
       "      <th>2</th>\n",
       "      <td>9.0</td>\n",
       "      <td>9.0</td>\n",
       "      <td>10.0</td>\n",
       "      <td>8.0</td>\n",
       "      <td>8.0</td>\n",
       "      <td>0</td>\n",
       "      <td>0</td>\n",
       "      <td>0</td>\n",
       "      <td>0</td>\n",
       "      <td>0</td>\n",
       "      <td>...</td>\n",
       "      <td>0</td>\n",
       "      <td>0</td>\n",
       "      <td>0</td>\n",
       "      <td>0</td>\n",
       "      <td>0</td>\n",
       "      <td>0</td>\n",
       "      <td>0</td>\n",
       "      <td>1</td>\n",
       "      <td>0</td>\n",
       "      <td>0</td>\n",
       "    </tr>\n",
       "    <tr>\n",
       "      <th>3</th>\n",
       "      <td>9.0</td>\n",
       "      <td>9.0</td>\n",
       "      <td>9.0</td>\n",
       "      <td>8.0</td>\n",
       "      <td>8.0</td>\n",
       "      <td>0</td>\n",
       "      <td>0</td>\n",
       "      <td>0</td>\n",
       "      <td>0</td>\n",
       "      <td>0</td>\n",
       "      <td>...</td>\n",
       "      <td>0</td>\n",
       "      <td>0</td>\n",
       "      <td>0</td>\n",
       "      <td>0</td>\n",
       "      <td>0</td>\n",
       "      <td>0</td>\n",
       "      <td>0</td>\n",
       "      <td>1</td>\n",
       "      <td>0</td>\n",
       "      <td>0</td>\n",
       "    </tr>\n",
       "    <tr>\n",
       "      <th>5</th>\n",
       "      <td>9.0</td>\n",
       "      <td>9.0</td>\n",
       "      <td>9.0</td>\n",
       "      <td>8.0</td>\n",
       "      <td>8.0</td>\n",
       "      <td>0</td>\n",
       "      <td>0</td>\n",
       "      <td>0</td>\n",
       "      <td>0</td>\n",
       "      <td>0</td>\n",
       "      <td>...</td>\n",
       "      <td>0</td>\n",
       "      <td>0</td>\n",
       "      <td>0</td>\n",
       "      <td>0</td>\n",
       "      <td>0</td>\n",
       "      <td>0</td>\n",
       "      <td>0</td>\n",
       "      <td>1</td>\n",
       "      <td>0</td>\n",
       "      <td>0</td>\n",
       "    </tr>\n",
       "    <tr>\n",
       "      <th>6</th>\n",
       "      <td>9.0</td>\n",
       "      <td>9.0</td>\n",
       "      <td>9.0</td>\n",
       "      <td>8.0</td>\n",
       "      <td>8.0</td>\n",
       "      <td>0</td>\n",
       "      <td>0</td>\n",
       "      <td>0</td>\n",
       "      <td>0</td>\n",
       "      <td>0</td>\n",
       "      <td>...</td>\n",
       "      <td>0</td>\n",
       "      <td>0</td>\n",
       "      <td>0</td>\n",
       "      <td>0</td>\n",
       "      <td>0</td>\n",
       "      <td>0</td>\n",
       "      <td>0</td>\n",
       "      <td>1</td>\n",
       "      <td>0</td>\n",
       "      <td>0</td>\n",
       "    </tr>\n",
       "    <tr>\n",
       "      <th>...</th>\n",
       "      <td>...</td>\n",
       "      <td>...</td>\n",
       "      <td>...</td>\n",
       "      <td>...</td>\n",
       "      <td>...</td>\n",
       "      <td>...</td>\n",
       "      <td>...</td>\n",
       "      <td>...</td>\n",
       "      <td>...</td>\n",
       "      <td>...</td>\n",
       "      <td>...</td>\n",
       "      <td>...</td>\n",
       "      <td>...</td>\n",
       "      <td>...</td>\n",
       "      <td>...</td>\n",
       "      <td>...</td>\n",
       "      <td>...</td>\n",
       "      <td>...</td>\n",
       "      <td>...</td>\n",
       "      <td>...</td>\n",
       "      <td>...</td>\n",
       "    </tr>\n",
       "    <tr>\n",
       "      <th>4102</th>\n",
       "      <td>8.0</td>\n",
       "      <td>8.0</td>\n",
       "      <td>8.0</td>\n",
       "      <td>8.0</td>\n",
       "      <td>8.0</td>\n",
       "      <td>0</td>\n",
       "      <td>0</td>\n",
       "      <td>0</td>\n",
       "      <td>0</td>\n",
       "      <td>0</td>\n",
       "      <td>...</td>\n",
       "      <td>0</td>\n",
       "      <td>0</td>\n",
       "      <td>0</td>\n",
       "      <td>0</td>\n",
       "      <td>0</td>\n",
       "      <td>0</td>\n",
       "      <td>0</td>\n",
       "      <td>1</td>\n",
       "      <td>0</td>\n",
       "      <td>0</td>\n",
       "    </tr>\n",
       "    <tr>\n",
       "      <th>4103</th>\n",
       "      <td>8.0</td>\n",
       "      <td>8.0</td>\n",
       "      <td>8.0</td>\n",
       "      <td>8.0</td>\n",
       "      <td>8.0</td>\n",
       "      <td>0</td>\n",
       "      <td>0</td>\n",
       "      <td>0</td>\n",
       "      <td>0</td>\n",
       "      <td>0</td>\n",
       "      <td>...</td>\n",
       "      <td>0</td>\n",
       "      <td>0</td>\n",
       "      <td>0</td>\n",
       "      <td>0</td>\n",
       "      <td>0</td>\n",
       "      <td>0</td>\n",
       "      <td>0</td>\n",
       "      <td>1</td>\n",
       "      <td>0</td>\n",
       "      <td>0</td>\n",
       "    </tr>\n",
       "    <tr>\n",
       "      <th>4104</th>\n",
       "      <td>7.0</td>\n",
       "      <td>7.0</td>\n",
       "      <td>6.0</td>\n",
       "      <td>7.0</td>\n",
       "      <td>7.0</td>\n",
       "      <td>0</td>\n",
       "      <td>0</td>\n",
       "      <td>0</td>\n",
       "      <td>0</td>\n",
       "      <td>0</td>\n",
       "      <td>...</td>\n",
       "      <td>0</td>\n",
       "      <td>0</td>\n",
       "      <td>0</td>\n",
       "      <td>0</td>\n",
       "      <td>0</td>\n",
       "      <td>0</td>\n",
       "      <td>1</td>\n",
       "      <td>0</td>\n",
       "      <td>0</td>\n",
       "      <td>0</td>\n",
       "    </tr>\n",
       "    <tr>\n",
       "      <th>4105</th>\n",
       "      <td>7.0</td>\n",
       "      <td>7.0</td>\n",
       "      <td>7.0</td>\n",
       "      <td>7.0</td>\n",
       "      <td>7.0</td>\n",
       "      <td>0</td>\n",
       "      <td>0</td>\n",
       "      <td>0</td>\n",
       "      <td>0</td>\n",
       "      <td>0</td>\n",
       "      <td>...</td>\n",
       "      <td>0</td>\n",
       "      <td>0</td>\n",
       "      <td>0</td>\n",
       "      <td>0</td>\n",
       "      <td>0</td>\n",
       "      <td>0</td>\n",
       "      <td>1</td>\n",
       "      <td>0</td>\n",
       "      <td>0</td>\n",
       "      <td>0</td>\n",
       "    </tr>\n",
       "    <tr>\n",
       "      <th>4106</th>\n",
       "      <td>7.0</td>\n",
       "      <td>7.0</td>\n",
       "      <td>8.0</td>\n",
       "      <td>7.0</td>\n",
       "      <td>7.0</td>\n",
       "      <td>0</td>\n",
       "      <td>0</td>\n",
       "      <td>0</td>\n",
       "      <td>0</td>\n",
       "      <td>0</td>\n",
       "      <td>...</td>\n",
       "      <td>0</td>\n",
       "      <td>0</td>\n",
       "      <td>0</td>\n",
       "      <td>0</td>\n",
       "      <td>0</td>\n",
       "      <td>0</td>\n",
       "      <td>1</td>\n",
       "      <td>0</td>\n",
       "      <td>0</td>\n",
       "      <td>0</td>\n",
       "    </tr>\n",
       "  </tbody>\n",
       "</table>\n",
       "<p>3332 rows × 48 columns</p>\n",
       "</div>"
      ],
      "text/plain": [
       "      aroma  body  flavor  acid  aftertaste  aroma_2.0  aroma_3.0  aroma_4.0  \\\n",
       "0       9.0   9.0     9.0   8.0         8.0          0          0          0   \n",
       "2       9.0   9.0    10.0   8.0         8.0          0          0          0   \n",
       "3       9.0   9.0     9.0   8.0         8.0          0          0          0   \n",
       "5       9.0   9.0     9.0   8.0         8.0          0          0          0   \n",
       "6       9.0   9.0     9.0   8.0         8.0          0          0          0   \n",
       "...     ...   ...     ...   ...         ...        ...        ...        ...   \n",
       "4102    8.0   8.0     8.0   8.0         8.0          0          0          0   \n",
       "4103    8.0   8.0     8.0   8.0         8.0          0          0          0   \n",
       "4104    7.0   7.0     6.0   7.0         7.0          0          0          0   \n",
       "4105    7.0   7.0     7.0   7.0         7.0          0          0          0   \n",
       "4106    7.0   7.0     8.0   7.0         7.0          0          0          0   \n",
       "\n",
       "      aroma_5.0  aroma_6.0  ...  acid_10.0  aftertaste_2.0  aftertaste_3.0  \\\n",
       "0             0          0  ...          0               0               0   \n",
       "2             0          0  ...          0               0               0   \n",
       "3             0          0  ...          0               0               0   \n",
       "5             0          0  ...          0               0               0   \n",
       "6             0          0  ...          0               0               0   \n",
       "...         ...        ...  ...        ...             ...             ...   \n",
       "4102          0          0  ...          0               0               0   \n",
       "4103          0          0  ...          0               0               0   \n",
       "4104          0          0  ...          0               0               0   \n",
       "4105          0          0  ...          0               0               0   \n",
       "4106          0          0  ...          0               0               0   \n",
       "\n",
       "      aftertaste_4.0  aftertaste_5.0  aftertaste_6.0  aftertaste_7.0  \\\n",
       "0                  0               0               0               0   \n",
       "2                  0               0               0               0   \n",
       "3                  0               0               0               0   \n",
       "5                  0               0               0               0   \n",
       "6                  0               0               0               0   \n",
       "...              ...             ...             ...             ...   \n",
       "4102               0               0               0               0   \n",
       "4103               0               0               0               0   \n",
       "4104               0               0               0               1   \n",
       "4105               0               0               0               1   \n",
       "4106               0               0               0               1   \n",
       "\n",
       "      aftertaste_8.0  aftertaste_9.0  aftertaste_10.0  \n",
       "0                  1               0                0  \n",
       "2                  1               0                0  \n",
       "3                  1               0                0  \n",
       "5                  1               0                0  \n",
       "6                  1               0                0  \n",
       "...              ...             ...              ...  \n",
       "4102               1               0                0  \n",
       "4103               1               0                0  \n",
       "4104               0               0                0  \n",
       "4105               0               0                0  \n",
       "4106               0               0                0  \n",
       "\n",
       "[3332 rows x 48 columns]"
      ]
     },
     "execution_count": 11,
     "metadata": {},
     "output_type": "execute_result"
    }
   ],
   "source": [
    "# Assuming X is your DataFrame with columns 'aroma', 'body', 'flavor', 'acid', and 'aftertaste'\n",
    "categorical_columns = ['aroma', 'body', 'flavor', 'acid', 'aftertaste']\n",
    "\n",
    "# Use get_dummies to one-hot encode the categorical columns\n",
    "X_encoded = pd.get_dummies(X, columns=categorical_columns, dtype=int)\n",
    "\n",
    "# Concatenate the one-hot encoded columns to the original DataFrame\n",
    "X = pd.concat([X, X_encoded], axis=1)\n",
    "\n",
    "# Display the resulting DataFrame\n",
    "X"
   ]
  },
  {
   "cell_type": "code",
   "execution_count": 12,
   "id": "4c6442be-a0f9-4437-9632-4fd939c66f00",
   "metadata": {
    "tags": []
   },
   "outputs": [
    {
     "name": "stdout",
     "output_type": "stream",
     "text": [
      "Shape of X: (3332, 48)\n",
      "Shape of y: (3332,)\n",
      "NaN or missing values in scaled_data: False\n",
      "Missing values in y: False\n"
     ]
    }
   ],
   "source": [
    "# Check shape of all data\n",
    "print(\"Shape of X:\", X.shape)\n",
    "print(\"Shape of y:\", y.shape)\n",
    "print(\"NaN or missing values in scaled_data:\", np.isnan(scaled_data).any())\n",
    "print(\"Missing values in y:\", y.isnull().any().any())"
   ]
  },
  {
   "cell_type": "code",
   "execution_count": 13,
   "id": "8bec4561-0521-4a4a-9bfc-2ce569a603fd",
   "metadata": {
    "tags": []
   },
   "outputs": [],
   "source": [
    "#Split the data into training and test sets \n",
    "from sklearn.model_selection import train_test_split\n",
    "\n",
    "X_train, X_test, y_train, y_test = train_test_split(scaled_data, y, test_size=0.2, random_state=42, shuffle=False)"
   ]
  },
  {
   "cell_type": "code",
   "execution_count": 14,
   "id": "77c59750-0ead-4ee5-8c33-fee919849500",
   "metadata": {
    "tags": []
   },
   "outputs": [
    {
     "name": "stdout",
     "output_type": "stream",
     "text": [
      "Shape of X: (2665, 5)\n",
      "Shape of y: (2665,)\n",
      "NaN or missing values in scaled_data: False\n",
      "Missing values in y: False\n"
     ]
    }
   ],
   "source": [
    "# Check shape of all data\n",
    "print(\"Shape of X:\", X_train.shape)\n",
    "print(\"Shape of y:\", y_train.shape)\n",
    "print(\"NaN or missing values in scaled_data:\", np.isnan(scaled_data).any())\n",
    "print(\"Missing values in y:\", y.isnull().any().any())"
   ]
  },
  {
   "cell_type": "code",
   "execution_count": 15,
   "id": "ee46737c-4173-4ce7-bbcc-3fff133cf824",
   "metadata": {
    "tags": []
   },
   "outputs": [],
   "source": [
    "# Calculate the cosine similarity matrix for the entire dataset\n",
    "similarity_matrix = cosine_similarity(X)\n",
    "\n",
    "# Calculate the index of the most similar item for each item\n",
    "predictions = similarity_matrix.argmax(axis=1)\n"
   ]
  },
  {
   "cell_type": "code",
   "execution_count": 16,
   "id": "8d5a34aa-67ef-4c54-8047-9d8526d85633",
   "metadata": {
    "tags": []
   },
   "outputs": [
    {
     "name": "stdout",
     "output_type": "stream",
     "text": [
      "      aroma  body  flavor  acid  aftertaste  aroma_2.0  aroma_3.0  aroma_4.0  \\\n",
      "0       9.0   9.0     9.0   8.0         8.0          0          0          0   \n",
      "2       9.0   9.0    10.0   8.0         8.0          0          0          0   \n",
      "3       9.0   9.0     9.0   8.0         8.0          0          0          0   \n",
      "5       9.0   9.0     9.0   8.0         8.0          0          0          0   \n",
      "6       9.0   9.0     9.0   8.0         8.0          0          0          0   \n",
      "...     ...   ...     ...   ...         ...        ...        ...        ...   \n",
      "4102    8.0   8.0     8.0   8.0         8.0          0          0          0   \n",
      "4103    8.0   8.0     8.0   8.0         8.0          0          0          0   \n",
      "4104    7.0   7.0     6.0   7.0         7.0          0          0          0   \n",
      "4105    7.0   7.0     7.0   7.0         7.0          0          0          0   \n",
      "4106    7.0   7.0     8.0   7.0         7.0          0          0          0   \n",
      "\n",
      "      aroma_5.0  aroma_6.0  ...  aftertaste_2.0  aftertaste_3.0  \\\n",
      "0             0          0  ...               0               0   \n",
      "2             0          0  ...               0               0   \n",
      "3             0          0  ...               0               0   \n",
      "5             0          0  ...               0               0   \n",
      "6             0          0  ...               0               0   \n",
      "...         ...        ...  ...             ...             ...   \n",
      "4102          0          0  ...               0               0   \n",
      "4103          0          0  ...               0               0   \n",
      "4104          0          0  ...               0               0   \n",
      "4105          0          0  ...               0               0   \n",
      "4106          0          0  ...               0               0   \n",
      "\n",
      "      aftertaste_4.0  aftertaste_5.0  aftertaste_6.0  aftertaste_7.0  \\\n",
      "0                  0               0               0               0   \n",
      "2                  0               0               0               0   \n",
      "3                  0               0               0               0   \n",
      "5                  0               0               0               0   \n",
      "6                  0               0               0               0   \n",
      "...              ...             ...             ...             ...   \n",
      "4102               0               0               0               0   \n",
      "4103               0               0               0               0   \n",
      "4104               0               0               0               1   \n",
      "4105               0               0               0               1   \n",
      "4106               0               0               0               1   \n",
      "\n",
      "      aftertaste_8.0  aftertaste_9.0  aftertaste_10.0  interactions  \n",
      "0                  1               0                0             0  \n",
      "2                  1               0                0             0  \n",
      "3                  1               0                0             0  \n",
      "5                  1               0                0             1  \n",
      "6                  1               0                0             0  \n",
      "...              ...             ...              ...           ...  \n",
      "4102               1               0                0             0  \n",
      "4103               1               0                0             0  \n",
      "4104               0               0                0             1  \n",
      "4105               0               0                0             0  \n",
      "4106               0               0                0             0  \n",
      "\n",
      "[3332 rows x 49 columns]\n"
     ]
    }
   ],
   "source": [
    "# Create a ground truth column for interactions (1 for interaction, 0 for no interaction)\n",
    "X['interactions'] = np.random.choice([0, 1], size=len(X), p=[0.8, 0.2])\n",
    "\n",
    "# Print the DataFrame to see the changes\n",
    "print(X)\n"
   ]
  },
  {
   "cell_type": "code",
   "execution_count": 17,
   "id": "587f66a3-7c70-47fd-a875-a10f201e0c0e",
   "metadata": {
    "tags": []
   },
   "outputs": [
    {
     "name": "stdout",
     "output_type": "stream",
     "text": [
      "Shape of similarity_matrix: (3332, 3332)\n",
      "Shape of predictions: (3332,)\n",
      "(3332,)\n"
     ]
    }
   ],
   "source": [
    "print(\"Shape of similarity_matrix:\", similarity_matrix.shape)\n",
    "print(\"Shape of predictions:\", predictions.shape)\n",
    "print(X['interactions'].shape)"
   ]
  },
  {
   "cell_type": "code",
   "execution_count": 19,
   "id": "6c82b842-93b0-4516-84b8-7e56839a1af8",
   "metadata": {
    "tags": []
   },
   "outputs": [
    {
     "data": {
      "text/plain": [
       "array([[   0,  427,    0, ..., 3329, 2446, 3331],\n",
       "       [ 334,  399,  334, ..., 2182, 3236, 3155],\n",
       "       [ 333, 1276,  333, ..., 3238, 3050, 2609],\n",
       "       [ 591,  582,  591, ..., 1995, 3232, 3296],\n",
       "       [ 592, 2107,  592, ..., 3050, 1652, 1595]], dtype=int64)"
      ]
     },
     "execution_count": 19,
     "metadata": {},
     "output_type": "execute_result"
    }
   ],
   "source": [
    "# Assume 'N' is the number of top recommendations you want\n",
    "# Assuming X is a DataFrame\n",
    "recommended_items = X.iloc[predictions]\n",
    "\n",
    "N = 5\n",
    "\n",
    "# Get the top N recommendations for each test item\n",
    "top_n_recommendations = np.argsort(-similarity_matrix, axis=0)[:N, :]\n",
    "top_n_recommendations"
   ]
  },
  {
   "cell_type": "code",
   "execution_count": 20,
   "id": "01d59ff2-b384-4110-9ff8-dba11b4adf50",
   "metadata": {
    "tags": []
   },
   "outputs": [],
   "source": [
    "threshold = 0.7\n",
    "binary_predictions = (similarity_matrix > threshold).astype(int)"
   ]
  },
  {
   "cell_type": "code",
   "execution_count": 24,
   "id": "83b50592-e58a-48bf-b649-5418658238ec",
   "metadata": {
    "tags": []
   },
   "outputs": [],
   "source": [
    "def calculate_precision(predictions, labels):\n",
    "    true_positives = np.sum((predictions == 1) & (labels == 1))\n",
    "    false_positives = np.sum((predictions == 1) & (labels == 0))\n",
    "\n",
    "    # Avoid division by zero\n",
    "    if (true_positives + false_positives) == 0:\n",
    "        precision = 0\n",
    "    else:\n",
    "        precision = true_positives / (true_positives + false_positives)\n",
    "\n",
    "    return precision\n"
   ]
  },
  {
   "cell_type": "code",
   "execution_count": 23,
   "id": "b29d6856-3ca0-4034-bc54-e3c634dc3fb5",
   "metadata": {
    "tags": []
   },
   "outputs": [],
   "source": [
    "labels = X['interactions'].values"
   ]
  },
  {
   "cell_type": "code",
   "execution_count": 25,
   "id": "c42486e3-5dd4-4890-973b-cd06e93da99b",
   "metadata": {
    "tags": []
   },
   "outputs": [
    {
     "name": "stdout",
     "output_type": "stream",
     "text": [
      "Precision: 0.05555555555555555\n"
     ]
    }
   ],
   "source": [
    "precision = calculate_precision(predictions, labels)\n",
    "print(f\"Precision: {precision}\")"
   ]
  },
  {
   "cell_type": "code",
   "execution_count": null,
   "id": "9f0307a8-c8ed-43d8-9ab1-7502cd6844b3",
   "metadata": {},
   "outputs": [],
   "source": []
  },
  {
   "cell_type": "code",
   "execution_count": null,
   "id": "874fc8e7-6607-4229-b584-1943cb29f8ea",
   "metadata": {},
   "outputs": [],
   "source": []
  }
 ],
 "metadata": {
  "kernelspec": {
   "display_name": "“PythonData”",
   "language": "python",
   "name": "pythondata"
  },
  "language_info": {
   "codemirror_mode": {
    "name": "ipython",
    "version": 3
   },
   "file_extension": ".py",
   "mimetype": "text/x-python",
   "name": "python",
   "nbconvert_exporter": "python",
   "pygments_lexer": "ipython3",
   "version": "3.11.4"
  }
 },
 "nbformat": 4,
 "nbformat_minor": 5
}
