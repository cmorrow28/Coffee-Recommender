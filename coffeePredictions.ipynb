{
 "cells": [
  {
   "cell_type": "code",
   "execution_count": 46,
   "id": "f59b75de-2d96-442e-a7fc-f175ae53e8b9",
   "metadata": {
    "tags": []
   },
   "outputs": [],
   "source": [
    "import pandas as pd\n",
    "import matplotlib.pyplot as plt \n",
    "from sklearn.metrics.pairwise import cosine_similarity"
   ]
  },
  {
   "cell_type": "code",
   "execution_count": 47,
   "id": "bc6a8a11-d608-486a-b1c2-d668f2583d17",
   "metadata": {
    "tags": []
   },
   "outputs": [],
   "source": [
    "#Read csv into pandas Dataframe\n",
    "coffee_original_df = pd.read_csv(\"Resources/coffee.csv\")"
   ]
  },
  {
   "cell_type": "code",
   "execution_count": 48,
   "id": "9fe3039a-7cc8-48d5-9158-96dd9d7dd128",
   "metadata": {
    "tags": []
   },
   "outputs": [
    {
     "data": {
      "text/html": [
       "<div>\n",
       "<style scoped>\n",
       "    .dataframe tbody tr th:only-of-type {\n",
       "        vertical-align: middle;\n",
       "    }\n",
       "\n",
       "    .dataframe tbody tr th {\n",
       "        vertical-align: top;\n",
       "    }\n",
       "\n",
       "    .dataframe thead th {\n",
       "        text-align: right;\n",
       "    }\n",
       "</style>\n",
       "<table border=\"1\" class=\"dataframe\">\n",
       "  <thead>\n",
       "    <tr style=\"text-align: right;\">\n",
       "      <th></th>\n",
       "      <th>all_text</th>\n",
       "      <th>name</th>\n",
       "      <th>rating</th>\n",
       "      <th>roaster</th>\n",
       "      <th>slug</th>\n",
       "      <th>region_africa_arabia</th>\n",
       "      <th>region_caribbean</th>\n",
       "      <th>region_central_america</th>\n",
       "      <th>region_hawaii</th>\n",
       "      <th>region_asia_pacific</th>\n",
       "      <th>...</th>\n",
       "      <th>aroma</th>\n",
       "      <th>acid</th>\n",
       "      <th>body</th>\n",
       "      <th>flavor</th>\n",
       "      <th>aftertaste</th>\n",
       "      <th>with_milk</th>\n",
       "      <th>desc_1</th>\n",
       "      <th>desc_2</th>\n",
       "      <th>desc_3</th>\n",
       "      <th>desc_4</th>\n",
       "    </tr>\n",
       "  </thead>\n",
       "  <tbody>\n",
       "    <tr>\n",
       "      <th>0</th>\n",
       "      <td>\\n\\n\\n\\n \\n93\\nFlight Coffee Co.\\nEthiopia Der...</td>\n",
       "      <td>Ethiopia Deri Kochoha</td>\n",
       "      <td>93</td>\n",
       "      <td>Flight Coffee Co.</td>\n",
       "      <td>/review/ethiopia-deri-kochoha-2</td>\n",
       "      <td>1</td>\n",
       "      <td>0</td>\n",
       "      <td>0</td>\n",
       "      <td>0</td>\n",
       "      <td>0</td>\n",
       "      <td>...</td>\n",
       "      <td>9.0</td>\n",
       "      <td>8.0</td>\n",
       "      <td>9.0</td>\n",
       "      <td>9.0</td>\n",
       "      <td>8.0</td>\n",
       "      <td>NaN</td>\n",
       "      <td>Bright, crisp, sweetly tart. Citrus medley, ca...</td>\n",
       "      <td>From the Deri Kochoha mill in the Hagere Marya...</td>\n",
       "      <td>A poised and melodic wet-processed Ethiopia co...</td>\n",
       "      <td>NaN</td>\n",
       "    </tr>\n",
       "    <tr>\n",
       "      <th>1</th>\n",
       "      <td>\\n\\n\\n\\n\\n91\\nDoi Chaang Coffee\\nEspresso\\nLoc...</td>\n",
       "      <td>Espresso</td>\n",
       "      <td>91</td>\n",
       "      <td>Doi Chaang Coffee</td>\n",
       "      <td>/review/espresso-14</td>\n",
       "      <td>0</td>\n",
       "      <td>0</td>\n",
       "      <td>0</td>\n",
       "      <td>0</td>\n",
       "      <td>1</td>\n",
       "      <td>...</td>\n",
       "      <td>8.0</td>\n",
       "      <td>NaN</td>\n",
       "      <td>8.0</td>\n",
       "      <td>8.0</td>\n",
       "      <td>8.0</td>\n",
       "      <td>9.0</td>\n",
       "      <td>Evaluated as espresso. Deeply rich, sweetly ro...</td>\n",
       "      <td>Doi Chaang is a single-estate coffee produced ...</td>\n",
       "      <td>A rich, resonant espresso from Thailand, espec...</td>\n",
       "      <td>NaN</td>\n",
       "    </tr>\n",
       "    <tr>\n",
       "      <th>2</th>\n",
       "      <td>\\n\\n\\n\\n \\n95\\nTemple Coffee and Tea\\nKenya Ru...</td>\n",
       "      <td>Kenya Ruthaka Peaberry</td>\n",
       "      <td>95</td>\n",
       "      <td>Temple Coffee and Tea</td>\n",
       "      <td>/review/kenya-ruthaka-peaberry</td>\n",
       "      <td>1</td>\n",
       "      <td>0</td>\n",
       "      <td>0</td>\n",
       "      <td>0</td>\n",
       "      <td>0</td>\n",
       "      <td>...</td>\n",
       "      <td>9.0</td>\n",
       "      <td>8.0</td>\n",
       "      <td>9.0</td>\n",
       "      <td>10.0</td>\n",
       "      <td>8.0</td>\n",
       "      <td>NaN</td>\n",
       "      <td>Deeply sweet, richly savory. Dark chocolate, p...</td>\n",
       "      <td>Despite challenges ranging from contested gove...</td>\n",
       "      <td>A high-toned, nuanced Kenya cup, classic in it...</td>\n",
       "      <td>NaN</td>\n",
       "    </tr>\n",
       "    <tr>\n",
       "      <th>3</th>\n",
       "      <td>\\n\\n\\n\\n \\n93\\nTemple Coffee and Tea\\nEthiopia...</td>\n",
       "      <td>Ethiopia Gora Kone Sidamo</td>\n",
       "      <td>93</td>\n",
       "      <td>Temple Coffee and Tea</td>\n",
       "      <td>/review/ethiopia-gora-kone-sidamo</td>\n",
       "      <td>1</td>\n",
       "      <td>0</td>\n",
       "      <td>0</td>\n",
       "      <td>0</td>\n",
       "      <td>0</td>\n",
       "      <td>...</td>\n",
       "      <td>9.0</td>\n",
       "      <td>8.0</td>\n",
       "      <td>9.0</td>\n",
       "      <td>9.0</td>\n",
       "      <td>8.0</td>\n",
       "      <td>NaN</td>\n",
       "      <td>Fruit-forward, richly chocolaty. Raspberry cou...</td>\n",
       "      <td>Southern Ethiopia coffees like this one are la...</td>\n",
       "      <td>A playful, unrestrained fruit bomb of a coffee...</td>\n",
       "      <td>NaN</td>\n",
       "    </tr>\n",
       "    <tr>\n",
       "      <th>4</th>\n",
       "      <td>\\n\\n\\n\\n\\n93\\nChoosy Gourmet\\nSpecialty Coffee...</td>\n",
       "      <td>Specialty Coffee Blend Espresso</td>\n",
       "      <td>93</td>\n",
       "      <td>Choosy Gourmet</td>\n",
       "      <td>/review/specialty-coffee-blend-espresso</td>\n",
       "      <td>0</td>\n",
       "      <td>0</td>\n",
       "      <td>0</td>\n",
       "      <td>0</td>\n",
       "      <td>0</td>\n",
       "      <td>...</td>\n",
       "      <td>9.0</td>\n",
       "      <td>NaN</td>\n",
       "      <td>8.0</td>\n",
       "      <td>9.0</td>\n",
       "      <td>8.0</td>\n",
       "      <td>9.0</td>\n",
       "      <td>Evaluated as espresso. Rich, chocolaty, sweetl...</td>\n",
       "      <td>A blend of coffees from Ethiopia (natural-proc...</td>\n",
       "      <td>An espresso blend in which spice notes — in pa...</td>\n",
       "      <td>NaN</td>\n",
       "    </tr>\n",
       "  </tbody>\n",
       "</table>\n",
       "<p>5 rows × 34 columns</p>\n",
       "</div>"
      ],
      "text/plain": [
       "                                            all_text  \\\n",
       "0  \\n\\n\\n\\n \\n93\\nFlight Coffee Co.\\nEthiopia Der...   \n",
       "1  \\n\\n\\n\\n\\n91\\nDoi Chaang Coffee\\nEspresso\\nLoc...   \n",
       "2  \\n\\n\\n\\n \\n95\\nTemple Coffee and Tea\\nKenya Ru...   \n",
       "3  \\n\\n\\n\\n \\n93\\nTemple Coffee and Tea\\nEthiopia...   \n",
       "4  \\n\\n\\n\\n\\n93\\nChoosy Gourmet\\nSpecialty Coffee...   \n",
       "\n",
       "                              name rating                roaster  \\\n",
       "0            Ethiopia Deri Kochoha     93      Flight Coffee Co.   \n",
       "1                         Espresso     91      Doi Chaang Coffee   \n",
       "2           Kenya Ruthaka Peaberry     95  Temple Coffee and Tea   \n",
       "3        Ethiopia Gora Kone Sidamo     93  Temple Coffee and Tea   \n",
       "4  Specialty Coffee Blend Espresso     93         Choosy Gourmet   \n",
       "\n",
       "                                      slug  region_africa_arabia  \\\n",
       "0          /review/ethiopia-deri-kochoha-2                     1   \n",
       "1                      /review/espresso-14                     0   \n",
       "2           /review/kenya-ruthaka-peaberry                     1   \n",
       "3        /review/ethiopia-gora-kone-sidamo                     1   \n",
       "4  /review/specialty-coffee-blend-espresso                     0   \n",
       "\n",
       "   region_caribbean  region_central_america  region_hawaii  \\\n",
       "0                 0                       0              0   \n",
       "1                 0                       0              0   \n",
       "2                 0                       0              0   \n",
       "3                 0                       0              0   \n",
       "4                 0                       0              0   \n",
       "\n",
       "   region_asia_pacific  ...  aroma  acid  body  flavor  aftertaste  with_milk  \\\n",
       "0                    0  ...    9.0   8.0   9.0     9.0         8.0        NaN   \n",
       "1                    1  ...    8.0   NaN   8.0     8.0         8.0        9.0   \n",
       "2                    0  ...    9.0   8.0   9.0    10.0         8.0        NaN   \n",
       "3                    0  ...    9.0   8.0   9.0     9.0         8.0        NaN   \n",
       "4                    0  ...    9.0   NaN   8.0     9.0         8.0        9.0   \n",
       "\n",
       "                                              desc_1  \\\n",
       "0  Bright, crisp, sweetly tart. Citrus medley, ca...   \n",
       "1  Evaluated as espresso. Deeply rich, sweetly ro...   \n",
       "2  Deeply sweet, richly savory. Dark chocolate, p...   \n",
       "3  Fruit-forward, richly chocolaty. Raspberry cou...   \n",
       "4  Evaluated as espresso. Rich, chocolaty, sweetl...   \n",
       "\n",
       "                                              desc_2  \\\n",
       "0  From the Deri Kochoha mill in the Hagere Marya...   \n",
       "1  Doi Chaang is a single-estate coffee produced ...   \n",
       "2  Despite challenges ranging from contested gove...   \n",
       "3  Southern Ethiopia coffees like this one are la...   \n",
       "4  A blend of coffees from Ethiopia (natural-proc...   \n",
       "\n",
       "                                              desc_3 desc_4  \n",
       "0  A poised and melodic wet-processed Ethiopia co...    NaN  \n",
       "1  A rich, resonant espresso from Thailand, espec...    NaN  \n",
       "2  A high-toned, nuanced Kenya cup, classic in it...    NaN  \n",
       "3  A playful, unrestrained fruit bomb of a coffee...    NaN  \n",
       "4  An espresso blend in which spice notes — in pa...    NaN  \n",
       "\n",
       "[5 rows x 34 columns]"
      ]
     },
     "execution_count": 48,
     "metadata": {},
     "output_type": "execute_result"
    }
   ],
   "source": [
    "coffee_original_df.head()"
   ]
  },
  {
   "cell_type": "code",
   "execution_count": 49,
   "id": "4589dea7",
   "metadata": {},
   "outputs": [
    {
     "data": {
      "text/html": [
       "<div>\n",
       "<style scoped>\n",
       "    .dataframe tbody tr th:only-of-type {\n",
       "        vertical-align: middle;\n",
       "    }\n",
       "\n",
       "    .dataframe tbody tr th {\n",
       "        vertical-align: top;\n",
       "    }\n",
       "\n",
       "    .dataframe thead th {\n",
       "        text-align: right;\n",
       "    }\n",
       "</style>\n",
       "<table border=\"1\" class=\"dataframe\">\n",
       "  <thead>\n",
       "    <tr style=\"text-align: right;\">\n",
       "      <th></th>\n",
       "      <th>all_text</th>\n",
       "      <th>name</th>\n",
       "      <th>rating</th>\n",
       "      <th>roaster</th>\n",
       "      <th>slug</th>\n",
       "      <th>region_africa_arabia</th>\n",
       "      <th>region_caribbean</th>\n",
       "      <th>region_central_america</th>\n",
       "      <th>region_hawaii</th>\n",
       "      <th>region_asia_pacific</th>\n",
       "      <th>...</th>\n",
       "      <th>aroma</th>\n",
       "      <th>acid</th>\n",
       "      <th>body</th>\n",
       "      <th>flavor</th>\n",
       "      <th>aftertaste</th>\n",
       "      <th>with_milk</th>\n",
       "      <th>desc_1</th>\n",
       "      <th>desc_2</th>\n",
       "      <th>desc_3</th>\n",
       "      <th>desc_4</th>\n",
       "    </tr>\n",
       "  </thead>\n",
       "  <tbody>\n",
       "    <tr>\n",
       "      <th>1</th>\n",
       "      <td>\\n\\n\\n\\n\\n91\\nDoi Chaang Coffee\\nEspresso\\nLoc...</td>\n",
       "      <td>Espresso</td>\n",
       "      <td>91</td>\n",
       "      <td>Doi Chaang Coffee</td>\n",
       "      <td>/review/espresso-14</td>\n",
       "      <td>0</td>\n",
       "      <td>0</td>\n",
       "      <td>0</td>\n",
       "      <td>0</td>\n",
       "      <td>1</td>\n",
       "      <td>...</td>\n",
       "      <td>8.0</td>\n",
       "      <td>NaN</td>\n",
       "      <td>8.0</td>\n",
       "      <td>8.0</td>\n",
       "      <td>8.0</td>\n",
       "      <td>9.0</td>\n",
       "      <td>Evaluated as espresso. Deeply rich, sweetly ro...</td>\n",
       "      <td>Doi Chaang is a single-estate coffee produced ...</td>\n",
       "      <td>A rich, resonant espresso from Thailand, espec...</td>\n",
       "      <td>NaN</td>\n",
       "    </tr>\n",
       "    <tr>\n",
       "      <th>2129</th>\n",
       "      <td>\\n\\n\\n\\n\\n91\\nWild Hawk Coffee\\nEspresso\\nLoca...</td>\n",
       "      <td>Espresso</td>\n",
       "      <td>91</td>\n",
       "      <td>Wild Hawk Coffee</td>\n",
       "      <td>/review/espresso-6</td>\n",
       "      <td>0</td>\n",
       "      <td>0</td>\n",
       "      <td>0</td>\n",
       "      <td>0</td>\n",
       "      <td>0</td>\n",
       "      <td>...</td>\n",
       "      <td>9.0</td>\n",
       "      <td>NaN</td>\n",
       "      <td>9.0</td>\n",
       "      <td>8.0</td>\n",
       "      <td>7.0</td>\n",
       "      <td>8.0</td>\n",
       "      <td>Evaluated as espresso. Impressive aroma: rich,...</td>\n",
       "      <td>Wild Hawk Coffee is a small-batch coffee roast...</td>\n",
       "      <td>NaN</td>\n",
       "      <td>A sophisticated darker roasted espresso, with ...</td>\n",
       "    </tr>\n",
       "    <tr>\n",
       "      <th>2804</th>\n",
       "      <td>\\n\\n\\n\\n\\n89\\nCaribou Coffee\\nEspresso\\nLocati...</td>\n",
       "      <td>Espresso</td>\n",
       "      <td>89</td>\n",
       "      <td>Caribou Coffee</td>\n",
       "      <td>/review/espresso-13</td>\n",
       "      <td>0</td>\n",
       "      <td>0</td>\n",
       "      <td>0</td>\n",
       "      <td>0</td>\n",
       "      <td>0</td>\n",
       "      <td>...</td>\n",
       "      <td>9.0</td>\n",
       "      <td>NaN</td>\n",
       "      <td>7.0</td>\n",
       "      <td>8.0</td>\n",
       "      <td>7.0</td>\n",
       "      <td>8.0</td>\n",
       "      <td>Evaluated as espresso. Intense, complex aroma:...</td>\n",
       "      <td>This espresso blend is Rainforest Alliance cer...</td>\n",
       "      <td>NaN</td>\n",
       "      <td>Lovers of classic American-style espresso: dar...</td>\n",
       "    </tr>\n",
       "    <tr>\n",
       "      <th>2837</th>\n",
       "      <td>\\n\\n\\n\\n\\n92\\nCafe Excellence\\nEspresso\\nLocat...</td>\n",
       "      <td>Espresso</td>\n",
       "      <td>92</td>\n",
       "      <td>Cafe Excellence</td>\n",
       "      <td>/review/espresso-12</td>\n",
       "      <td>0</td>\n",
       "      <td>0</td>\n",
       "      <td>0</td>\n",
       "      <td>0</td>\n",
       "      <td>0</td>\n",
       "      <td>...</td>\n",
       "      <td>8.0</td>\n",
       "      <td>NaN</td>\n",
       "      <td>8.0</td>\n",
       "      <td>9.0</td>\n",
       "      <td>8.0</td>\n",
       "      <td>9.0</td>\n",
       "      <td>Evaluated as espresso. Deep and sweet-toned in...</td>\n",
       "      <td>Family-owned Café Excellence is a coffee roast...</td>\n",
       "      <td>NaN</td>\n",
       "      <td>Complexity and balance in a fine medium-bodied...</td>\n",
       "    </tr>\n",
       "    <tr>\n",
       "      <th>3128</th>\n",
       "      <td>\\n\\n\\n\\n\\n90\\nCoffea Roasters\\nEspresso\\nLocat...</td>\n",
       "      <td>Espresso</td>\n",
       "      <td>90</td>\n",
       "      <td>Coffea Roasters</td>\n",
       "      <td>/review/espresso-11</td>\n",
       "      <td>0</td>\n",
       "      <td>0</td>\n",
       "      <td>0</td>\n",
       "      <td>0</td>\n",
       "      <td>0</td>\n",
       "      <td>...</td>\n",
       "      <td>8.0</td>\n",
       "      <td>NaN</td>\n",
       "      <td>8.0</td>\n",
       "      <td>9.0</td>\n",
       "      <td>7.0</td>\n",
       "      <td>8.0</td>\n",
       "      <td>Dark chocolate, aromatic wood and an apricot-l...</td>\n",
       "      <td>Run by the Solares family, Coffea Roasters is ...</td>\n",
       "      <td>NaN</td>\n",
       "      <td>Best as a straight shot, where its classic bal...</td>\n",
       "    </tr>\n",
       "  </tbody>\n",
       "</table>\n",
       "<p>5 rows × 34 columns</p>\n",
       "</div>"
      ],
      "text/plain": [
       "                                               all_text      name rating  \\\n",
       "1     \\n\\n\\n\\n\\n91\\nDoi Chaang Coffee\\nEspresso\\nLoc...  Espresso     91   \n",
       "2129  \\n\\n\\n\\n\\n91\\nWild Hawk Coffee\\nEspresso\\nLoca...  Espresso     91   \n",
       "2804  \\n\\n\\n\\n\\n89\\nCaribou Coffee\\nEspresso\\nLocati...  Espresso     89   \n",
       "2837  \\n\\n\\n\\n\\n92\\nCafe Excellence\\nEspresso\\nLocat...  Espresso     92   \n",
       "3128  \\n\\n\\n\\n\\n90\\nCoffea Roasters\\nEspresso\\nLocat...  Espresso     90   \n",
       "\n",
       "                roaster                 slug  region_africa_arabia  \\\n",
       "1     Doi Chaang Coffee  /review/espresso-14                     0   \n",
       "2129   Wild Hawk Coffee   /review/espresso-6                     0   \n",
       "2804     Caribou Coffee  /review/espresso-13                     0   \n",
       "2837    Cafe Excellence  /review/espresso-12                     0   \n",
       "3128    Coffea Roasters  /review/espresso-11                     0   \n",
       "\n",
       "      region_caribbean  region_central_america  region_hawaii  \\\n",
       "1                    0                       0              0   \n",
       "2129                 0                       0              0   \n",
       "2804                 0                       0              0   \n",
       "2837                 0                       0              0   \n",
       "3128                 0                       0              0   \n",
       "\n",
       "      region_asia_pacific  ...  aroma  acid  body  flavor  aftertaste  \\\n",
       "1                       1  ...    8.0   NaN   8.0     8.0         8.0   \n",
       "2129                    0  ...    9.0   NaN   9.0     8.0         7.0   \n",
       "2804                    0  ...    9.0   NaN   7.0     8.0         7.0   \n",
       "2837                    0  ...    8.0   NaN   8.0     9.0         8.0   \n",
       "3128                    0  ...    8.0   NaN   8.0     9.0         7.0   \n",
       "\n",
       "      with_milk                                             desc_1  \\\n",
       "1           9.0  Evaluated as espresso. Deeply rich, sweetly ro...   \n",
       "2129        8.0  Evaluated as espresso. Impressive aroma: rich,...   \n",
       "2804        8.0  Evaluated as espresso. Intense, complex aroma:...   \n",
       "2837        9.0  Evaluated as espresso. Deep and sweet-toned in...   \n",
       "3128        8.0  Dark chocolate, aromatic wood and an apricot-l...   \n",
       "\n",
       "                                                 desc_2  \\\n",
       "1     Doi Chaang is a single-estate coffee produced ...   \n",
       "2129  Wild Hawk Coffee is a small-batch coffee roast...   \n",
       "2804  This espresso blend is Rainforest Alliance cer...   \n",
       "2837  Family-owned Café Excellence is a coffee roast...   \n",
       "3128  Run by the Solares family, Coffea Roasters is ...   \n",
       "\n",
       "                                                 desc_3  \\\n",
       "1     A rich, resonant espresso from Thailand, espec...   \n",
       "2129                                                NaN   \n",
       "2804                                                NaN   \n",
       "2837                                                NaN   \n",
       "3128                                                NaN   \n",
       "\n",
       "                                                 desc_4  \n",
       "1                                                   NaN  \n",
       "2129  A sophisticated darker roasted espresso, with ...  \n",
       "2804  Lovers of classic American-style espresso: dar...  \n",
       "2837  Complexity and balance in a fine medium-bodied...  \n",
       "3128  Best as a straight shot, where its classic bal...  \n",
       "\n",
       "[5 rows x 34 columns]"
      ]
     },
     "execution_count": 49,
     "metadata": {},
     "output_type": "execute_result"
    }
   ],
   "source": [
    "espresso_rows = coffee_original_df[coffee_original_df['name'] == 'Espresso']\n",
    "espresso_rows.head()"
   ]
  },
  {
   "cell_type": "code",
   "execution_count": 50,
   "id": "24edbae2-629d-4e24-b85f-bb0acab169b9",
   "metadata": {},
   "outputs": [
    {
     "data": {
      "text/plain": [
       "(5124, 34)"
      ]
     },
     "execution_count": 50,
     "metadata": {},
     "output_type": "execute_result"
    }
   ],
   "source": [
    "coffee_original_df.shape"
   ]
  },
  {
   "cell_type": "code",
   "execution_count": 51,
   "id": "bd32b4c1-3800-40f7-bcc1-d400936ec6b3",
   "metadata": {
    "tags": []
   },
   "outputs": [
    {
     "data": {
      "text/plain": [
       "Index(['all_text', 'name', 'rating', 'roaster', 'slug', 'region_africa_arabia',\n",
       "       'region_caribbean', 'region_central_america', 'region_hawaii',\n",
       "       'region_asia_pacific', 'region_south_america', 'type_espresso',\n",
       "       'type_organic', 'type_fair_trade', 'type_decaffeinated',\n",
       "       'type_pod_capsule', 'type_blend', 'type_estate', 'location', 'origin',\n",
       "       'roast', 'est_price', 'review_date', 'agtron', 'aroma', 'acid', 'body',\n",
       "       'flavor', 'aftertaste', 'with_milk', 'desc_1', 'desc_2', 'desc_3',\n",
       "       'desc_4'],\n",
       "      dtype='object')"
      ]
     },
     "execution_count": 51,
     "metadata": {},
     "output_type": "execute_result"
    }
   ],
   "source": [
    "coffee_original_df.columns"
   ]
  },
  {
   "cell_type": "code",
   "execution_count": 52,
   "id": "c2d98348-7211-41d0-9901-732b9b160987",
   "metadata": {
    "tags": []
   },
   "outputs": [
    {
     "data": {
      "text/html": [
       "<div>\n",
       "<style scoped>\n",
       "    .dataframe tbody tr th:only-of-type {\n",
       "        vertical-align: middle;\n",
       "    }\n",
       "\n",
       "    .dataframe tbody tr th {\n",
       "        vertical-align: top;\n",
       "    }\n",
       "\n",
       "    .dataframe thead th {\n",
       "        text-align: right;\n",
       "    }\n",
       "</style>\n",
       "<table border=\"1\" class=\"dataframe\">\n",
       "  <thead>\n",
       "    <tr style=\"text-align: right;\">\n",
       "      <th></th>\n",
       "      <th>name</th>\n",
       "      <th>origin</th>\n",
       "      <th>aroma</th>\n",
       "      <th>acid</th>\n",
       "      <th>body</th>\n",
       "      <th>flavor</th>\n",
       "      <th>aftertaste</th>\n",
       "      <th>desc_1</th>\n",
       "      <th>desc_3</th>\n",
       "      <th>desc_4</th>\n",
       "    </tr>\n",
       "  </thead>\n",
       "  <tbody>\n",
       "    <tr>\n",
       "      <th>0</th>\n",
       "      <td>Ethiopia Deri Kochoha</td>\n",
       "      <td>West Guji Zone, Oromia Region, southeastern Et...</td>\n",
       "      <td>9.0</td>\n",
       "      <td>8.0</td>\n",
       "      <td>9.0</td>\n",
       "      <td>9.0</td>\n",
       "      <td>8.0</td>\n",
       "      <td>Bright, crisp, sweetly tart. Citrus medley, ca...</td>\n",
       "      <td>A poised and melodic wet-processed Ethiopia co...</td>\n",
       "      <td>NaN</td>\n",
       "    </tr>\n",
       "    <tr>\n",
       "      <th>1</th>\n",
       "      <td>Espresso</td>\n",
       "      <td>Northern Thailand</td>\n",
       "      <td>8.0</td>\n",
       "      <td>NaN</td>\n",
       "      <td>8.0</td>\n",
       "      <td>8.0</td>\n",
       "      <td>8.0</td>\n",
       "      <td>Evaluated as espresso. Deeply rich, sweetly ro...</td>\n",
       "      <td>A rich, resonant espresso from Thailand, espec...</td>\n",
       "      <td>NaN</td>\n",
       "    </tr>\n",
       "    <tr>\n",
       "      <th>2</th>\n",
       "      <td>Kenya Ruthaka Peaberry</td>\n",
       "      <td>Nyeri growing region, south-central Kenya</td>\n",
       "      <td>9.0</td>\n",
       "      <td>8.0</td>\n",
       "      <td>9.0</td>\n",
       "      <td>10.0</td>\n",
       "      <td>8.0</td>\n",
       "      <td>Deeply sweet, richly savory. Dark chocolate, p...</td>\n",
       "      <td>A high-toned, nuanced Kenya cup, classic in it...</td>\n",
       "      <td>NaN</td>\n",
       "    </tr>\n",
       "    <tr>\n",
       "      <th>3</th>\n",
       "      <td>Ethiopia Gora Kone Sidamo</td>\n",
       "      <td>Sidamo (also Sidama) growing region, south-cen...</td>\n",
       "      <td>9.0</td>\n",
       "      <td>8.0</td>\n",
       "      <td>9.0</td>\n",
       "      <td>9.0</td>\n",
       "      <td>8.0</td>\n",
       "      <td>Fruit-forward, richly chocolaty. Raspberry cou...</td>\n",
       "      <td>A playful, unrestrained fruit bomb of a coffee...</td>\n",
       "      <td>NaN</td>\n",
       "    </tr>\n",
       "    <tr>\n",
       "      <th>4</th>\n",
       "      <td>Specialty Coffee Blend Espresso</td>\n",
       "      <td>Ethiopia, Colombia, Kenya</td>\n",
       "      <td>9.0</td>\n",
       "      <td>NaN</td>\n",
       "      <td>8.0</td>\n",
       "      <td>9.0</td>\n",
       "      <td>8.0</td>\n",
       "      <td>Evaluated as espresso. Rich, chocolaty, sweetl...</td>\n",
       "      <td>An espresso blend in which spice notes — in pa...</td>\n",
       "      <td>NaN</td>\n",
       "    </tr>\n",
       "  </tbody>\n",
       "</table>\n",
       "</div>"
      ],
      "text/plain": [
       "                              name  \\\n",
       "0            Ethiopia Deri Kochoha   \n",
       "1                         Espresso   \n",
       "2           Kenya Ruthaka Peaberry   \n",
       "3        Ethiopia Gora Kone Sidamo   \n",
       "4  Specialty Coffee Blend Espresso   \n",
       "\n",
       "                                              origin  aroma  acid  body  \\\n",
       "0  West Guji Zone, Oromia Region, southeastern Et...    9.0   8.0   9.0   \n",
       "1                                  Northern Thailand    8.0   NaN   8.0   \n",
       "2          Nyeri growing region, south-central Kenya    9.0   8.0   9.0   \n",
       "3  Sidamo (also Sidama) growing region, south-cen...    9.0   8.0   9.0   \n",
       "4                          Ethiopia, Colombia, Kenya    9.0   NaN   8.0   \n",
       "\n",
       "   flavor  aftertaste                                             desc_1  \\\n",
       "0     9.0         8.0  Bright, crisp, sweetly tart. Citrus medley, ca...   \n",
       "1     8.0         8.0  Evaluated as espresso. Deeply rich, sweetly ro...   \n",
       "2    10.0         8.0  Deeply sweet, richly savory. Dark chocolate, p...   \n",
       "3     9.0         8.0  Fruit-forward, richly chocolaty. Raspberry cou...   \n",
       "4     9.0         8.0  Evaluated as espresso. Rich, chocolaty, sweetl...   \n",
       "\n",
       "                                              desc_3 desc_4  \n",
       "0  A poised and melodic wet-processed Ethiopia co...    NaN  \n",
       "1  A rich, resonant espresso from Thailand, espec...    NaN  \n",
       "2  A high-toned, nuanced Kenya cup, classic in it...    NaN  \n",
       "3  A playful, unrestrained fruit bomb of a coffee...    NaN  \n",
       "4  An espresso blend in which spice notes — in pa...    NaN  "
      ]
     },
     "execution_count": 52,
     "metadata": {},
     "output_type": "execute_result"
    }
   ],
   "source": [
    "# Create a dataframe that is only with columns you want \n",
    "coffee_original_df = coffee_original_df[['name', 'origin','aroma','acid','body','flavor','aftertaste','desc_1', 'desc_3','desc_4']]\n",
    "coffee_original_df.head()"
   ]
  },
  {
   "cell_type": "code",
   "execution_count": 53,
   "id": "5a47fae3-11b8-4473-ab08-4146abd1a196",
   "metadata": {
    "tags": []
   },
   "outputs": [
    {
     "data": {
      "text/plain": [
       "(5124, 10)"
      ]
     },
     "execution_count": 53,
     "metadata": {},
     "output_type": "execute_result"
    }
   ],
   "source": [
    "coffee_original_df.shape"
   ]
  },
  {
   "cell_type": "code",
   "execution_count": 54,
   "id": "e287eefe-68c1-4e20-bd1d-3c0e3d984cb3",
   "metadata": {
    "tags": []
   },
   "outputs": [
    {
     "data": {
      "text/plain": [
       "0    Bright, crisp, sweetly tart. Citrus medley, ca...\n",
       "1    Evaluated as espresso. Deeply rich, sweetly ro...\n",
       "2    Deeply sweet, richly savory. Dark chocolate, p...\n",
       "3    Fruit-forward, richly chocolaty. Raspberry cou...\n",
       "4    Evaluated as espresso. Rich, chocolaty, sweetl...\n",
       "Name: text, dtype: object"
      ]
     },
     "execution_count": 54,
     "metadata": {},
     "output_type": "execute_result"
    }
   ],
   "source": [
    "# coffee_original_df= coffee_original_df.dropna()\n",
    "# Fill missing values in 'text' column with the concatenation of 'desc_1', 'desc_3', and 'desc_4'\n",
    "coffee_original_df['text'] = coffee_original_df[['desc_1', 'desc_3', 'desc_4']].fillna(\"\").astype(str).agg(' '.join, axis=1)\n",
    "coffee_original_df['text'].head()"
   ]
  },
  {
   "cell_type": "code",
   "execution_count": 55,
   "id": "92a1ef98-727e-402c-91b7-2c4ecbab75f9",
   "metadata": {
    "tags": []
   },
   "outputs": [
    {
     "name": "stdout",
     "output_type": "stream",
     "text": [
      "<class 'pandas.core.frame.DataFrame'>\n",
      "RangeIndex: 5124 entries, 0 to 5123\n",
      "Data columns (total 11 columns):\n",
      " #   Column      Non-Null Count  Dtype  \n",
      "---  ------      --------------  -----  \n",
      " 0   name        5124 non-null   object \n",
      " 1   origin      4529 non-null   object \n",
      " 2   aroma       5085 non-null   float64\n",
      " 3   acid        4256 non-null   float64\n",
      " 4   body        5111 non-null   float64\n",
      " 5   flavor      5106 non-null   float64\n",
      " 6   aftertaste  4111 non-null   float64\n",
      " 7   desc_1      5124 non-null   object \n",
      " 8   desc_3      971 non-null    object \n",
      " 9   desc_4      4153 non-null   object \n",
      " 10  text        5124 non-null   object \n",
      "dtypes: float64(5), object(6)\n",
      "memory usage: 440.5+ KB\n"
     ]
    }
   ],
   "source": [
    "coffee_original_df.info()"
   ]
  },
  {
   "cell_type": "code",
   "execution_count": 56,
   "id": "686caa98-7bd6-4595-9aa4-0589c5fab26e",
   "metadata": {
    "tags": []
   },
   "outputs": [
    {
     "data": {
      "text/html": [
       "<div>\n",
       "<style scoped>\n",
       "    .dataframe tbody tr th:only-of-type {\n",
       "        vertical-align: middle;\n",
       "    }\n",
       "\n",
       "    .dataframe tbody tr th {\n",
       "        vertical-align: top;\n",
       "    }\n",
       "\n",
       "    .dataframe thead th {\n",
       "        text-align: right;\n",
       "    }\n",
       "</style>\n",
       "<table border=\"1\" class=\"dataframe\">\n",
       "  <thead>\n",
       "    <tr style=\"text-align: right;\">\n",
       "      <th></th>\n",
       "      <th>name</th>\n",
       "      <th>origin</th>\n",
       "      <th>aroma</th>\n",
       "      <th>acid</th>\n",
       "      <th>body</th>\n",
       "      <th>flavor</th>\n",
       "      <th>aftertaste</th>\n",
       "      <th>desc_1</th>\n",
       "      <th>desc_3</th>\n",
       "      <th>desc_4</th>\n",
       "      <th>text</th>\n",
       "    </tr>\n",
       "  </thead>\n",
       "  <tbody>\n",
       "    <tr>\n",
       "      <th>0</th>\n",
       "      <td>Ethiopia Deri Kochoha</td>\n",
       "      <td>West Guji Zone, Oromia Region, southeastern Et...</td>\n",
       "      <td>9.0</td>\n",
       "      <td>8.0</td>\n",
       "      <td>9.0</td>\n",
       "      <td>9.0</td>\n",
       "      <td>8.0</td>\n",
       "      <td>Bright, crisp, sweetly tart. Citrus medley, ca...</td>\n",
       "      <td>A poised and melodic wet-processed Ethiopia co...</td>\n",
       "      <td>NaN</td>\n",
       "      <td>Bright, crisp, sweetly tart. Citrus medley, ca...</td>\n",
       "    </tr>\n",
       "    <tr>\n",
       "      <th>1</th>\n",
       "      <td>Espresso</td>\n",
       "      <td>Northern Thailand</td>\n",
       "      <td>8.0</td>\n",
       "      <td>NaN</td>\n",
       "      <td>8.0</td>\n",
       "      <td>8.0</td>\n",
       "      <td>8.0</td>\n",
       "      <td>Evaluated as espresso. Deeply rich, sweetly ro...</td>\n",
       "      <td>A rich, resonant espresso from Thailand, espec...</td>\n",
       "      <td>NaN</td>\n",
       "      <td>Evaluated as espresso. Deeply rich, sweetly ro...</td>\n",
       "    </tr>\n",
       "    <tr>\n",
       "      <th>2</th>\n",
       "      <td>Kenya Ruthaka Peaberry</td>\n",
       "      <td>Nyeri growing region, south-central Kenya</td>\n",
       "      <td>9.0</td>\n",
       "      <td>8.0</td>\n",
       "      <td>9.0</td>\n",
       "      <td>10.0</td>\n",
       "      <td>8.0</td>\n",
       "      <td>Deeply sweet, richly savory. Dark chocolate, p...</td>\n",
       "      <td>A high-toned, nuanced Kenya cup, classic in it...</td>\n",
       "      <td>NaN</td>\n",
       "      <td>Deeply sweet, richly savory. Dark chocolate, p...</td>\n",
       "    </tr>\n",
       "    <tr>\n",
       "      <th>3</th>\n",
       "      <td>Ethiopia Gora Kone Sidamo</td>\n",
       "      <td>Sidamo (also Sidama) growing region, south-cen...</td>\n",
       "      <td>9.0</td>\n",
       "      <td>8.0</td>\n",
       "      <td>9.0</td>\n",
       "      <td>9.0</td>\n",
       "      <td>8.0</td>\n",
       "      <td>Fruit-forward, richly chocolaty. Raspberry cou...</td>\n",
       "      <td>A playful, unrestrained fruit bomb of a coffee...</td>\n",
       "      <td>NaN</td>\n",
       "      <td>Fruit-forward, richly chocolaty. Raspberry cou...</td>\n",
       "    </tr>\n",
       "    <tr>\n",
       "      <th>4</th>\n",
       "      <td>Specialty Coffee Blend Espresso</td>\n",
       "      <td>Ethiopia, Colombia, Kenya</td>\n",
       "      <td>9.0</td>\n",
       "      <td>NaN</td>\n",
       "      <td>8.0</td>\n",
       "      <td>9.0</td>\n",
       "      <td>8.0</td>\n",
       "      <td>Evaluated as espresso. Rich, chocolaty, sweetl...</td>\n",
       "      <td>An espresso blend in which spice notes — in pa...</td>\n",
       "      <td>NaN</td>\n",
       "      <td>Evaluated as espresso. Rich, chocolaty, sweetl...</td>\n",
       "    </tr>\n",
       "  </tbody>\n",
       "</table>\n",
       "</div>"
      ],
      "text/plain": [
       "                              name  \\\n",
       "0            Ethiopia Deri Kochoha   \n",
       "1                         Espresso   \n",
       "2           Kenya Ruthaka Peaberry   \n",
       "3        Ethiopia Gora Kone Sidamo   \n",
       "4  Specialty Coffee Blend Espresso   \n",
       "\n",
       "                                              origin  aroma  acid  body  \\\n",
       "0  West Guji Zone, Oromia Region, southeastern Et...    9.0   8.0   9.0   \n",
       "1                                  Northern Thailand    8.0   NaN   8.0   \n",
       "2          Nyeri growing region, south-central Kenya    9.0   8.0   9.0   \n",
       "3  Sidamo (also Sidama) growing region, south-cen...    9.0   8.0   9.0   \n",
       "4                          Ethiopia, Colombia, Kenya    9.0   NaN   8.0   \n",
       "\n",
       "   flavor  aftertaste                                             desc_1  \\\n",
       "0     9.0         8.0  Bright, crisp, sweetly tart. Citrus medley, ca...   \n",
       "1     8.0         8.0  Evaluated as espresso. Deeply rich, sweetly ro...   \n",
       "2    10.0         8.0  Deeply sweet, richly savory. Dark chocolate, p...   \n",
       "3     9.0         8.0  Fruit-forward, richly chocolaty. Raspberry cou...   \n",
       "4     9.0         8.0  Evaluated as espresso. Rich, chocolaty, sweetl...   \n",
       "\n",
       "                                              desc_3 desc_4  \\\n",
       "0  A poised and melodic wet-processed Ethiopia co...    NaN   \n",
       "1  A rich, resonant espresso from Thailand, espec...    NaN   \n",
       "2  A high-toned, nuanced Kenya cup, classic in it...    NaN   \n",
       "3  A playful, unrestrained fruit bomb of a coffee...    NaN   \n",
       "4  An espresso blend in which spice notes — in pa...    NaN   \n",
       "\n",
       "                                                text  \n",
       "0  Bright, crisp, sweetly tart. Citrus medley, ca...  \n",
       "1  Evaluated as espresso. Deeply rich, sweetly ro...  \n",
       "2  Deeply sweet, richly savory. Dark chocolate, p...  \n",
       "3  Fruit-forward, richly chocolaty. Raspberry cou...  \n",
       "4  Evaluated as espresso. Rich, chocolaty, sweetl...  "
      ]
     },
     "execution_count": 56,
     "metadata": {},
     "output_type": "execute_result"
    }
   ],
   "source": [
    "coffee_original_df.head()"
   ]
  },
  {
   "cell_type": "code",
   "execution_count": 57,
   "id": "79ba7311-1289-4d15-9681-2c87dbc73ecc",
   "metadata": {
    "tags": []
   },
   "outputs": [
    {
     "data": {
      "text/plain": [
       "(5124, 11)"
      ]
     },
     "execution_count": 57,
     "metadata": {},
     "output_type": "execute_result"
    }
   ],
   "source": [
    "coffee_original_df.shape"
   ]
  },
  {
   "cell_type": "code",
   "execution_count": 58,
   "id": "7d400b1b",
   "metadata": {},
   "outputs": [],
   "source": [
    "from sklearn.feature_extraction.text import TfidfVectorizer\n",
    "\n",
    "tfv = TfidfVectorizer(min_df=3, max_features=None,\n",
    "                      strip_accents ='unicode', analyzer='word', token_pattern= r'\\w{1,}', \n",
    "                      ngram_range = (1,3), \n",
    "                      stop_words = 'english')"
   ]
  },
  {
   "cell_type": "code",
   "execution_count": 59,
   "id": "fb51eecb",
   "metadata": {},
   "outputs": [],
   "source": [
    "tfv_matrix = tfv.fit_transform(coffee_original_df['text'])"
   ]
  },
  {
   "cell_type": "code",
   "execution_count": 60,
   "id": "892027a4",
   "metadata": {},
   "outputs": [
    {
     "data": {
      "text/plain": [
       "<5124x21865 sparse matrix of type '<class 'numpy.float64'>'\n",
       "\twith 364788 stored elements in Compressed Sparse Row format>"
      ]
     },
     "execution_count": 60,
     "metadata": {},
     "output_type": "execute_result"
    }
   ],
   "source": [
    "tfv_matrix"
   ]
  },
  {
   "cell_type": "code",
   "execution_count": 61,
   "id": "870c8f71",
   "metadata": {},
   "outputs": [
    {
     "data": {
      "text/plain": [
       "(5124, 21865)"
      ]
     },
     "execution_count": 61,
     "metadata": {},
     "output_type": "execute_result"
    }
   ],
   "source": [
    "# review records and features\n",
    "tfv_matrix.shape"
   ]
  },
  {
   "cell_type": "code",
   "execution_count": 62,
   "id": "c51bc29a",
   "metadata": {},
   "outputs": [],
   "source": [
    "from sklearn.metrics.pairwise import sigmoid_kernel\n",
    "\n",
    "# Compute the sigmoid kernel \n",
    "sig = sigmoid_kernel(tfv_matrix, tfv_matrix)"
   ]
  },
  {
   "cell_type": "code",
   "execution_count": 63,
   "id": "a4c3db22",
   "metadata": {},
   "outputs": [],
   "source": [
    "# sig[0]"
   ]
  },
  {
   "cell_type": "code",
   "execution_count": 64,
   "id": "f9c87439-5d70-40e8-9410-f8466387d8c4",
   "metadata": {
    "tags": []
   },
   "outputs": [
    {
     "name": "stdout",
     "output_type": "stream",
     "text": [
      "[1321 1201 2600 ... 3575  178 3520]\n"
     ]
    }
   ],
   "source": [
    "# Create label encoder for name  \n",
    "from sklearn.preprocessing import LabelEncoder\n",
    "\n",
    "le_name = LabelEncoder()\n",
    "coffee_original_df['name'] = le_name.fit_transform(coffee_original_df['name'])\n",
    "print(coffee_original_df['name'].unique()) "
   ]
  },
  {
   "cell_type": "code",
   "execution_count": 65,
   "id": "a0bfdb0e",
   "metadata": {},
   "outputs": [
    {
     "ename": "KeyError",
     "evalue": "'slug'",
     "output_type": "error",
     "traceback": [
      "\u001b[1;31m---------------------------------------------------------------------------\u001b[0m",
      "\u001b[1;31mKeyError\u001b[0m                                  Traceback (most recent call last)",
      "File \u001b[1;32mc:\\Users\\jesss\\anaconda3\\envs\\PythonData\\Lib\\site-packages\\pandas\\core\\indexes\\base.py:3790\u001b[0m, in \u001b[0;36mIndex.get_loc\u001b[1;34m(self, key)\u001b[0m\n\u001b[0;32m   3789\u001b[0m \u001b[38;5;28;01mtry\u001b[39;00m:\n\u001b[1;32m-> 3790\u001b[0m     \u001b[38;5;28;01mreturn\u001b[39;00m \u001b[38;5;28mself\u001b[39m\u001b[38;5;241m.\u001b[39m_engine\u001b[38;5;241m.\u001b[39mget_loc(casted_key)\n\u001b[0;32m   3791\u001b[0m \u001b[38;5;28;01mexcept\u001b[39;00m \u001b[38;5;167;01mKeyError\u001b[39;00m \u001b[38;5;28;01mas\u001b[39;00m err:\n",
      "File \u001b[1;32mindex.pyx:152\u001b[0m, in \u001b[0;36mpandas._libs.index.IndexEngine.get_loc\u001b[1;34m()\u001b[0m\n",
      "File \u001b[1;32mindex.pyx:181\u001b[0m, in \u001b[0;36mpandas._libs.index.IndexEngine.get_loc\u001b[1;34m()\u001b[0m\n",
      "File \u001b[1;32mpandas\\_libs\\hashtable_class_helper.pxi:7080\u001b[0m, in \u001b[0;36mpandas._libs.hashtable.PyObjectHashTable.get_item\u001b[1;34m()\u001b[0m\n",
      "File \u001b[1;32mpandas\\_libs\\hashtable_class_helper.pxi:7088\u001b[0m, in \u001b[0;36mpandas._libs.hashtable.PyObjectHashTable.get_item\u001b[1;34m()\u001b[0m\n",
      "\u001b[1;31mKeyError\u001b[0m: 'slug'",
      "\nThe above exception was the direct cause of the following exception:\n",
      "\u001b[1;31mKeyError\u001b[0m                                  Traceback (most recent call last)",
      "Cell \u001b[1;32mIn[65], line 2\u001b[0m\n\u001b[0;32m      1\u001b[0m \u001b[38;5;66;03m# Allow for indices for each name \u001b[39;00m\n\u001b[1;32m----> 2\u001b[0m indices \u001b[38;5;241m=\u001b[39m pd\u001b[38;5;241m.\u001b[39mSeries(coffee_original_df\u001b[38;5;241m.\u001b[39mindex, index\u001b[38;5;241m=\u001b[39mcoffee_original_df[\u001b[38;5;124m'\u001b[39m\u001b[38;5;124mslug\u001b[39m\u001b[38;5;124m'\u001b[39m]\u001b[38;5;241m.\u001b[39mstr\u001b[38;5;241m.\u001b[39mstrip())\u001b[38;5;241m.\u001b[39mdrop_duplicates()\n",
      "File \u001b[1;32mc:\\Users\\jesss\\anaconda3\\envs\\PythonData\\Lib\\site-packages\\pandas\\core\\frame.py:3896\u001b[0m, in \u001b[0;36mDataFrame.__getitem__\u001b[1;34m(self, key)\u001b[0m\n\u001b[0;32m   3894\u001b[0m \u001b[38;5;28;01mif\u001b[39;00m \u001b[38;5;28mself\u001b[39m\u001b[38;5;241m.\u001b[39mcolumns\u001b[38;5;241m.\u001b[39mnlevels \u001b[38;5;241m>\u001b[39m \u001b[38;5;241m1\u001b[39m:\n\u001b[0;32m   3895\u001b[0m     \u001b[38;5;28;01mreturn\u001b[39;00m \u001b[38;5;28mself\u001b[39m\u001b[38;5;241m.\u001b[39m_getitem_multilevel(key)\n\u001b[1;32m-> 3896\u001b[0m indexer \u001b[38;5;241m=\u001b[39m \u001b[38;5;28mself\u001b[39m\u001b[38;5;241m.\u001b[39mcolumns\u001b[38;5;241m.\u001b[39mget_loc(key)\n\u001b[0;32m   3897\u001b[0m \u001b[38;5;28;01mif\u001b[39;00m is_integer(indexer):\n\u001b[0;32m   3898\u001b[0m     indexer \u001b[38;5;241m=\u001b[39m [indexer]\n",
      "File \u001b[1;32mc:\\Users\\jesss\\anaconda3\\envs\\PythonData\\Lib\\site-packages\\pandas\\core\\indexes\\base.py:3797\u001b[0m, in \u001b[0;36mIndex.get_loc\u001b[1;34m(self, key)\u001b[0m\n\u001b[0;32m   3792\u001b[0m     \u001b[38;5;28;01mif\u001b[39;00m \u001b[38;5;28misinstance\u001b[39m(casted_key, \u001b[38;5;28mslice\u001b[39m) \u001b[38;5;129;01mor\u001b[39;00m (\n\u001b[0;32m   3793\u001b[0m         \u001b[38;5;28misinstance\u001b[39m(casted_key, abc\u001b[38;5;241m.\u001b[39mIterable)\n\u001b[0;32m   3794\u001b[0m         \u001b[38;5;129;01mand\u001b[39;00m \u001b[38;5;28many\u001b[39m(\u001b[38;5;28misinstance\u001b[39m(x, \u001b[38;5;28mslice\u001b[39m) \u001b[38;5;28;01mfor\u001b[39;00m x \u001b[38;5;129;01min\u001b[39;00m casted_key)\n\u001b[0;32m   3795\u001b[0m     ):\n\u001b[0;32m   3796\u001b[0m         \u001b[38;5;28;01mraise\u001b[39;00m InvalidIndexError(key)\n\u001b[1;32m-> 3797\u001b[0m     \u001b[38;5;28;01mraise\u001b[39;00m \u001b[38;5;167;01mKeyError\u001b[39;00m(key) \u001b[38;5;28;01mfrom\u001b[39;00m \u001b[38;5;21;01merr\u001b[39;00m\n\u001b[0;32m   3798\u001b[0m \u001b[38;5;28;01mexcept\u001b[39;00m \u001b[38;5;167;01mTypeError\u001b[39;00m:\n\u001b[0;32m   3799\u001b[0m     \u001b[38;5;66;03m# If we have a listlike key, _check_indexing_error will raise\u001b[39;00m\n\u001b[0;32m   3800\u001b[0m     \u001b[38;5;66;03m#  InvalidIndexError. Otherwise we fall through and re-raise\u001b[39;00m\n\u001b[0;32m   3801\u001b[0m     \u001b[38;5;66;03m#  the TypeError.\u001b[39;00m\n\u001b[0;32m   3802\u001b[0m     \u001b[38;5;28mself\u001b[39m\u001b[38;5;241m.\u001b[39m_check_indexing_error(key)\n",
      "\u001b[1;31mKeyError\u001b[0m: 'slug'"
     ]
    }
   ],
   "source": [
    "# Allow for indices for each name \n",
    "indices = pd.Series(coffee_original_df.index, index=coffee_original_df['slug'].str.strip()).drop_duplicates()\n"
   ]
  },
  {
   "cell_type": "code",
   "execution_count": null,
   "id": "6b30432c",
   "metadata": {},
   "outputs": [],
   "source": [
    "indices"
   ]
  },
  {
   "cell_type": "code",
   "execution_count": null,
   "id": "73f4edff",
   "metadata": {},
   "outputs": [],
   "source": [
    "indices['/review/special-roast']"
   ]
  },
  {
   "cell_type": "code",
   "execution_count": null,
   "id": "ff632203",
   "metadata": {},
   "outputs": [],
   "source": [
    "def coffee_recommended(aroma, body, flavor, acid, aftertaste, sig, indices):\n",
    "  \n",
    "    # Create a DataFrame with user input\n",
    "    user_input = pd.DataFrame({'aroma': [aroma], 'body': [body], 'flavor': [flavor],\n",
    "                               'acid': [acid], 'aftertaste': [aftertaste]})\n",
    "\n",
    "    # Use the TfidfVectorizer to transform user input into a feature vector\n",
    "    user_vector = tfv.transform(user_input.astype(str).agg(' '.join, axis=1))\n",
    "\n",
    "    # Calculate similarity scores between user input and all coffees\n",
    "    sig_scores = cosine_similarity(user_vector, sig).flatten()\n",
    "\n",
    "    # Get indices of similar coffees\n",
    "    sig_scores_with_index = list(enumerate(sig_scores))\n",
    "    sig_scores_with_index = sorted(sig_scores_with_index, key=lambda x: x[1], reverse=True)\n",
    "    similar_indices = [i[0] for i in sig_scores_with_index]\n",
    "\n",
    "    # Return top 5 similar coffees\n",
    "    return coffee_original_df['name'].iloc[similar_indices]\n"
   ]
  },
  {
   "cell_type": "code",
   "execution_count": null,
   "id": "1e0316ad-110f-4115-8695-d1f7d13c5e08",
   "metadata": {
    "tags": []
   },
   "outputs": [
    {
     "name": "stdout",
     "output_type": "stream",
     "text": [
      "Column: name\n",
      "['Ethiopia Deri Kochoha' 'Kenya Ruthaka Peaberry'\n",
      " 'Ethiopia Gora Kone Sidamo' ... 'Rwanda Gorilla Blend'\n",
      " 'Cafe Quindio Gourmet Colombian' 'La Mattina Sumatra']\n",
      "\n",
      "\n",
      "Column: origin\n",
      "['West Guji Zone, Oromia Region, southeastern Ethiopia'\n",
      " 'Nyeri growing region, south-central Kenya'\n",
      " 'Sidamo (also Sidama) growing region, south-central Ethiopia' ...\n",
      " 'Rwanda, Central Africa'\n",
      " 'Armenia growing region, Quindio Department, Colombia'\n",
      " 'Northern provinces of Sumatra, Indonesia']\n",
      "\n",
      "\n",
      "Column: aroma\n",
      "[ 9. 10.  8.  7.  6.  3.  2.  4.  5.]\n",
      "\n",
      "\n",
      "Column: acid\n",
      "[ 8.  9.  7.  6.  4.  3.  2.  5. 10.]\n",
      "\n",
      "\n",
      "Column: body\n",
      "[ 9.  8. 10.  7.  6.  5.]\n",
      "\n",
      "\n",
      "Column: flavor\n",
      "[ 9. 10.  8.  7.  6.  3.  2.  1.  4.  5.]\n",
      "\n",
      "\n",
      "Column: aftertaste\n",
      "[ 8.  9.  7.  6.  4.  3.  2.  5. 10.]\n",
      "\n",
      "\n"
     ]
    }
   ],
   "source": [
    "# Identify unique values\n",
    "# ------------------------------------------------\n",
    "\n",
    "# Create an empty dictionary to store unique values for each column\n",
    "unique_values = {}\n",
    "\n",
    "# Loop through the columns and find unique values\n",
    "for column in coffee_original_df.columns:\n",
    "    unique_values[column] = coffee_original_df[column].unique()\n",
    "\n",
    "# Display unique values for each column\n",
    "for column, values in unique_values.items():\n",
    "    print(f'Column: {column}')\n",
    "    print(values)\n",
    "    print('\\n')"
   ]
  },
  {
   "cell_type": "code",
   "execution_count": null,
   "id": "96b07eb7-de7c-4902-8818-f6ea121d0e6e",
   "metadata": {
    "tags": []
   },
   "outputs": [
    {
     "data": {
      "text/html": [
       "<div>\n",
       "<style scoped>\n",
       "    .dataframe tbody tr th:only-of-type {\n",
       "        vertical-align: middle;\n",
       "    }\n",
       "\n",
       "    .dataframe tbody tr th {\n",
       "        vertical-align: top;\n",
       "    }\n",
       "\n",
       "    .dataframe thead th {\n",
       "        text-align: right;\n",
       "    }\n",
       "</style>\n",
       "<table border=\"1\" class=\"dataframe\">\n",
       "  <thead>\n",
       "    <tr style=\"text-align: right;\">\n",
       "      <th></th>\n",
       "      <th>name</th>\n",
       "      <th>origin</th>\n",
       "      <th>aroma</th>\n",
       "      <th>acid</th>\n",
       "      <th>body</th>\n",
       "      <th>flavor</th>\n",
       "      <th>aftertaste</th>\n",
       "    </tr>\n",
       "  </thead>\n",
       "  <tbody>\n",
       "    <tr>\n",
       "      <th>0</th>\n",
       "      <td>Ethiopia Deri Kochoha</td>\n",
       "      <td>West Guji Zone, Oromia Region, southeastern Et...</td>\n",
       "      <td>9.0</td>\n",
       "      <td>8.0</td>\n",
       "      <td>9.0</td>\n",
       "      <td>9.0</td>\n",
       "      <td>8.0</td>\n",
       "    </tr>\n",
       "    <tr>\n",
       "      <th>2</th>\n",
       "      <td>Kenya Ruthaka Peaberry</td>\n",
       "      <td>Nyeri growing region, south-central Kenya</td>\n",
       "      <td>9.0</td>\n",
       "      <td>8.0</td>\n",
       "      <td>9.0</td>\n",
       "      <td>10.0</td>\n",
       "      <td>8.0</td>\n",
       "    </tr>\n",
       "    <tr>\n",
       "      <th>3</th>\n",
       "      <td>Ethiopia Gora Kone Sidamo</td>\n",
       "      <td>Sidamo (also Sidama) growing region, south-cen...</td>\n",
       "      <td>9.0</td>\n",
       "      <td>8.0</td>\n",
       "      <td>9.0</td>\n",
       "      <td>9.0</td>\n",
       "      <td>8.0</td>\n",
       "    </tr>\n",
       "    <tr>\n",
       "      <th>5</th>\n",
       "      <td>Honduras Las Flores Parainema</td>\n",
       "      <td>Santa Bárbara, Honduras</td>\n",
       "      <td>9.0</td>\n",
       "      <td>8.0</td>\n",
       "      <td>9.0</td>\n",
       "      <td>9.0</td>\n",
       "      <td>8.0</td>\n",
       "    </tr>\n",
       "    <tr>\n",
       "      <th>6</th>\n",
       "      <td>Kivu DR Congo</td>\n",
       "      <td>Kalehe, South Kivu Province, Democratic Republ...</td>\n",
       "      <td>9.0</td>\n",
       "      <td>8.0</td>\n",
       "      <td>9.0</td>\n",
       "      <td>9.0</td>\n",
       "      <td>8.0</td>\n",
       "    </tr>\n",
       "  </tbody>\n",
       "</table>\n",
       "</div>"
      ],
      "text/plain": [
       "                            name  \\\n",
       "0          Ethiopia Deri Kochoha   \n",
       "2         Kenya Ruthaka Peaberry   \n",
       "3      Ethiopia Gora Kone Sidamo   \n",
       "5  Honduras Las Flores Parainema   \n",
       "6                  Kivu DR Congo   \n",
       "\n",
       "                                              origin  aroma  acid  body  \\\n",
       "0  West Guji Zone, Oromia Region, southeastern Et...    9.0   8.0   9.0   \n",
       "2          Nyeri growing region, south-central Kenya    9.0   8.0   9.0   \n",
       "3  Sidamo (also Sidama) growing region, south-cen...    9.0   8.0   9.0   \n",
       "5                            Santa Bárbara, Honduras    9.0   8.0   9.0   \n",
       "6  Kalehe, South Kivu Province, Democratic Republ...    9.0   8.0   9.0   \n",
       "\n",
       "   flavor  aftertaste  \n",
       "0     9.0         8.0  \n",
       "2    10.0         8.0  \n",
       "3     9.0         8.0  \n",
       "5     9.0         8.0  \n",
       "6     9.0         8.0  "
      ]
     },
     "execution_count": 219,
     "metadata": {},
     "output_type": "execute_result"
    }
   ],
   "source": [
    "coffee_original_df.head()"
   ]
  },
  {
   "cell_type": "code",
   "execution_count": null,
   "id": "7e6f90da-69a3-4dc3-a042-aec0ef84ba34",
   "metadata": {
    "tags": []
   },
   "outputs": [
    {
     "data": {
      "text/plain": [
       "name          0\n",
       "origin        0\n",
       "aroma         0\n",
       "acid          0\n",
       "body          0\n",
       "flavor        0\n",
       "aftertaste    0\n",
       "dtype: int64"
      ]
     },
     "execution_count": 220,
     "metadata": {},
     "output_type": "execute_result"
    }
   ],
   "source": [
    "# Confirm there is no null data \n",
    "coffee_original_df.isnull().sum()"
   ]
  },
  {
   "cell_type": "code",
   "execution_count": null,
   "id": "42a76e18-81a6-403f-b4c4-343c4b59d289",
   "metadata": {
    "tags": []
   },
   "outputs": [
    {
     "data": {
      "text/plain": [
       "origin\n",
       "Not disclosed.                                                       152\n",
       "Boquete growing region, western Panama                               101\n",
       "Yirgacheffe growing region, southern Ethiopia.                       100\n",
       "Yirgacheffe growing region, southern Ethiopia                         78\n",
       "South-central Kenya.                                                  60\n",
       "                                                                    ... \n",
       "Captain Cook, North Kona growing district, “Big Island” of Hawaii      1\n",
       "Puna District, \"Big Island\" of Hawaii.                                 1\n",
       "Waialua, Oahu, Hawaii.                                                 1\n",
       "Ka'anapali, Maui, Hawaii.                                              1\n",
       "West Guji Zone, Oromia Region, southeastern Ethiopia                   1\n",
       "Name: count, Length: 1094, dtype: int64"
      ]
     },
     "execution_count": 221,
     "metadata": {},
     "output_type": "execute_result"
    }
   ],
   "source": [
    "coffee_original_df['origin'].value_counts()"
   ]
  },
  {
   "cell_type": "code",
   "execution_count": null,
   "id": "a2088450-61da-47aa-9896-a13621fe2f79",
   "metadata": {
    "tags": []
   },
   "outputs": [],
   "source": [
    "def shorten_categories(categories, cutoff): \n",
    "    categorical_map = {} \n",
    "    for i in range(len(categories)): \n",
    "        if categories.values[i]>= cutoff:\n",
    "            categorical_map[categories.index[i]] = categories.index[i]\n",
    "        else:\n",
    "            categorical_map[categories.index[i]] = 'Other'\n",
    "    return categorical_map "
   ]
  },
  {
   "cell_type": "code",
   "execution_count": null,
   "id": "5bf9f424-8cb9-4e9d-a2da-fe6a9d316c78",
   "metadata": {
    "tags": []
   },
   "outputs": [
    {
     "data": {
      "text/plain": [
       "origin\n",
       "Other                                                                        1970\n",
       "Not disclosed.                                                                152\n",
       "Boquete growing region, western Panama                                        101\n",
       "Yirgacheffe growing region, southern Ethiopia.                                100\n",
       "Yirgacheffe growing region, southern Ethiopia                                  78\n",
       "South-central Kenya.                                                           60\n",
       "Colombia                                                                       53\n",
       "Nyeri growing region, south-central Kenya                                      52\n",
       "South-central Kenya                                                            45\n",
       "Huehuetenango growing region, Guatemala.                                       41\n",
       "Northern Sumatra, Indonesia                                                    39\n",
       "Yirgacheffe growing region, Sidamo Province, southern Ethiopia.                38\n",
       "Nyeri growing region, south-central Kenya.                                     29\n",
       "Yirgacheffe growing region, south-central Ethiopia.                            23\n",
       "Sidamo (also Sidama) growing region, southern Ethiopia.                        22\n",
       "Not disclosed                                                                  22\n",
       "Sidamo growing region, southern Ethiopia.                                      22\n",
       "Nyeri County, Central Highlands, Kenya.                                        21\n",
       "Central Valley, Costa Rica                                                     18\n",
       "Sidama (also Sidamo) growing region, southern Ethiopia.                        17\n",
       "Northern Thailand.                                                             16\n",
       "Yirgacheffe growing region, south-central Ethiopia                             16\n",
       "Not Disclosed                                                                  16\n",
       "Narino Department, southern Colombia                                           16\n",
       "Huehuetenango growing region, Guatemala                                        16\n",
       "Santa Ana Department, El Salvador.                                             15\n",
       "Cerrado growing region, Minas Gerais State, Brazil.                            15\n",
       "Lintong growing region, northern Sumatra, Indonesia.                           15\n",
       "Tarrazu growing region, central Costa Rica.                                    15\n",
       "Central Kenya.                                                                 15\n",
       "Kenya                                                                          14\n",
       "Valle del Cauca growing region, Colombia.                                      14\n",
       "Rwanda.                                                                        14\n",
       "Holualoa, North Kona growing district, “Big Island” of Hawaii                  14\n",
       "Silla Del Pando, Volcan, Panama.                                               13\n",
       "Kirinyaga District, south-central Kenya                                        13\n",
       "Southern Ethiopia                                                              13\n",
       "El Salvador                                                                    13\n",
       "Lintong growing region, North Sumatra Province, Indonesia                      13\n",
       "Tarrazu growing region, central Costa Rica                                     13\n",
       "Kona growing district, \"Big Island\" of Hawaii.                                 12\n",
       "Santa Barbara Department, Honduras.                                            12\n",
       "Huila Department, Colombia                                                     12\n",
       "Huila Department, southern Colombia                                            12\n",
       "Ka'u growing district, southwestern corner of the \"Big Island\" of Hawaii.      11\n",
       "Boquete growing region, western Panama.                                        11\n",
       "Tarrazu growing region, Costa Rica                                             11\n",
       "Kayanza Province, Burundi.                                                     10\n",
       "Gedeo Zone, Yirgacheffe growing region, southern Ethiopia.                     10\n",
       "Rwanda                                                                         10\n",
       "Sidama (also Sidamo) growing region, southern Ethiopia                         10\n",
       "Kiambu County, south-central Kenya                                             10\n",
       "Antigua valley, Guatemala.                                                     10\n",
       "Highlands of Papua New Guinea                                                  10\n",
       "Name: count, dtype: int64"
      ]
     },
     "execution_count": 223,
     "metadata": {},
     "output_type": "execute_result"
    }
   ],
   "source": [
    "origin_map = shorten_categories(coffee_original_df.origin.value_counts(),10)\n",
    "coffee_original_df['origin']= coffee_original_df['origin'].map(origin_map)\n",
    "coffee_original_df.origin.value_counts()"
   ]
  },
  {
   "cell_type": "code",
   "execution_count": null,
   "id": "43b1ae98-34f3-41c4-8a75-d6b80e2ce3d6",
   "metadata": {
    "tags": []
   },
   "outputs": [
    {
     "data": {
      "image/png": "[encoded data removed]",
      "text/plain": [
       "<Figure size 1200x700 with 1 Axes>"
      ]
     },
     "metadata": {},
     "output_type": "display_data"
    }
   ],
   "source": [
    "fig, ax = plt.subplots(1,1, figsize=(12,7))\n",
    "coffee_original_df.boxplot('flavor','origin', ax=ax)\n",
    "plt.suptitle('Flavor vs. origin')\n",
    "plt.title('')\n",
    "plt.ylabel('Flavor')\n",
    "plt.xticks(rotation=90)\n",
    "plt.show()"
   ]
  },
  {
   "cell_type": "code",
   "execution_count": null,
   "id": "3e2c9ade",
   "metadata": {},
   "outputs": [
    {
     "data": {
      "text/html": [
       "<div>\n",
       "<style scoped>\n",
       "    .dataframe tbody tr th:only-of-type {\n",
       "        vertical-align: middle;\n",
       "    }\n",
       "\n",
       "    .dataframe tbody tr th {\n",
       "        vertical-align: top;\n",
       "    }\n",
       "\n",
       "    .dataframe thead th {\n",
       "        text-align: right;\n",
       "    }\n",
       "</style>\n",
       "<table border=\"1\" class=\"dataframe\">\n",
       "  <thead>\n",
       "    <tr style=\"text-align: right;\">\n",
       "      <th></th>\n",
       "      <th>name</th>\n",
       "      <th>origin</th>\n",
       "      <th>aroma</th>\n",
       "      <th>acid</th>\n",
       "      <th>body</th>\n",
       "      <th>flavor</th>\n",
       "      <th>aftertaste</th>\n",
       "    </tr>\n",
       "  </thead>\n",
       "  <tbody>\n",
       "    <tr>\n",
       "      <th>0</th>\n",
       "      <td>Ethiopia Deri Kochoha</td>\n",
       "      <td>Other</td>\n",
       "      <td>9.0</td>\n",
       "      <td>8.0</td>\n",
       "      <td>9.0</td>\n",
       "      <td>9.0</td>\n",
       "      <td>8.0</td>\n",
       "    </tr>\n",
       "  </tbody>\n",
       "</table>\n",
       "</div>"
      ],
      "text/plain": [
       "                    name origin  aroma  acid  body  flavor  aftertaste\n",
       "0  Ethiopia Deri Kochoha  Other    9.0   8.0   9.0     9.0         8.0"
      ]
     },
     "execution_count": 225,
     "metadata": {},
     "output_type": "execute_result"
    }
   ],
   "source": [
    "coffee_original_df.head(1)"
   ]
  },
  {
   "cell_type": "code",
   "execution_count": null,
   "id": "6a35f99d-4ce7-4325-84ed-a807c26a4cc1",
   "metadata": {
    "tags": []
   },
   "outputs": [],
   "source": [
    "# # Create label encoder for origin \n",
    "# le_origin = LabelEncoder()\n",
    "# coffee_original_df['origin'] = le_origin.fit_transform(coffee_original_df['origin'])\n",
    "# print(coffee_original_df['origin'].unique()) "
   ]
  },
  {
   "cell_type": "markdown",
   "id": "74a65361",
   "metadata": {},
   "source": [
    "i"
   ]
  },
  {
   "cell_type": "code",
   "execution_count": null,
   "id": "0d09f985-e082-4151-b9ca-cd8a78c530fa",
   "metadata": {
    "tags": []
   },
   "outputs": [],
   "source": [
    "# X = coffee_original_df[['name', 'origin']]\n",
    "# y = coffee_original_df[['acid','body','flavor','aftertaste']]"
   ]
  },
  {
   "cell_type": "code",
   "execution_count": null,
   "id": "53b5d61d-57cb-435f-9877-6784d471ea50",
   "metadata": {
    "tags": []
   },
   "outputs": [],
   "source": [
    "# from sklearn.linear_model import LinearRegression \n",
    "# linear_reg = LinearRegression()\n",
    "# linear_reg.fit(X,y.values)"
   ]
  },
  {
   "cell_type": "code",
   "execution_count": null,
   "id": "6f54dee7-82c9-45c3-899f-99fe4ff3768b",
   "metadata": {
    "tags": []
   },
   "outputs": [],
   "source": [
    "# # Get predictions \n",
    "# y_pred = linear_reg.predict(X)"
   ]
  },
  {
   "cell_type": "code",
   "execution_count": null,
   "id": "c7863b65-d885-4ad0-b654-93dd2f4013b6",
   "metadata": {
    "tags": []
   },
   "outputs": [],
   "source": [
    "# # find the margin of error with the linear regression model based of actual layer vs. predicted label \n",
    "# from sklearn.metrics import mean_squared_error, mean_absolute_error \n",
    "# import numpy as np \n",
    "# lr_error = np.sqrt(mean_squared_error(y,y_pred))"
   ]
  },
  {
   "cell_type": "code",
   "execution_count": null,
   "id": "8c28ce00-e129-4d33-ae4d-c4a659c44d7a",
   "metadata": {
    "tags": []
   },
   "outputs": [],
   "source": [
    "# # Print error \n",
    "# print(f\" Linear Regression Error: {lr_error}\")"
   ]
  },
  {
   "cell_type": "code",
   "execution_count": null,
   "id": "87c5d874-50e1-451e-bdcc-0268d5f866fb",
   "metadata": {
    "tags": []
   },
   "outputs": [],
   "source": [
    "# from sklearn.tree import DecisionTreeRegressor\n",
    "# dec_tree_reg  = DecisionTreeRegressor(random_state=0)\n",
    "# dec_tree_reg.fit(X,y.values)"
   ]
  },
  {
   "cell_type": "code",
   "execution_count": null,
   "id": "666b5455-c261-44d3-b681-8a9d86f760d9",
   "metadata": {
    "tags": []
   },
   "outputs": [],
   "source": [
    "# # Predict the values \n",
    "# y_pred = dec_tree_reg.predict(X)"
   ]
  },
  {
   "cell_type": "code",
   "execution_count": null,
   "id": "470f7b44-d0fe-4a41-8e31-2e9b2d74ccb2",
   "metadata": {
    "tags": []
   },
   "outputs": [],
   "source": [
    "# dt_error = np.sqrt(mean_squared_error(y,y_pred))"
   ]
  },
  {
   "cell_type": "code",
   "execution_count": null,
   "id": "4666ffd2-f499-4cdf-89c4-92b550ed5fbb",
   "metadata": {
    "tags": []
   },
   "outputs": [],
   "source": [
    "# print(f\" Decision Tree Error: {dt_error}\")"
   ]
  },
  {
   "cell_type": "code",
   "execution_count": null,
   "id": "39124890-a38d-4243-84be-40683c284b83",
   "metadata": {
    "tags": []
   },
   "outputs": [],
   "source": [
    "# # Try the random forest regressor \n",
    "# from sklearn.ensemble import RandomForestRegressor \n",
    "# random_forest_reg = RandomForestRegressor(random_state=0)\n",
    "# random_forest_reg.fit(X,y.values)"
   ]
  },
  {
   "cell_type": "code",
   "execution_count": null,
   "id": "f41b26a8-80bc-48a7-a71e-c678ea0c0960",
   "metadata": {
    "tags": []
   },
   "outputs": [],
   "source": [
    "# # Create a prediction \n",
    "# y_pred = random_forest_reg.predict(X)"
   ]
  },
  {
   "cell_type": "code",
   "execution_count": null,
   "id": "b78086ba-aeae-4674-b8f4-bdb714ba7b10",
   "metadata": {
    "tags": []
   },
   "outputs": [],
   "source": [
    "# # Calculate error for random forest regression  \n",
    "# rf_error = np.sqrt(mean_squared_error(y,y_pred))"
   ]
  },
  {
   "cell_type": "code",
   "execution_count": null,
   "id": "1a9e0096-32d9-47d0-ba28-b51a0b206928",
   "metadata": {
    "tags": []
   },
   "outputs": [],
   "source": [
    "# # Print all values of error. \n",
    "# print(f\" Linear Regression Error: {lr_error}\")\n",
    "# print(f\" Decision Tree Error: {dt_error}\")\n",
    "# print(f\" Random Forest Error: {rf_error}\")"
   ]
  },
  {
   "cell_type": "code",
   "execution_count": null,
   "id": "321560f5-071a-42fd-8a2a-0b87c6d1583c",
   "metadata": {
    "tags": []
   },
   "outputs": [],
   "source": [
    "# # consider different parameters . Find model with best parameters \n",
    "# from sklearn.model_selection import GridSearchCV \n",
    "\n",
    "# max_depth = [None, 2,4,6,8,10,12] \n",
    "# parameters = {'max_depth': max_depth} # same name as decision tree regressor \n",
    "\n",
    "# regressor = DecisionTreeRegressor(random_state=0)\n",
    "# gs = GridSearchCV(regressor, parameters, scoring='neg_mean_squared_error')\n",
    "# gs.fit(X,y.values)"
   ]
  },
  {
   "cell_type": "code",
   "execution_count": null,
   "id": "ad114d0e-de8b-414a-80ae-3ba6f1a3efd0",
   "metadata": {
    "tags": []
   },
   "outputs": [],
   "source": [
    "# regressor = gs.best_estimator_\n",
    "\n",
    "# regressor.fit(X,y.values)\n",
    "# y_pred = regressor.predict(X)\n",
    "# best_fit_error = np.sqrt(mean_squared_error(y,y_pred))\n",
    "# print(f\" Best fit Error: {best_fit_error}\")"
   ]
  },
  {
   "cell_type": "code",
   "execution_count": null,
   "id": "ea66c2c3-1c11-4428-a8ec-8803d64b4edb",
   "metadata": {
    "tags": []
   },
   "outputs": [],
   "source": [
    "# # Review Dataframe \n",
    "# X"
   ]
  },
  {
   "cell_type": "code",
   "execution_count": null,
   "id": "0049424b-2cc0-48e6-805e-f06822ea8a08",
   "metadata": {
    "tags": []
   },
   "outputs": [],
   "source": [
    "# # Create a numpy array for the X values\n",
    "# X = np.array([['Kenya Ruthaka Peaberry', 'Nyeri growing region, south-central Kenya']])\n",
    "# X"
   ]
  },
  {
   "cell_type": "code",
   "execution_count": null,
   "id": "3c59e738-c0c8-4fdf-b007-52c5fcd935a1",
   "metadata": {
    "tags": []
   },
   "outputs": [],
   "source": [
    "# # Train the model to encode labeler where user input \n",
    "# X[:,0]= le_name.transform(X[:,0])\n",
    "# X[:,1]= le_origin.transform(X[:,1])\n",
    "# X= X.astype(float)\n",
    "# X"
   ]
  },
  {
   "cell_type": "code",
   "execution_count": null,
   "id": "55f0fc5a-f65b-4363-ad83-0a4be5dd7b84",
   "metadata": {
    "tags": []
   },
   "outputs": [],
   "source": [
    "# y_pred = regressor.predict(X)\n",
    "# y_pred"
   ]
  },
  {
   "cell_type": "code",
   "execution_count": null,
   "id": "68589a95-6148-4627-8690-187817dea060",
   "metadata": {
    "tags": []
   },
   "outputs": [],
   "source": [
    "# import pickle"
   ]
  },
  {
   "cell_type": "code",
   "execution_count": null,
   "id": "09fa0d93-1f5e-41f9-89d4-4c941c0257a3",
   "metadata": {
    "tags": []
   },
   "outputs": [],
   "source": [
    "# # Create a data instance for the machine learning data \n",
    "# data = {\"model\": regressor, \"le_name\" : le_name, \"le_origin\": le_origin}\n",
    "# with open('saved_steps.pkl','wb') as file: \n",
    "#     pickle.dump(data,file)"
   ]
  },
  {
   "cell_type": "code",
   "execution_count": null,
   "id": "5f0f14b7-54f4-4b1d-8d21-a5a38d4b286e",
   "metadata": {
    "tags": []
   },
   "outputs": [],
   "source": [
    "# # Check and create variables for the machine learning \n",
    "# with open('saved_steps.pkl','rb') as file: \n",
    "#     data = pickle.load(file)\n",
    "    \n",
    "# regressor_loaded = data['model']\n",
    "# le_name = data['le_name']\n",
    "# le_origin = data['le_origin']"
   ]
  },
  {
   "cell_type": "code",
   "execution_count": null,
   "id": "707deb09-6dcb-4095-aecc-7d42cdccdeca",
   "metadata": {
    "tags": []
   },
   "outputs": [],
   "source": [
    "# # Confirm prediction with model saved\n",
    "# y_pred = regressor_loaded.predict(X)\n",
    "# y_pred"
   ]
  },
  {
   "cell_type": "code",
   "execution_count": null,
   "id": "abaafd3e-4efa-43a8-a928-b9d619774dd7",
   "metadata": {
    "tags": []
   },
   "outputs": [],
   "source": [
    "# data"
   ]
  },
  {
   "cell_type": "code",
   "execution_count": null,
   "id": "f5246bc3-46ee-4456-84bd-8ac267ad33bc",
   "metadata": {},
   "outputs": [],
   "source": [
    "coffee_original_df.to_csv('Resources/coffee_final_try.csv', index=False) "
   ]
  }
 ],
 "metadata": {
  "kernelspec": {
   "display_name": "PythonData",
   "language": "python",
   "name": "python3"
  },
  "language_info": {
   "codemirror_mode": {
    "name": "ipython",
    "version": 3
   },
   "file_extension": ".py",
   "mimetype": "text/x-python",
   "name": "python",
   "nbconvert_exporter": "python",
   "pygments_lexer": "ipython3",
   "version": "3.11.4"
  }
 },
 "nbformat": 4,
 "nbformat_minor": 5
}
