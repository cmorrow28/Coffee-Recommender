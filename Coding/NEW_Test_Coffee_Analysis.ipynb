{
 "cells": [
  {
   "cell_type": "markdown",
   "id": "67abe3d4-b936-4ab9-9e08-d231aef1cc60",
   "metadata": {},
   "source": [
    "# So, How Do You Like *Your* Coffee?"
   ]
  },
  {
   "cell_type": "markdown",
   "id": "ab1a2e95-c69b-4e72-81c3-2e2348129a77",
   "metadata": {},
   "source": [
    "## Read in csv file"
   ]
  },
  {
   "cell_type": "code",
   "execution_count": null,
   "id": "caf8210a-ef78-477c-bf4e-bd21257e3dd5",
   "metadata": {
    "tags": []
   },
   "outputs": [],
   "source": [
    "# Import dependencies\n",
    "import pandas as pd\n",
    "import numpy as np\n",
    "import matplotlib.pyplot as plt\n",
    "import seaborn as sns\n",
    "from geopy.geocoders import Nominatim\n",
    "import pycountry\n",
    "import re\n",
    "from sqlalchemy import create_engine, text, inspect"
   ]
  },
  {
   "cell_type": "code",
   "execution_count": null,
   "id": "582084e1-4143-4a98-be80-204631773497",
   "metadata": {
    "tags": []
   },
   "outputs": [],
   "source": [
    "# Read the csv into a Pandas DataFrame\n",
    "coffee_df = pd.read_csv('../Resources/coffee.csv', encoding='utf-8')\n",
    "coffee_df.head()"
   ]
  },
  {
   "cell_type": "code",
   "execution_count": null,
   "id": "df3c9a5c-a316-4cdf-9c41-64927cbdde93",
   "metadata": {
    "scrolled": true,
    "tags": []
   },
   "outputs": [],
   "source": [
    "# Get a brief summary of DataFrame\n",
    "coffee_df.info()"
   ]
  },
  {
   "cell_type": "markdown",
   "id": "e491e857-caff-4cc8-b58b-4995bcc869d6",
   "metadata": {},
   "source": [
    "## Initial general clean"
   ]
  },
  {
   "cell_type": "code",
   "execution_count": null,
   "id": "9a5c3244-2604-4d64-b27c-9e704351023c",
   "metadata": {
    "tags": []
   },
   "outputs": [],
   "source": [
    "# Drop unnecessary columns \n",
    "coffee_df = coffee_df.drop(columns=['all_text', 'est_price', 'review_date', 'agtron', 'location', 'with_milk', 'desc_3', 'desc_4'])"
   ]
  },
  {
   "cell_type": "markdown",
   "id": "efca20ad-5b73-4a82-aa64-e3535af2e0c9",
   "metadata": {},
   "source": [
    "##### Clean 'roaster','desc_1', 'desc_2' columns to neaten"
   ]
  },
  {
   "cell_type": "code",
   "execution_count": null,
   "id": "0e1c0397-826d-4aa4-8949-7af82417bba6",
   "metadata": {
    "tags": []
   },
   "outputs": [],
   "source": [
    "# Specify the columns to clean with regex\n",
    "columns_to_clean = ['roaster','desc_1', 'desc_2']\n",
    "\n",
    "# Define a regex pattern to match special characters\n",
    "special_characters_pattern = r'[^a-zA-Z0-9\\s,.-é\"]'\n",
    "\n",
    "# Clean chosen columns\n",
    "for column in columns_to_clean:\n",
    "    coffee_df[column] = coffee_df[column].str.replace(special_characters_pattern, '', regex=True)"
   ]
  },
  {
   "cell_type": "markdown",
   "id": "17bb8434-65ad-453e-8744-06ca6b01863d",
   "metadata": {},
   "source": [
    "## Work with the 'origin' column"
   ]
  },
  {
   "cell_type": "code",
   "execution_count": null,
   "id": "e884ef2b-529a-417c-9fec-91bf1b56f276",
   "metadata": {
    "tags": []
   },
   "outputs": [],
   "source": [
    "# Get details about 'origin' column\n",
    "coffee_df['origin'].value_counts()"
   ]
  },
  {
   "cell_type": "code",
   "execution_count": null,
   "id": "7b83fa8a-4728-427c-995e-08f12423ea07",
   "metadata": {
    "tags": []
   },
   "outputs": [],
   "source": [
    "# Remove the dot at the end of string in 'origin' column\n",
    "coffee_df['origin'] = coffee_df['origin'].str.rstrip('.')\n",
    "coffee_df['origin'].value_counts()"
   ]
  },
  {
   "cell_type": "markdown",
   "id": "d90264f1-8af7-4b5c-91d7-de145bbc28f3",
   "metadata": {},
   "source": [
    "##### Delete all rows with different iterations of 'not disclosed' from 'origin' column"
   ]
  },
  {
   "cell_type": "code",
   "execution_count": null,
   "id": "5d0f6617-d543-49b7-9325-d8997f0f3a38",
   "execution_count": 11,
   "id": "67c065b7-32c6-457c-9a6e-2402367c5d12",
>>>>>>> JFL2
>>>>>>> f5021bd3f1bf4904e46cbf32b08765a80f9a9830
   "metadata": {
    "tags": []
   },
   "outputs": [],
   "source": [
    "# Define a regex pattern\n",
    "pattern = re.compile(r'not\\s*disclosed', flags=re.IGNORECASE)\n",
    "\n",
    "# Apply this to 'origin' column\n",
    "coffee_df = coffee_df[~coffee_df['origin'].str.contains(pattern, na=False) | coffee_df['origin'].isna()]"
   ]
  },
  {
   "cell_type": "code",
   "execution_count": null,
   "id": "34cbbf0d-749e-41f1-b133-26841180d0a6",
   "metadata": {
    "tags": []
   },
   "outputs": [],
   "source": [
    "# Delete rows with NaN values from 'origin' column\n",
    "coffee_df = coffee_df.dropna(subset=['origin'])"
   ]
  },
  {
   "cell_type": "markdown",
   "id": "d56116c4-e1ac-4475-8c38-cbf79ff452da",
   "metadata": {},
   "source": [
    "##### Create new column with specific 'country of origin' values"
   ]
  },
  {
   "cell_type": "code",
   "execution_count": null,
   "id": "002ac01a-1deb-47a0-8056-cd83b12778b2",
   "metadata": {
    "tags": []
   },
   "outputs": [],
   "source": [
    "# Define the 'origin' column \n",
    "old_origin_column = 'origin'\n",
    "\n",
    "# Create a new column to store the split result\n",
    "new_origin_column = 'country_of_origin'\n",
    "\n",
    "# Function to split the last word and add it to the new column\n",
    "def split_last_word_except_semicolon(text):\n",
    "    if pd.isna(text):  # Check if the value is NaN\n",
    "        return ''\n",
    "    words = re.split(r'\\s*;\\s*|\\s+', text)\n",
    "    return words[-1]\n",
    "\n",
    "# Apply the function to create a new column\n",
    "coffee_df['country_of_origin'] = coffee_df['origin'].apply(split_last_word_except_semicolon)\n",
    "\n",
    "# Print the updated DataFrame\n",
    "coffee_df.head()"
   ]
  },
  {
   "cell_type": "code",
   "execution_count": null,
   "id": "e56753ba-6e1b-498d-aab9-a1b2da496a6a",
   "metadata": {
    "tags": []
   },
   "outputs": [],
   "source": [
    "# Check values\n",
    "coffee_df['country_of_origin'].value_counts()"
   ]
  },
  {
   "cell_type": "markdown",
   "id": "37174f70-6064-4003-807f-40e04f9be23b",
   "metadata": {},
   "source": [
    "##### Remove all data that is not significant enough for machine learning model (ie - less than 12 instances)"
   ]
  },
  {
   "cell_type": "code",
   "execution_count": null,
   "id": "f0f5de7e-25df-4011-beb2-c2ba59f8e6b4",
   "metadata": {
    "tags": []
   },
   "outputs": [],
   "source": [
    "# Change the datatype of the specified column to string\n",
    "coffee_df['country_of_origin'] = coffee_df['country_of_origin'].astype(str)\n",
    "\n",
    "# Set the cutoff value\n",
    "cutoff = 12\n",
    "\n",
    "# Create a variable for rows to keep\n",
    "keep_rows = coffee_df['country_of_origin'].map(coffee_df['country_of_origin'].value_counts()) >= cutoff\n",
    "\n",
    "# Keep only the rows where the count is at least the cutoff\n",
    "coffee_df = coffee_df[keep_rows]"
   ]
  },
  {
   "cell_type": "code",
<<<<<<< HEAD
   "execution_count": 16,
   "id": "fd9a09d0-b3f2-4a14-b195-d7af4716e8b2",
=======
   "execution_count": null,
   "id": "1f8d5803-5e6d-4e7a-a0b8-8bb99cbe1730",
>>>>>>> origin
   "metadata": {
    "tags": []
   },
   "outputs": [
    {
     "data": {
      "text/plain": [
       "country_of_origin\n",
       "Ethiopia                        743\n",
       "Kenya                           424\n",
       "Indonesia                       338\n",
       "Colombia                        334\n",
       "Guatemala                       272\n",
       "Panama                          221\n",
       "Costa_Rica                      190\n",
       "Brazil                          168\n",
       "Salvador                        165\n",
       "other                           140\n",
       "Hawaii                          112\n",
       "Rwanda                          101\n",
       "Nicaragua                        97\n",
       "Honduras                         72\n",
       "Papua_New_Guinea                 63\n",
       "Burundi                          57\n",
       "Mexico                           55\n",
       "America                          53\n",
       "Peru                             51\n",
       "Thailand                         49\n",
       "Bolivia                          43\n",
       "Tanzania                         40\n",
       "India                            37\n",
       "Sumatra                          32\n",
       "Africa                           23\n",
       "Ecuador                          22\n",
       "Jamaica                          22\n",
       "Yemen                            18\n",
       "Democratic_Republic_of_Congo     13\n",
       "Taiwan                           12\n",
       "Name: count, dtype: int64"
      ]
     },
     "execution_count": 16,
     "metadata": {},
     "output_type": "execute_result"
    }
   ],
   "source": [
    "# Check dataframe status\n",
    "coffee_df.info()"
   ]
  },
  {
   "cell_type": "markdown",
   "id": "c6611c82-8fff-48ec-8a55-5e517e624670",
   "metadata": {},
   "source": [
    "##### Extra Dataframe cleaning"
   ]
  },
  {
   "cell_type": "code",
   "execution_count": null,
   "id": "fd9a09d0-b3f2-4a14-b195-d7af4716e8b2",
   "metadata": {
    "tags": []
   },
   "outputs": [],
   "source": [
    "# Drop the rows with blank values from the original DataFrame\n",
    "rows_with_blank_values = coffee_df[coffee_df['country_of_origin'].isna() | (coffee_df['country_of_origin'] == '')]\n",
    "\n",
    "if not rows_with_blank_values.empty:\n",
    "    coffee_df.drop(rows_with_blank_values.index, inplace=True)\n",
    "    \n",
    "# Drop all rows containing 'Africa' as a country of origin\n",
    "string_to_drop = 'Africa'\n",
    "coffee_df = coffee_df[~coffee_df['country_of_origin'].str.contains(string_to_drop, case=False, na=False)]\n",
    "\n",
    "coffee_df.head()"
   ]
  },
  {
   "cell_type": "code",
<<<<<<< HEAD
   "execution_count": null,
=======
   "execution_count": 17,
<<<<<<< HEAD
=======
   "id": "d81a4bdd-867a-44a4-9a30-59d74d7d57f1",
   "metadata": {
    "tags": []
   },
   "outputs": [
    {
     "data": {
      "text/plain": [
       "3967"
      ]
     },
     "execution_count": 17,
     "metadata": {},
     "output_type": "execute_result"
    }
   ],
   "source": [
    "coffee_df.country_of_origin.value_counts().sum()"
>>>>>>> JFL2
   ]
  },
  {
   "cell_type": "code",
   "execution_count": 18,
>>>>>>> f5021bd3f1bf4904e46cbf32b08765a80f9a9830
   "id": "017d7e9f-f63d-4e26-9386-f1443d43d724",
   "metadata": {
    "tags": []
   },
   "outputs": [],
   "source": [
    "# Drop original 'origin' column\n",
    "coffee_df = coffee_df.drop(columns='origin')"
   ]
  },
  {
   "cell_type": "code",
   "execution_count": null,
>>>>>>> origin
   "id": "d81a4bdd-867a-44a4-9a30-59d74d7d57f1",
   "metadata": {
    "tags": []
   },
   "outputs": [
    {
     "data": {
      "text/plain": [
       "3967"
      ]
     },
     "execution_count": 17,
     "metadata": {},
     "output_type": "execute_result"
    }
   ],
   "source": [
    "# Check values\n",
    "coffee_df.country_of_origin.value_counts().sum()"
   ]
  },
  {
   "cell_type": "code",
<<<<<<< HEAD
   "execution_count": 18,
   "id": "017d7e9f-f63d-4e26-9386-f1443d43d724",
   "metadata": {
    "tags": []
   },
   "outputs": [],
   "source": [
    "coffee_df = coffee_df.drop(columns='origin')"
   ]
  },
  {
   "cell_type": "code",
=======
   "execution_count": null,
   "id": "f89cad5a-791c-42b4-b9f8-34ec5432705a",
<<<<<<< HEAD
=======
=======
>>>>>>> origin
   "execution_count": 19,
   "id": "e911e40a-634c-450e-9cce-570f9cfc87be",
>>>>>>> JFL2
>>>>>>> f5021bd3f1bf4904e46cbf32b08765a80f9a9830
   "metadata": {
    "tags": []
   },
   "outputs": [],
   "source": [
    "# Check Dataframe status\n",
    "coffee_df.info()"
   ]
  },
  {
   "cell_type": "markdown",
   "id": "36cfe660-9584-4c7e-b16f-3b789a78faff",
   "metadata": {},
   "source": [
    "## Get latitude and longitude for countries_of_origin"
   ]
  },
  {
   "cell_type": "code",
<<<<<<< HEAD
=======
   "execution_count": null,
   "id": "2f6c6fe4-a0c4-4333-bcff-f5312c8589df",
   "metadata": {
    "tags": []
   },
   "outputs": [],
   "source": [
    "# Check unique values from the 'country_of_origin' column\n",
    "coffee_df['country_of_origin'].unique()"
   ]
  },
  {
   "cell_type": "markdown",
   "id": "56fe415b-4b70-45ed-a31a-fa18f5745a62",
   "metadata": {},
   "source": [
    "##### Change country names to match country names in pycountry library"
   ]
  },
  {
   "cell_type": "code",
   "execution_count": null,
   "id": "2d40bd66-1462-4bf7-aa46-7fbd324ad06d",
   "metadata": {
    "tags": []
   },
   "outputs": [],
   "source": [
    "# Define a dictionary of old and new values\n",
    "values_to_update = {'America': 'United States',\n",
    "                    'Hawaii': 'United States', \n",
    "                    'Democratic_Republic_of_Congo' : 'Congo, The Democratic Republic of the', \n",
    "                    'Salvador': 'El Salvador', \n",
    "                    'Costa_Rica': 'Costa Rica', \n",
    "                    'Tanzania': 'Tanzania, United Republic of', \n",
    "                    'Papua_New_Guinea': 'Papua New Guinea', \n",
    "                    'Bolivia': 'Bolivia, Plurinational State of', \n",
    "                    'Sumatra': 'Indonesia', \n",
    "                    'Taiwan': 'China'\n",
    "                   }\n",
    "\n",
    "# Create a mask for rows that need updating\n",
    "update_mask = coffee_df['country_of_origin'].isin(values_to_update.keys())\n",
    "\n",
    "# Update the values in the 'country_of_origin' column\n",
    "coffee_df.loc[update_mask, 'country_of_origin'] = coffee_df.loc[update_mask, 'country_of_origin'].replace(values_to_update)"
   ]
  },
  {
   "cell_type": "markdown",
   "id": "af7f756a-508f-45b4-9d13-23751f55bf05",
   "metadata": {},
   "source": [
    "##### Minimise dataframe so pycountry function can run effectively on far fewer rows"
   ]
  },
  {
   "cell_type": "code",
   "execution_count": null,
   "id": "2d9ffa1e-349d-4464-a1a1-179be2e40c1f",
   "metadata": {
    "tags": []
   },
   "outputs": [],
   "source": [
    "# Create a new DataFrame of the 'country_of_origin' column for getting lat and lon\n",
    "coffee_countries = coffee_df[['country_of_origin']].copy()\n",
    "\n",
    "# Extract unique values from the 'Category' column\n",
    "unique_categories = coffee_countries['country_of_origin'].unique()\n",
    "\n",
    "# Create a new DataFrame with unique values\n",
    "unique_df = pd.DataFrame({'country_of_origin': unique_categories})"
   ]
  },
  {
   "cell_type": "markdown",
   "id": "98d2a710-5361-4d50-9b90-17144d7b48ed",
   "metadata": {},
   "source": [
    "##### Function to initialise pycountry and get lat and lon coordinates"
   ]
  },
  {
   "cell_type": "code",
   "execution_count": null,
   "id": "2883e1b0-7047-4f84-9f01-3c0e3efb19b3",
   "metadata": {
    "scrolled": true,
    "tags": []
   },
   "outputs": [],
   "source": [
    "def get_coordinates(country):\n",
    "    try:\n",
    "        country_obj = pycountry.countries.get(name=country)\n",
    "        geolocator = Nominatim(user_agent=\"coffee_countries\", timeout=20)\n",
    "        location = geolocator.geocode(country_obj.name)\n",
    "        return location.latitude, location.longitude\n",
    "    except AttributeError:\n",
    "        return None, None\n",
    "\n",
    "unique_df[['latitude', 'longitude']] = unique_df['country_of_origin'].apply(get_coordinates).apply(pd.Series)"
   ]
  },
  {
   "cell_type": "markdown",
   "id": "1aef5278-3a49-455e-ad76-b7a7871103cd",
   "metadata": {},
   "source": [
    "##### Merge minimised dataframe with original dataframe to add coordinates to each row"
   ]
  },
  {
   "cell_type": "code",
   "execution_count": null,
   "id": "b4fee08f-f77d-4d73-a285-7416b95f01ee",
   "metadata": {
    "tags": []
   },
   "outputs": [],
   "source": [
    "# Merge the DataFrames based on the common column\n",
    "new_coffee_df = pd.merge(coffee_df, unique_df, on='country_of_origin', how='left')"
   ]
  },
  {
   "cell_type": "code",
   "execution_count": null,
   "id": "7f027543-218e-4bec-be62-8abf773ce827",
   "metadata": {
    "tags": []
   },
   "outputs": [],
   "source": [
    "# Check merge worked\n",
    "new_coffee_df.head()"
   ]
  },
  {
   "cell_type": "code",
   "execution_count": null,
   "id": "8e0f7043-5e56-4337-8990-c810ac778de4",
   "metadata": {
    "tags": []
   },
   "outputs": [],
   "source": [
    "# Check Dataframe status\n",
    "new_coffee_df.info()"
   ]
  },
  {
   "cell_type": "markdown",
   "id": "db80aa47-2090-4cbf-ae66-113cd831a627",
   "metadata": {},
   "source": [
    "## Final cleaning steps and export"
   ]
  },
  {
   "cell_type": "markdown",
   "id": "04b228ed-9c58-494f-af35-7bfdc2e09118",
   "metadata": {},
   "source": [
    "#### Reorder columns in the DataFrame"
   ]
  },
  {
   "cell_type": "code",
   "execution_count": null,
   "id": "a5ae328f-bfdd-4920-a31d-3f6aca255462",
   "metadata": {
    "tags": []
   },
   "outputs": [],
   "source": [
    "# Display new Dataframe columns\n",
    "new_coffee_df.columns"
   ]
  },
  {
   "cell_type": "code",
<<<<<<< HEAD
   "execution_count": null,
=======
>>>>>>> origin
   "execution_count": 20,
>>>>>>> f5021bd3f1bf4904e46cbf32b08765a80f9a9830
   "id": "4492fba5-f3b7-4b18-8c2f-3a1722f8c795",
   "metadata": {
    "tags": []
   },
   "outputs": [],
   "source": [
    "# New column order\n",
    "coffee_df = new_coffee_df[['slug', 'name', 'roaster', 'roast', 'country_of_origin', 'desc_1', 'desc_2', 'latitude', 'longitude', 'rating',\n",
    "                       'aroma', 'acid', 'body', 'flavor', 'aftertaste',\n",
    "                       'region_africa_arabia', 'region_caribbean', 'region_central_america', 'region_hawaii', 'region_asia_pacific', 'region_south_america', \n",
    "                       'type_espresso', 'type_organic', 'type_fair_trade', 'type_decaffeinated', 'type_pod_capsule', 'type_blend', 'type_estate']]"
   ]
  },
  {
   "cell_type": "code",
<<<<<<< HEAD
   "execution_count": null,
=======
<<<<<<< HEAD
=======
<<<<<<< HEAD
   "execution_count": null,
=======
>>>>>>> origin
   "execution_count": 21,
   "id": "f33d7adf",
   "metadata": {},
   "outputs": [],
   "source": [
    "# Drop rows with null values in the specified columns\n",
    "coffee_df = coffee_df.dropna()"
   ]
  },
  {
   "cell_type": "code",
   "execution_count": 22,
<<<<<<< HEAD
=======
>>>>>>> JFL2
>>>>>>> origin
>>>>>>> f5021bd3f1bf4904e46cbf32b08765a80f9a9830
   "id": "096c8634-ac10-488a-b042-1aaf341c21bd",
   "metadata": {
    "tags": []
   },
   "outputs": [],
   "source": [
    "# Check Dataframe status\n",
    "coffee_df.info()"
   ]
  },
  {
   "cell_type": "code",
<<<<<<< HEAD
   "execution_count": null,
   "id": "f33d7adf",
=======
<<<<<<< HEAD
=======
<<<<<<< HEAD
   "execution_count": null,
   "id": "f33d7adf",
=======
>>>>>>> origin
   "execution_count": 23,
   "id": "891bae40-d75e-4804-aafe-92ec33cfddaa",
   "metadata": {},
   "outputs": [
    {
     "name": "stdout",
     "output_type": "stream",
     "text": [
      "<class 'pandas.core.frame.DataFrame'>\n",
      "Index: 3101 entries, 0 to 4126\n",
      "Data columns (total 26 columns):\n",
      " #   Column                  Non-Null Count  Dtype  \n",
      "---  ------                  --------------  -----  \n",
      " 0   slug                    3101 non-null   object \n",
      " 1   name                    3101 non-null   object \n",
      " 2   roaster                 3101 non-null   object \n",
      " 3   roast                   3101 non-null   object \n",
      " 4   country_of_origin       3101 non-null   object \n",
      " 5   desc_1                  3101 non-null   object \n",
      " 6   desc_2                  3101 non-null   object \n",
      " 7   rating                  3101 non-null   object \n",
      " 8   aroma                   3101 non-null   float64\n",
      " 9   acid                    3101 non-null   float64\n",
      " 10  body                    3101 non-null   float64\n",
      " 11  flavor                  3101 non-null   float64\n",
      " 12  aftertaste              3101 non-null   float64\n",
      " 13  region_africa_arabia    3101 non-null   int64  \n",
      " 14  region_caribbean        3101 non-null   int64  \n",
      " 15  region_central_america  3101 non-null   int64  \n",
      " 16  region_hawaii           3101 non-null   int64  \n",
      " 17  region_asia_pacific     3101 non-null   int64  \n",
      " 18  region_south_america    3101 non-null   int64  \n",
      " 19  type_espresso           3101 non-null   int64  \n",
      " 20  type_organic            3101 non-null   int64  \n",
      " 21  type_fair_trade         3101 non-null   int64  \n",
      " 22  type_decaffeinated      3101 non-null   int64  \n",
      " 23  type_pod_capsule        3101 non-null   int64  \n",
      " 24  type_blend              3101 non-null   int64  \n",
      " 25  type_estate             3101 non-null   int64  \n",
      "dtypes: float64(5), int64(13), object(8)\n",
      "memory usage: 654.1+ KB\n"
     ]
    }
   ],
   "source": [
    "coffee_data = coffee_df.copy()\n",
    "coffee_data.info()"
   ]
  },
  {
   "cell_type": "code",
   "execution_count": 24,
   "id": "199eca7f-c449-40bf-855b-31dfed4af449",
   "metadata": {},
   "outputs": [],
   "source": [
    "coffee_data = coffee_data[['slug', 'name', 'roaster', 'roast', 'country_of_origin', 'desc_1', 'desc_2', 'rating',\n",
    "                       'aroma', 'acid', 'body', 'flavor', 'aftertaste', \n",
    "                       'region_africa_arabia', 'region_caribbean', 'region_central_america', 'region_hawaii', 'region_asia_pacific', 'region_south_america', \n",
    "                       'type_espresso', 'type_organic', 'type_fair_trade', 'type_decaffeinated', 'type_pod_capsule', 'type_blend', 'type_estate']]"
   ]
  },
  {
   "cell_type": "code",
   "execution_count": 25,
   "id": "d1e1cf55-83f2-4a0e-a7e4-d30575373083",
   "metadata": {},
   "outputs": [],
   "source": [
    "# # Function to get latitude and longitude\n",
    "# def get_lat_lon(country_name):\n",
    "#     geolocator = Nominatim(user_agent=\"my_geocoder\")\n",
    "    \n",
    "#     try:\n",
    "#         location = geolocator.geocode(country_name)\n",
    "#         if location is not None:\n",
    "#             return location.latitude, location.longitude\n",
    "#         else:\n",
    "#             return None, None\n",
    "#     except Exception as e:\n",
    "#         print(f\"Error: {e}\")\n",
    "#         return None, None\n",
    "\n",
    "# # Apply the function to the 'Country' column\n",
    "# coffee_df[['Latitude', 'Longitude']] = coffee_df['country_of_origin'].apply(lambda x: pd.Series(get_lat_lon(x)))\n",
    "\n",
    "# # Print the updated DataFrame\n",
    "# coffee_df.head()"
   ]
  },
  {
   "cell_type": "code",
   "execution_count": 26,
   "id": "c41da049-b3ca-4127-8cc9-78f42d8e2fcd",
>>>>>>> JFL2
>>>>>>> f5021bd3f1bf4904e46cbf32b08765a80f9a9830
   "metadata": {
    "tags": []
   },
   "outputs": [],
   "source": [
    "# Drop all rows with null values \n",
    "coffee_df = coffee_df.dropna()"
   ]
  },
  {
   "cell_type": "code",
<<<<<<< HEAD
=======
   "execution_count": null,
   "id": "a36fd7f1-49f4-41db-a7a7-5ac0e5599519",
   "metadata": {
    "tags": []
   },
   "outputs": [],
   "source": [
    "# Check Dataframe status\n",
    "coffee_df.info()"
   ]
  },
  {
   "cell_type": "code",
<<<<<<< HEAD
   "execution_count": 1,
=======
>>>>>>> origin
   "execution_count": 27,
>>>>>>> f5021bd3f1bf4904e46cbf32b08765a80f9a9830
   "id": "7e11e775-a2a0-4394-8611-20ab1f469613",
   "metadata": {
    "tags": []
   },
   "outputs": [
    {
     "ename": "NameError",
     "evalue": "name 'coffee_df' is not defined",
     "output_type": "error",
     "traceback": [
      "\u001b[1;31m---------------------------------------------------------------------------\u001b[0m",
      "\u001b[1;31mNameError\u001b[0m                                 Traceback (most recent call last)",
      "Cell \u001b[1;32mIn[1], line 2\u001b[0m\n\u001b[0;32m      1\u001b[0m \u001b[38;5;66;03m# Export Dataframe as new csv file to Resources folder\u001b[39;00m\n\u001b[1;32m----> 2\u001b[0m coffee_df\u001b[38;5;241m.\u001b[39mto_csv(\u001b[38;5;124m'\u001b[39m\u001b[38;5;124m../Resources/NEW_coffee_final.csv\u001b[39m\u001b[38;5;124m'\u001b[39m, index\u001b[38;5;241m=\u001b[39m\u001b[38;5;28;01mFalse\u001b[39;00m)\n",
      "\u001b[1;31mNameError\u001b[0m: name 'coffee_df' is not defined"
     ]
    }
   ],
   "source": [
    "# Export Dataframe as new csv file to Resources folder\n",
    "coffee_df.to_csv('../Resources/NEW_coffee_final.csv', index=False)"
   ]
  },
  {
   "cell_type": "code",
   "execution_count": null,
   "id": "c096a518-a072-41ff-a0d8-094d4139b97d",
   "metadata": {},
   "outputs": [],
   "source": [
    "# Create engine path\n",
    "engine = create_engine('sqlite:///Data_Engineering.db')"
   ]
  },
  {
   "cell_type": "code",
   "execution_count": null,
   "id": "2b869c7e-4a84-4a7a-9dc2-9092471d3b29",
   "metadata": {
    "tags": []
   },
   "outputs": [],
   "source": [
    "# Drop the existing table and create a new one with the desired primary key\n",
    "with engine.connect() as con:\n",
    "    con.execute(text('''\n",
    "        CREATE TABLE IF NOT EXISTS coffee_data (\n",
    "            \"slug\" VARCHAR, \n",
    "            \"name\" VARCHAR, \n",
    "            \"roaster\" VARCHAR, \n",
    "            \"roast\" VARCHAR, \n",
    "            \"country_of_origin\" VARCHAR, \n",
    "            \"desc_1\" VARCHAR, \n",
    "            \"desc_2\" VARCHAR,\n",
    "            \"latitude\" FLOAT,\n",
    "            \"longitude\" FLOAT,\n",
    "            \"rating\" INTEGER,\n",
    "            \"aroma\" FLOAT, \n",
    "            \"acid\" FLOAT, \n",
    "            \"body\" FLOAT, \n",
    "            \"flavor\" FLOAT, \n",
    "            \"aftertaste\" FLOAT,\n",
    "            \"region_africa_arabia\" INTEGER, \n",
    "            \"region_caribbean\" INTEGER, \n",
    "            \"region_central_america\" INTEGER, \n",
    "            \"region_hawaii\" INTEGER, \n",
    "            \"region_asia_pacific\" INTEGER, \n",
    "            \"region_south_america\" INTEGER, \n",
    "            \"type_espresso\" INTEGER, \n",
    "            \"type_organic\" INTEGER, \n",
    "            \"type_fair_trade\" INTEGER, \n",
    "            \"type_decaffeinated\" INTEGER, \n",
    "            \"type_pod_capsule\" INTEGER, \n",
    "            \"type_blend\" INTEGER, \n",
    "            \"type_estate\" INTEGER,\n",
    "            PRIMARY KEY (\"slug\")\n",
    "        )\n",
    "    '''))\n",
    "\n",
    "# Output to the database \n",
    "coffee_df.to_sql(name='coffee_data', con=engine, if_exists='replace', index=False)"
   ]
  },
  {
   "cell_type": "code",
   "execution_count": null,
   "id": "1e02421a-4c4d-4470-be63-74c9f9ce77b8",
   "metadata": {},
   "outputs": [],
   "source": [
    "# Create a connection\n",
    "connection = engine.connect()\n",
    "\n",
    "# Create an Inspector and get the table names\n",
    "inspector = inspect(engine)\n",
    "table_names = inspector.get_table_names()\n",
    "\n",
    "# Print the table names and some sample data\n",
    "for table_name in table_names:\n",
    "    print(f\"Table: {table_name}\")\n",
    "\n",
    "    # Use text() to create a SQL expression\n",
    "    query = text(f\"SELECT * FROM {table_name} LIMIT 5\")\n",
    "    sample_data = connection.execute(query).fetchall()\n",
    "\n",
    "    print(\"Sample Data:\")\n",
    "    for row in sample_data:\n",
    "        print(row)\n",
    "    print(\"\\n\")\n",
    "\n",
    "# Close the connection\n",
    "connection.close()"
   ]
  },
  {
   "cell_type": "code",
   "execution_count": null,
   "id": "d6f03eec-2dd8-489b-b448-eb782db648cc",
   "metadata": {
    "tags": []
   },
   "outputs": [],
   "source": []
  }
 ],
 "metadata": {
  "kernelspec": {
   "display_name": "Python 3 (ipykernel)",
   "language": "python",
   "name": "python3"
  },
  "language_info": {
   "codemirror_mode": {
    "name": "ipython",
    "version": 3
   },
   "file_extension": ".py",
   "mimetype": "text/x-python",
   "name": "python",
   "nbconvert_exporter": "python",
   "pygments_lexer": "ipython3",
<<<<<<< HEAD
   "version": "3.11.5"
=======
<<<<<<< HEAD
   "version": "3.11.4"
=======
<<<<<<< HEAD
   "version": "3.11.5"
=======
   "version": "3.11.4"
>>>>>>> JFL2
>>>>>>> origin
>>>>>>> f5021bd3f1bf4904e46cbf32b08765a80f9a9830
  }
 },
 "nbformat": 4,
 "nbformat_minor": 5
}
