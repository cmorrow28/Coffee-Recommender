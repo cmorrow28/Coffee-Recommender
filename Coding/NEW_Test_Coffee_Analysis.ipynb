{
 "cells": [
  {
   "cell_type": "markdown",
   "id": "67abe3d4-b936-4ab9-9e08-d231aef1cc60",
   "metadata": {},
   "source": [
    "## This is the notebook for the new coffee.csv file we found.\n",
    "\n",
    "Cleaning and exploration code below..."
   ]
  },
  {
   "cell_type": "code",
   "execution_count": null,
   "id": "caf8210a-ef78-477c-bf4e-bd21257e3dd5",
   "metadata": {
    "tags": []
   },
   "outputs": [],
   "source": [
    "import pandas as pd\n",
    "import numpy as np\n",
    "import matplotlib.pyplot as plt\n",
    "import seaborn as sns\n",
    "from geopy.geocoders import Nominatim\n",
    "import re"
   ]
  },
  {
   "cell_type": "code",
   "execution_count": null,
   "id": "582084e1-4143-4a98-be80-204631773497",
   "metadata": {
    "tags": []
   },
   "outputs": [],
   "source": [
    "# Read the csv into a Pandas DataFrame\n",
    "coffee_df = pd.read_csv('../Resources/coffee.csv')\n",
    "coffee_df.head()"
   ]
  },
  {
   "cell_type": "code",
   "execution_count": null,
   "id": "df3c9a5c-a316-4cdf-9c41-64927cbdde93",
   "metadata": {
    "scrolled": true,
    "tags": []
   },
   "outputs": [],
   "source": [
    "# Get a brief summary of DataFrame\n",
    "coffee_df.info()"
   ]
  },
  {
   "cell_type": "code",
   "execution_count": null,
   "id": "9a5c3244-2604-4d64-b27c-9e704351023c",
   "metadata": {
    "tags": []
   },
   "outputs": [],
   "source": [
    "# drop unnecessary columns \n",
    "coffee_df = coffee_df.drop(columns=['all_text', 'est_price', 'review_date', 'agtron', 'location'])"
   ]
  },
  {
   "cell_type": "code",
   "execution_count": null,
   "id": "4c87a55f-c50c-4e62-9e02-229fb7ee97d2",
   "metadata": {
    "tags": []
   },
   "outputs": [],
   "source": [
    "coffee_df.head()"
   ]
  },
  {
   "cell_type": "markdown",
   "id": "17bb8434-65ad-453e-8744-06ca6b01863d",
   "metadata": {},
   "source": [
    "### Work with the 'origin' column"
   ]
  },
  {
   "cell_type": "code",
   "execution_count": null,
   "id": "e884ef2b-529a-417c-9fec-91bf1b56f276",
   "metadata": {
    "tags": []
   },
   "outputs": [],
   "source": [
    "coffee_df['origin'].value_counts()"
   ]
  },
  {
   "cell_type": "code",
   "execution_count": null,
   "id": "7b83fa8a-4728-427c-995e-08f12423ea07",
   "metadata": {
    "tags": []
   },
   "outputs": [],
   "source": [
    "# Remove the dot at the end of string in new 'country_of_origin' column\n",
    "coffee_df['origin'] = coffee_df['origin'].str.rstrip('.')\n",
    "coffee_df['origin'].value_counts()"
   ]
  },
  {
   "cell_type": "code",
   "execution_count": null,
   "id": "67c065b7-32c6-457c-9a6e-2402367c5d12",
   "metadata": {
    "tags": []
   },
   "outputs": [],
   "source": [
    "# Delete rows where country is listed as 'not disclosed'\n",
    "coffee_df = coffee_df[coffee_df['origin'] != 'Not disclosed']\n",
    "coffee_df = coffee_df[coffee_df['origin'] != 'Not Disclosed']"
   ]
  },
  {
   "cell_type": "code",
   "execution_count": null,
   "id": "34cbbf0d-749e-41f1-b133-26841180d0a6",
   "metadata": {
    "tags": []
   },
   "outputs": [],
   "source": [
    "# Delete rows with NaN values\n",
    "coffee_df = coffee_df.dropna(subset=['origin'])"
   ]
  },
  {
   "cell_type": "code",
   "execution_count": null,
   "id": "002ac01a-1deb-47a0-8056-cd83b12778b2",
   "metadata": {
    "tags": []
   },
   "outputs": [],
   "source": [
    "# Specify the column with strings\n",
    "columnName = 'origin'\n",
    "\n",
    "# Create a new column to store the split result\n",
    "newColumnName = 'country_of_origin'\n",
    "\n",
    "# Function to split the last word and add it to a new column\n",
    "def split_last_word_except_semicolon(text):\n",
    "    if pd.isna(text):  # Check if the value is NaN\n",
    "        return ''\n",
    "    words = re.split(r'\\s*;\\s*|\\s+', text)\n",
    "    return words[-1]\n",
    "\n",
    "# Apply the function to create a new column\n",
    "coffee_df['country_of_origin'] = coffee_df['origin'].apply(split_last_word_except_semicolon)\n",
    "\n",
    "# Print the updated DataFrame\n",
    "coffee_df.head()"
   ]
  },
  {
   "cell_type": "code",
   "execution_count": null,
   "id": "e56753ba-6e1b-498d-aab9-a1b2da496a6a",
   "metadata": {
    "tags": []
   },
   "outputs": [],
   "source": [
    "coffee_df['country_of_origin'].value_counts()"
   ]
  },
  {
   "cell_type": "code",
   "execution_count": null,
   "id": "f0f5de7e-25df-4011-beb2-c2ba59f8e6b4",
   "metadata": {
    "tags": []
   },
   "outputs": [],
   "source": [
    "# Change the datatype of the specified column to string\n",
    "coffee_df['country_of_origin'] = coffee_df['country_of_origin'].astype(str)\n",
    "\n",
    "# Create a function to identify instances of 'origin' where the value count is less than a certain number\n",
    "def single_instances_grouped(instances, cutoff):\n",
    "    instances_map = {}\n",
    "    for i in range(len(instances)):\n",
    "        if instances.values[i] >= cutoff:\n",
    "            instances_map[instances.index[i]] = instances.index[i]\n",
    "        else:\n",
    "            instances_map[instances.index[i]] = 'other'\n",
    "    return instances_map\n",
    "\n",
    "origin_map = single_instances_grouped(coffee_df.country_of_origin.value_counts(), 12)\n",
    "coffee_df['country_of_origin'] = coffee_df['country_of_origin'].map(origin_map)\n",
    "coffee_df.country_of_origin.value_counts()"
   ]
  },
  {
   "cell_type": "code",
   "execution_count": null,
   "id": "fd9a09d0-b3f2-4a14-b195-d7af4716e8b2",
   "metadata": {
    "tags": []
   },
   "outputs": [],
   "source": [
    "# Drop the rows with blank values from the original DataFrame\n",
    "rows_with_blank_values = coffee_df[coffee_df['country_of_origin'].isna() | (coffee_df['country_of_origin'] == '')]\n",
    "\n",
    "if not rows_with_blank_values.empty:\n",
    "    coffee_df.drop(rows_with_blank_values.index, inplace=True)\n",
    "\n",
    "coffee_df.country_of_origin.value_counts()"
   ]
  },
  {
   "cell_type": "code",
   "execution_count": null,
   "id": "d81a4bdd-867a-44a4-9a30-59d74d7d57f1",
   "metadata": {
    "tags": []
   },
   "outputs": [],
   "source": [
    "coffee_df.country_of_origin.value_counts().sum()"
   ]
  },
  {
   "cell_type": "code",
   "execution_count": null,
   "id": "017d7e9f-f63d-4e26-9386-f1443d43d724",
   "metadata": {
    "tags": []
   },
   "outputs": [],
   "source": [
    "coffee_df = coffee_df.drop(columns='origin')"
   ]
  },
  {
   "cell_type": "code",
   "execution_count": null,
   "id": "d1e1cf55-83f2-4a0e-a7e4-d30575373083",
   "metadata": {},
   "outputs": [],
   "source": [
    "# # Function to get latitude and longitude\n",
    "# def get_lat_lon(country_name):\n",
    "#     geolocator = Nominatim(user_agent=\"my_geocoder\")\n",
    "    \n",
    "#     try:\n",
    "#         location = geolocator.geocode(country_name)\n",
    "#         if location is not None:\n",
    "#             return location.latitude, location.longitude\n",
    "#         else:\n",
    "#             return None, None\n",
    "#     except Exception as e:\n",
    "#         print(f\"Error: {e}\")\n",
    "#         return None, None\n",
    "\n",
    "# # Apply the function to the 'Country' column\n",
    "# coffee_df[['Latitude', 'Longitude']] = coffee_df['country_of_origin'].apply(lambda x: pd.Series(get_lat_lon(x)))\n",
    "\n",
    "# # Print the updated DataFrame\n",
    "# coffee_df.head()"
   ]
  },
  {
   "cell_type": "code",
   "execution_count": null,
   "id": "c41da049-b3ca-4127-8cc9-78f42d8e2fcd",
   "metadata": {},
   "outputs": [],
   "source": [
    "# # Create lat and lon columns and use GeoFy library to extract the coordinates of each country\n",
    "\n",
    "# def get_lat_lon_for_country(country_name):\n",
    "#     geolocator = Nominatim(user_agent=\"country_locator\")\n",
    "#     location = geolocator.geocode(country_name)\n",
    "    \n",
    "#     if location:\n",
    "#         return location.latitude, location.longitude\n",
    "#     else:\n",
    "#         return None\n",
    "\n",
    "# # Create new columns for latitude and longitude\n",
    "# coffee_df['latitude'] = None\n",
    "# coffee_df['longitude'] = None\n",
    "\n",
    "# # Iterate through rows and geocode each country\n",
    "# for index, row in coffee_df.iterrows():\n",
    "#     country_name = row['country_of_origin']  # Replace 'CountryColumnName' with the actual column name in your CSV\n",
    "#     lat_lon = get_lat_lon_for_country(country_name)\n",
    "    \n",
    "#     if lat_lon:\n",
    "#         coffee_df.at[index, 'latitude'] = lat_lon[0]\n",
    "#         coffee_df.at[index, 'longitude'] = lat_lon[1]\n",
    "\n",
    "# coffee_df.head()"
   ]
  },
  {
   "cell_type": "code",
   "execution_count": null,
   "id": "7e11e775-a2a0-4394-8611-20ab1f469613",
   "metadata": {
    "tags": []
   },
   "outputs": [],
   "source": [
    "coffee_df.to_csv('../Resources/NEW_coffee_final.csv', index=False)"
   ]
  }
 ],
 "metadata": {
  "kernelspec": {
   "display_name": "Python 3 (ipykernel)",
   "language": "python",
   "name": "python3"
  },
  "language_info": {
   "codemirror_mode": {
    "name": "ipython",
    "version": 3
   },
   "file_extension": ".py",
   "mimetype": "text/x-python",
   "name": "python",
   "nbconvert_exporter": "python",
   "pygments_lexer": "ipython3",
   "version": "3.11.5"
  }
 },
 "nbformat": 4,
 "nbformat_minor": 5
}
