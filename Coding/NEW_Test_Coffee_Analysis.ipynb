{
 "cells": [
  {
   "cell_type": "markdown",
   "id": "67abe3d4-b936-4ab9-9e08-d231aef1cc60",
   "metadata": {},
   "source": [
    "## This is the notebook for the new coffee.csv file we found.\n",
    "\n",
    "Cleaning and exploration code below..."
   ]
  },
  {
   "cell_type": "code",
   "execution_count": 1,
   "id": "caf8210a-ef78-477c-bf4e-bd21257e3dd5",
   "metadata": {
    "tags": []
   },
   "outputs": [],
   "source": [
    "import pandas as pd\n",
    "import numpy as np\n",
    "import matplotlib.pyplot as plt\n",
    "import seaborn as sns\n",
    "from geopy.geocoders import Nominatim\n",
    "import re"
   ]
  },
  {
   "cell_type": "code",
   "execution_count": 2,
   "id": "582084e1-4143-4a98-be80-204631773497",
   "metadata": {
    "tags": []
   },
   "outputs": [
    {
     "data": {
      "text/html": [
       "<div>\n",
       "<style scoped>\n",
       "    .dataframe tbody tr th:only-of-type {\n",
       "        vertical-align: middle;\n",
       "    }\n",
       "\n",
       "    .dataframe tbody tr th {\n",
       "        vertical-align: top;\n",
       "    }\n",
       "\n",
       "    .dataframe thead th {\n",
       "        text-align: right;\n",
       "    }\n",
       "</style>\n",
       "<table border=\"1\" class=\"dataframe\">\n",
       "  <thead>\n",
       "    <tr style=\"text-align: right;\">\n",
       "      <th></th>\n",
       "      <th>all_text</th>\n",
       "      <th>name</th>\n",
       "      <th>rating</th>\n",
       "      <th>roaster</th>\n",
       "      <th>slug</th>\n",
       "      <th>region_africa_arabia</th>\n",
       "      <th>region_caribbean</th>\n",
       "      <th>region_central_america</th>\n",
       "      <th>region_hawaii</th>\n",
       "      <th>region_asia_pacific</th>\n",
       "      <th>...</th>\n",
       "      <th>aroma</th>\n",
       "      <th>acid</th>\n",
       "      <th>body</th>\n",
       "      <th>flavor</th>\n",
       "      <th>aftertaste</th>\n",
       "      <th>with_milk</th>\n",
       "      <th>desc_1</th>\n",
       "      <th>desc_2</th>\n",
       "      <th>desc_3</th>\n",
       "      <th>desc_4</th>\n",
       "    </tr>\n",
       "  </thead>\n",
       "  <tbody>\n",
       "    <tr>\n",
       "      <th>0</th>\n",
       "      <td>\\n\\n\\n\\n \\n93\\nFlight Coffee Co.\\nEthiopia Der...</td>\n",
       "      <td>Ethiopia Deri Kochoha</td>\n",
       "      <td>93</td>\n",
       "      <td>Flight Coffee Co.</td>\n",
       "      <td>/review/ethiopia-deri-kochoha-2</td>\n",
       "      <td>1</td>\n",
       "      <td>0</td>\n",
       "      <td>0</td>\n",
       "      <td>0</td>\n",
       "      <td>0</td>\n",
       "      <td>...</td>\n",
       "      <td>9.0</td>\n",
       "      <td>8.0</td>\n",
       "      <td>9.0</td>\n",
       "      <td>9.0</td>\n",
       "      <td>8.0</td>\n",
       "      <td>NaN</td>\n",
       "      <td>Bright, crisp, sweetly tart. Citrus medley, ca...</td>\n",
       "      <td>From the Deri Kochoha mill in the Hagere Marya...</td>\n",
       "      <td>A poised and melodic wet-processed Ethiopia co...</td>\n",
       "      <td>NaN</td>\n",
       "    </tr>\n",
       "    <tr>\n",
       "      <th>1</th>\n",
       "      <td>\\n\\n\\n\\n\\n91\\nDoi Chaang Coffee\\nEspresso\\nLoc...</td>\n",
       "      <td>Espresso</td>\n",
       "      <td>91</td>\n",
       "      <td>Doi Chaang Coffee</td>\n",
       "      <td>/review/espresso-14</td>\n",
       "      <td>0</td>\n",
       "      <td>0</td>\n",
       "      <td>0</td>\n",
       "      <td>0</td>\n",
       "      <td>1</td>\n",
       "      <td>...</td>\n",
       "      <td>8.0</td>\n",
       "      <td>NaN</td>\n",
       "      <td>8.0</td>\n",
       "      <td>8.0</td>\n",
       "      <td>8.0</td>\n",
       "      <td>9.0</td>\n",
       "      <td>Evaluated as espresso. Deeply rich, sweetly ro...</td>\n",
       "      <td>Doi Chaang is a single-estate coffee produced ...</td>\n",
       "      <td>A rich, resonant espresso from Thailand, espec...</td>\n",
       "      <td>NaN</td>\n",
       "    </tr>\n",
       "    <tr>\n",
       "      <th>2</th>\n",
       "      <td>\\n\\n\\n\\n \\n95\\nTemple Coffee and Tea\\nKenya Ru...</td>\n",
       "      <td>Kenya Ruthaka Peaberry</td>\n",
       "      <td>95</td>\n",
       "      <td>Temple Coffee and Tea</td>\n",
       "      <td>/review/kenya-ruthaka-peaberry</td>\n",
       "      <td>1</td>\n",
       "      <td>0</td>\n",
       "      <td>0</td>\n",
       "      <td>0</td>\n",
       "      <td>0</td>\n",
       "      <td>...</td>\n",
       "      <td>9.0</td>\n",
       "      <td>8.0</td>\n",
       "      <td>9.0</td>\n",
       "      <td>10.0</td>\n",
       "      <td>8.0</td>\n",
       "      <td>NaN</td>\n",
       "      <td>Deeply sweet, richly savory. Dark chocolate, p...</td>\n",
       "      <td>Despite challenges ranging from contested gove...</td>\n",
       "      <td>A high-toned, nuanced Kenya cup, classic in it...</td>\n",
       "      <td>NaN</td>\n",
       "    </tr>\n",
       "    <tr>\n",
       "      <th>3</th>\n",
       "      <td>\\n\\n\\n\\n \\n93\\nTemple Coffee and Tea\\nEthiopia...</td>\n",
       "      <td>Ethiopia Gora Kone Sidamo</td>\n",
       "      <td>93</td>\n",
       "      <td>Temple Coffee and Tea</td>\n",
       "      <td>/review/ethiopia-gora-kone-sidamo</td>\n",
       "      <td>1</td>\n",
       "      <td>0</td>\n",
       "      <td>0</td>\n",
       "      <td>0</td>\n",
       "      <td>0</td>\n",
       "      <td>...</td>\n",
       "      <td>9.0</td>\n",
       "      <td>8.0</td>\n",
       "      <td>9.0</td>\n",
       "      <td>9.0</td>\n",
       "      <td>8.0</td>\n",
       "      <td>NaN</td>\n",
       "      <td>Fruit-forward, richly chocolaty. Raspberry cou...</td>\n",
       "      <td>Southern Ethiopia coffees like this one are la...</td>\n",
       "      <td>A playful, unrestrained fruit bomb of a coffee...</td>\n",
       "      <td>NaN</td>\n",
       "    </tr>\n",
       "    <tr>\n",
       "      <th>4</th>\n",
       "      <td>\\n\\n\\n\\n\\n93\\nChoosy Gourmet\\nSpecialty Coffee...</td>\n",
       "      <td>Specialty Coffee Blend Espresso</td>\n",
       "      <td>93</td>\n",
       "      <td>Choosy Gourmet</td>\n",
       "      <td>/review/specialty-coffee-blend-espresso</td>\n",
       "      <td>0</td>\n",
       "      <td>0</td>\n",
       "      <td>0</td>\n",
       "      <td>0</td>\n",
       "      <td>0</td>\n",
       "      <td>...</td>\n",
       "      <td>9.0</td>\n",
       "      <td>NaN</td>\n",
       "      <td>8.0</td>\n",
       "      <td>9.0</td>\n",
       "      <td>8.0</td>\n",
       "      <td>9.0</td>\n",
       "      <td>Evaluated as espresso. Rich, chocolaty, sweetl...</td>\n",
       "      <td>A blend of coffees from Ethiopia (natural-proc...</td>\n",
       "      <td>An espresso blend in which spice notes — in pa...</td>\n",
       "      <td>NaN</td>\n",
       "    </tr>\n",
       "  </tbody>\n",
       "</table>\n",
       "<p>5 rows × 34 columns</p>\n",
       "</div>"
      ],
      "text/plain": [
       "                                            all_text  \\\n",
       "0  \\n\\n\\n\\n \\n93\\nFlight Coffee Co.\\nEthiopia Der...   \n",
       "1  \\n\\n\\n\\n\\n91\\nDoi Chaang Coffee\\nEspresso\\nLoc...   \n",
       "2  \\n\\n\\n\\n \\n95\\nTemple Coffee and Tea\\nKenya Ru...   \n",
       "3  \\n\\n\\n\\n \\n93\\nTemple Coffee and Tea\\nEthiopia...   \n",
       "4  \\n\\n\\n\\n\\n93\\nChoosy Gourmet\\nSpecialty Coffee...   \n",
       "\n",
       "                              name rating                roaster  \\\n",
       "0            Ethiopia Deri Kochoha     93      Flight Coffee Co.   \n",
       "1                         Espresso     91      Doi Chaang Coffee   \n",
       "2           Kenya Ruthaka Peaberry     95  Temple Coffee and Tea   \n",
       "3        Ethiopia Gora Kone Sidamo     93  Temple Coffee and Tea   \n",
       "4  Specialty Coffee Blend Espresso     93         Choosy Gourmet   \n",
       "\n",
       "                                      slug  region_africa_arabia  \\\n",
       "0          /review/ethiopia-deri-kochoha-2                     1   \n",
       "1                      /review/espresso-14                     0   \n",
       "2           /review/kenya-ruthaka-peaberry                     1   \n",
       "3        /review/ethiopia-gora-kone-sidamo                     1   \n",
       "4  /review/specialty-coffee-blend-espresso                     0   \n",
       "\n",
       "   region_caribbean  region_central_america  region_hawaii  \\\n",
       "0                 0                       0              0   \n",
       "1                 0                       0              0   \n",
       "2                 0                       0              0   \n",
       "3                 0                       0              0   \n",
       "4                 0                       0              0   \n",
       "\n",
       "   region_asia_pacific  ...  aroma  acid  body  flavor  aftertaste  with_milk  \\\n",
       "0                    0  ...    9.0   8.0   9.0     9.0         8.0        NaN   \n",
       "1                    1  ...    8.0   NaN   8.0     8.0         8.0        9.0   \n",
       "2                    0  ...    9.0   8.0   9.0    10.0         8.0        NaN   \n",
       "3                    0  ...    9.0   8.0   9.0     9.0         8.0        NaN   \n",
       "4                    0  ...    9.0   NaN   8.0     9.0         8.0        9.0   \n",
       "\n",
       "                                              desc_1  \\\n",
       "0  Bright, crisp, sweetly tart. Citrus medley, ca...   \n",
       "1  Evaluated as espresso. Deeply rich, sweetly ro...   \n",
       "2  Deeply sweet, richly savory. Dark chocolate, p...   \n",
       "3  Fruit-forward, richly chocolaty. Raspberry cou...   \n",
       "4  Evaluated as espresso. Rich, chocolaty, sweetl...   \n",
       "\n",
       "                                              desc_2  \\\n",
       "0  From the Deri Kochoha mill in the Hagere Marya...   \n",
       "1  Doi Chaang is a single-estate coffee produced ...   \n",
       "2  Despite challenges ranging from contested gove...   \n",
       "3  Southern Ethiopia coffees like this one are la...   \n",
       "4  A blend of coffees from Ethiopia (natural-proc...   \n",
       "\n",
       "                                              desc_3 desc_4  \n",
       "0  A poised and melodic wet-processed Ethiopia co...    NaN  \n",
       "1  A rich, resonant espresso from Thailand, espec...    NaN  \n",
       "2  A high-toned, nuanced Kenya cup, classic in it...    NaN  \n",
       "3  A playful, unrestrained fruit bomb of a coffee...    NaN  \n",
       "4  An espresso blend in which spice notes — in pa...    NaN  \n",
       "\n",
       "[5 rows x 34 columns]"
      ]
     },
     "execution_count": 2,
     "metadata": {},
     "output_type": "execute_result"
    }
   ],
   "source": [
    "# Read the csv into a Pandas DataFrame\n",
    "coffee_df = pd.read_csv('../Resources/coffee.csv', encoding='utf-8')\n",
    "coffee_df.head()"
   ]
  },
  {
   "cell_type": "code",
   "execution_count": 3,
   "id": "df3c9a5c-a316-4cdf-9c41-64927cbdde93",
   "metadata": {
    "scrolled": true,
    "tags": []
   },
   "outputs": [
    {
     "name": "stdout",
     "output_type": "stream",
     "text": [
      "<class 'pandas.core.frame.DataFrame'>\n",
      "RangeIndex: 5124 entries, 0 to 5123\n",
      "Data columns (total 34 columns):\n",
      " #   Column                  Non-Null Count  Dtype  \n",
      "---  ------                  --------------  -----  \n",
      " 0   all_text                5124 non-null   object \n",
      " 1   name                    5124 non-null   object \n",
      " 2   rating                  5124 non-null   object \n",
      " 3   roaster                 5124 non-null   object \n",
      " 4   slug                    5124 non-null   object \n",
      " 5   region_africa_arabia    5124 non-null   int64  \n",
      " 6   region_caribbean        5124 non-null   int64  \n",
      " 7   region_central_america  5124 non-null   int64  \n",
      " 8   region_hawaii           5124 non-null   int64  \n",
      " 9   region_asia_pacific     5124 non-null   int64  \n",
      " 10  region_south_america    5124 non-null   int64  \n",
      " 11  type_espresso           5124 non-null   int64  \n",
      " 12  type_organic            5124 non-null   int64  \n",
      " 13  type_fair_trade         5124 non-null   int64  \n",
      " 14  type_decaffeinated      5124 non-null   int64  \n",
      " 15  type_pod_capsule        5124 non-null   int64  \n",
      " 16  type_blend              5124 non-null   int64  \n",
      " 17  type_estate             5124 non-null   int64  \n",
      " 18  location                5122 non-null   object \n",
      " 19  origin                  4529 non-null   object \n",
      " 20  roast                   4696 non-null   object \n",
      " 21  est_price               3014 non-null   object \n",
      " 22  review_date             5124 non-null   object \n",
      " 23  agtron                  5124 non-null   object \n",
      " 24  aroma                   5085 non-null   float64\n",
      " 25  acid                    4256 non-null   float64\n",
      " 26  body                    5111 non-null   float64\n",
      " 27  flavor                  5106 non-null   float64\n",
      " 28  aftertaste              4111 non-null   float64\n",
      " 29  with_milk               700 non-null    float64\n",
      " 30  desc_1                  5124 non-null   object \n",
      " 31  desc_2                  5124 non-null   object \n",
      " 32  desc_3                  971 non-null    object \n",
      " 33  desc_4                  4153 non-null   object \n",
      "dtypes: float64(6), int64(13), object(15)\n",
      "memory usage: 1.3+ MB\n"
     ]
    }
   ],
   "source": [
    "# Get a brief summary of DataFrame\n",
    "coffee_df.info()"
   ]
  },
  {
   "cell_type": "code",
   "execution_count": 4,
   "id": "9a5c3244-2604-4d64-b27c-9e704351023c",
   "metadata": {
    "tags": []
   },
   "outputs": [],
   "source": [
    "# drop unnecessary columns \n",
    "coffee_df = coffee_df.drop(columns=['all_text', 'est_price', 'review_date', 'agtron', 'location', 'with_milk', 'desc_3', 'desc_4'])"
   ]
  },
  {
   "cell_type": "code",
   "execution_count": 5,
   "id": "4c87a55f-c50c-4e62-9e02-229fb7ee97d2",
   "metadata": {
    "tags": []
   },
   "outputs": [],
   "source": [
    "#coffee_df.head()"
   ]
  },
  {
   "cell_type": "code",
   "execution_count": 6,
   "id": "0e1c0397-826d-4aa4-8949-7af82417bba6",
   "metadata": {},
   "outputs": [
    {
     "ename": "TypeError",
     "evalue": "expected string or bytes-like object, got 'list'",
     "output_type": "error",
     "traceback": [
      "\u001b[1;31m---------------------------------------------------------------------------\u001b[0m",
      "\u001b[1;31mTypeError\u001b[0m                                 Traceback (most recent call last)",
      "Cell \u001b[1;32mIn[6], line 9\u001b[0m\n\u001b[0;32m      2\u001b[0m columns_to_clean \u001b[38;5;241m=\u001b[39m [\u001b[38;5;124m'\u001b[39m\u001b[38;5;124mroaster\u001b[39m\u001b[38;5;124m'\u001b[39m,\u001b[38;5;124m'\u001b[39m\u001b[38;5;124mdesc_1\u001b[39m\u001b[38;5;124m'\u001b[39m, \u001b[38;5;124m'\u001b[39m\u001b[38;5;124mdesc_2\u001b[39m\u001b[38;5;124m'\u001b[39m]\n\u001b[0;32m      4\u001b[0m \u001b[38;5;66;03m# Define a regular expression to match special characters\u001b[39;00m\n\u001b[0;32m      5\u001b[0m \u001b[38;5;66;03m# special_characters_pattern = r'[^a-zA-Z0-9\\s,]'\u001b[39;00m\n\u001b[0;32m      6\u001b[0m \n\u001b[0;32m      7\u001b[0m \u001b[38;5;66;03m# Clean each specified column\u001b[39;00m\n\u001b[0;32m      8\u001b[0m \u001b[38;5;66;03m# Remove special characters excluding commas\u001b[39;00m\n\u001b[1;32m----> 9\u001b[0m cleaned_text \u001b[38;5;241m=\u001b[39m re\u001b[38;5;241m.\u001b[39msub(\u001b[38;5;124mr\u001b[39m\u001b[38;5;124m'\u001b[39m\u001b[38;5;124m[^a-zA-Z0-9\u001b[39m\u001b[38;5;124m\\\u001b[39m\u001b[38;5;124ms,]\u001b[39m\u001b[38;5;124m'\u001b[39m, \u001b[38;5;124m'\u001b[39m\u001b[38;5;124m'\u001b[39m, columns_to_clean)\n",
      "File \u001b[1;32m~\\anaconda3\\envs\\NewPythonData\\Lib\\re\\__init__.py:185\u001b[0m, in \u001b[0;36msub\u001b[1;34m(pattern, repl, string, count, flags)\u001b[0m\n\u001b[0;32m    178\u001b[0m \u001b[38;5;28;01mdef\u001b[39;00m \u001b[38;5;21msub\u001b[39m(pattern, repl, string, count\u001b[38;5;241m=\u001b[39m\u001b[38;5;241m0\u001b[39m, flags\u001b[38;5;241m=\u001b[39m\u001b[38;5;241m0\u001b[39m):\n\u001b[0;32m    179\u001b[0m \u001b[38;5;250m    \u001b[39m\u001b[38;5;124;03m\"\"\"Return the string obtained by replacing the leftmost\u001b[39;00m\n\u001b[0;32m    180\u001b[0m \u001b[38;5;124;03m    non-overlapping occurrences of the pattern in string by the\u001b[39;00m\n\u001b[0;32m    181\u001b[0m \u001b[38;5;124;03m    replacement repl.  repl can be either a string or a callable;\u001b[39;00m\n\u001b[0;32m    182\u001b[0m \u001b[38;5;124;03m    if a string, backslash escapes in it are processed.  If it is\u001b[39;00m\n\u001b[0;32m    183\u001b[0m \u001b[38;5;124;03m    a callable, it's passed the Match object and must return\u001b[39;00m\n\u001b[0;32m    184\u001b[0m \u001b[38;5;124;03m    a replacement string to be used.\"\"\"\u001b[39;00m\n\u001b[1;32m--> 185\u001b[0m     \u001b[38;5;28;01mreturn\u001b[39;00m _compile(pattern, flags)\u001b[38;5;241m.\u001b[39msub(repl, string, count)\n",
      "\u001b[1;31mTypeError\u001b[0m: expected string or bytes-like object, got 'list'"
     ]
    }
   ],
   "source": [
    "# Specify the columns to clean\n",
    "columns_to_clean = ['roaster','desc_1', 'desc_2']\n",
    "\n",
    "# Define a regular expression to match special characters\n",
    "special_characters_pattern = r'[^a-zA-Z0-9\\s,]'\n",
    "\n",
    "# Clean each specified column\n",
    "for column in columns_to_clean:\n",
    "    coffee_df[column] = coffee_df[column].str.replace(special_characters_pattern, '', regex=True)"
   ]
  },
  {
   "cell_type": "code",
   "execution_count": null,
   "id": "16c6fd46-0d14-4376-a227-fc106668775b",
   "metadata": {},
   "outputs": [],
   "source": [
    "# Apply the lower method to all columns using applymap\n",
    "coffee_df = coffee_df.applymap(lambda x: x.lower() if isinstance(x, str) else x)"
   ]
  },
  {
   "cell_type": "code",
   "execution_count": null,
   "id": "7a0aaafd-7c79-4afa-a6c3-d84c6b8f517e",
   "metadata": {
    "tags": []
   },
   "outputs": [],
   "source": [
    "# Replace hyphens with underscores in the specified column\n",
    "coffee_df['roast'] = coffee_df['roast'].str.replace('-', '_')"
   ]
  },
  {
   "cell_type": "code",
   "execution_count": null,
   "id": "8ef2cf95-331a-4be2-be7c-d87cdb032fa0",
   "metadata": {
    "tags": []
   },
   "outputs": [],
   "source": [
    "coffee_df.info()"
   ]
  },
  {
   "cell_type": "markdown",
   "id": "17bb8434-65ad-453e-8744-06ca6b01863d",
   "metadata": {},
   "source": [
    "### Work with the 'origin' column"
   ]
  },
  {
   "cell_type": "code",
   "execution_count": null,
   "id": "e884ef2b-529a-417c-9fec-91bf1b56f276",
   "metadata": {
    "tags": []
   },
   "outputs": [],
   "source": [
    "coffee_df['origin'].value_counts()"
   ]
  },
  {
   "cell_type": "code",
   "execution_count": null,
   "id": "7b83fa8a-4728-427c-995e-08f12423ea07",
   "metadata": {
    "tags": []
   },
   "outputs": [],
   "source": [
    "# Remove the dot at the end of string in new 'country_of_origin' column\n",
    "coffee_df['origin'] = coffee_df['origin'].str.rstrip('.')\n",
    "coffee_df['origin'].value_counts()"
   ]
  },
  {
   "cell_type": "code",
   "execution_count": null,
   "id": "67c065b7-32c6-457c-9a6e-2402367c5d12",
   "metadata": {
    "tags": []
   },
   "outputs": [],
   "source": [
    "# Delete rows where country is listed as 'not disclosed'\n",
    "coffee_df = coffee_df[coffee_df['origin'] != 'Not disclosed']\n",
    "coffee_df = coffee_df[coffee_df['origin'] != 'Not Disclosed']"
   ]
  },
  {
   "cell_type": "code",
   "execution_count": null,
   "id": "34cbbf0d-749e-41f1-b133-26841180d0a6",
   "metadata": {
    "tags": []
   },
   "outputs": [],
   "source": [
    "# Delete rows with NaN values\n",
    "coffee_df = coffee_df.dropna(subset=['origin'])"
   ]
  },
  {
   "cell_type": "code",
   "execution_count": null,
   "id": "002ac01a-1deb-47a0-8056-cd83b12778b2",
   "metadata": {
    "tags": []
   },
   "outputs": [],
   "source": [
    "# Specify the column with strings\n",
    "columnName = 'origin'\n",
    "\n",
    "# Create a new column to store the split result\n",
    "newColumnName = 'country_of_origin'\n",
    "\n",
    "# Function to split the last word and add it to a new column\n",
    "def split_last_word_except_semicolon(text):\n",
    "    if pd.isna(text):  # Check if the value is NaN\n",
    "        return ''\n",
    "    words = re.split(r'\\s*;\\s*|\\s+', text)\n",
    "    return words[-1]\n",
    "\n",
    "# Apply the function to create a new column\n",
    "coffee_df['country_of_origin'] = coffee_df['origin'].apply(split_last_word_except_semicolon)\n",
    "\n",
    "# Print the updated DataFrame\n",
    "coffee_df.head()"
   ]
  },
  {
   "cell_type": "code",
   "execution_count": null,
   "id": "e56753ba-6e1b-498d-aab9-a1b2da496a6a",
   "metadata": {
    "tags": []
   },
   "outputs": [],
   "source": [
    "coffee_df['country_of_origin'].value_counts()"
   ]
  },
  {
   "cell_type": "code",
   "execution_count": null,
   "id": "f0f5de7e-25df-4011-beb2-c2ba59f8e6b4",
   "metadata": {
    "tags": []
   },
   "outputs": [],
   "source": [
    "# Change the datatype of the specified column to string\n",
    "coffee_df['country_of_origin'] = coffee_df['country_of_origin'].astype(str)\n",
    "\n",
    "# Create a function to identify instances of 'origin' where the value count is less than a certain number\n",
    "def single_instances_grouped(instances, cutoff):\n",
    "    instances_map = {}\n",
    "    for i in range(len(instances)):\n",
    "        if instances.values[i] >= cutoff:\n",
    "            instances_map[instances.index[i]] = instances.index[i]\n",
    "        else:\n",
    "            instances_map[instances.index[i]] = 'other'\n",
    "    return instances_map\n",
    "\n",
    "origin_map = single_instances_grouped(coffee_df.country_of_origin.value_counts(), 12)\n",
    "coffee_df['country_of_origin'] = coffee_df['country_of_origin'].map(origin_map)\n",
    "coffee_df.country_of_origin.value_counts()"
   ]
  },
  {
   "cell_type": "code",
   "execution_count": null,
   "id": "fd9a09d0-b3f2-4a14-b195-d7af4716e8b2",
   "metadata": {
    "tags": []
   },
   "outputs": [],
   "source": [
    "# Drop the rows with blank values from the original DataFrame\n",
    "rows_with_blank_values = coffee_df[coffee_df['country_of_origin'].isna() | (coffee_df['country_of_origin'] == '')]\n",
    "\n",
    "if not rows_with_blank_values.empty:\n",
    "    coffee_df.drop(rows_with_blank_values.index, inplace=True)\n",
    "\n",
    "coffee_df.country_of_origin.value_counts()"
   ]
  },
  {
   "cell_type": "code",
   "execution_count": null,
   "id": "d81a4bdd-867a-44a4-9a30-59d74d7d57f1",
   "metadata": {
    "tags": []
   },
   "outputs": [],
   "source": [
    "coffee_df.country_of_origin.value_counts().sum()"
   ]
  },
  {
   "cell_type": "code",
   "execution_count": null,
   "id": "017d7e9f-f63d-4e26-9386-f1443d43d724",
   "metadata": {
    "tags": []
   },
   "outputs": [],
   "source": [
    "coffee_df = coffee_df.drop(columns='origin')"
   ]
  },
  {
   "cell_type": "code",
   "execution_count": null,
   "id": "e911e40a-634c-450e-9cce-570f9cfc87be",
   "metadata": {
    "tags": []
   },
   "outputs": [],
   "source": [
    "coffee_df.info()"
   ]
  },
  {
   "cell_type": "code",
   "execution_count": null,
   "id": "4492fba5-f3b7-4b18-8c2f-3a1722f8c795",
   "metadata": {},
   "outputs": [],
   "source": [
    "# Reorder columns in the DataFrame\n",
    "coffee_df = coffee_df[['slug', 'name', 'roaster', 'roast', 'country_of_origin', 'desc_1', 'desc_2', 'rating', \n",
    "                      'region_africa_arabia', 'region_caribbean', 'region_central_america', 'region_hawaii', 'region_asia_pacific', 'region_south_america', \n",
    "                      'type_espresso', 'type_organic', 'type_fair_trade', 'type_decaffeinated', 'type_pod_capsule', 'type_blend', 'type_estate', \n",
    "                      'aroma', 'acid', 'body', 'flavor', 'aftertaste']]"
   ]
  },
  {
   "cell_type": "code",
   "execution_count": null,
   "id": "096c8634-ac10-488a-b042-1aaf341c21bd",
   "metadata": {},
   "outputs": [],
   "source": [
    "coffee_df.info()"
   ]
  },
  {
   "cell_type": "code",
   "execution_count": null,
   "id": "d1e1cf55-83f2-4a0e-a7e4-d30575373083",
   "metadata": {},
   "outputs": [],
   "source": [
    "# # Function to get latitude and longitude\n",
    "# def get_lat_lon(country_name):\n",
    "#     geolocator = Nominatim(user_agent=\"my_geocoder\")\n",
    "    \n",
    "#     try:\n",
    "#         location = geolocator.geocode(country_name)\n",
    "#         if location is not None:\n",
    "#             return location.latitude, location.longitude\n",
    "#         else:\n",
    "#             return None, None\n",
    "#     except Exception as e:\n",
    "#         print(f\"Error: {e}\")\n",
    "#         return None, None\n",
    "\n",
    "# # Apply the function to the 'Country' column\n",
    "# coffee_df[['Latitude', 'Longitude']] = coffee_df['country_of_origin'].apply(lambda x: pd.Series(get_lat_lon(x)))\n",
    "\n",
    "# # Print the updated DataFrame\n",
    "# coffee_df.head()"
   ]
  },
  {
   "cell_type": "code",
   "execution_count": null,
   "id": "c41da049-b3ca-4127-8cc9-78f42d8e2fcd",
   "metadata": {},
   "outputs": [],
   "source": [
    "# # Create lat and lon columns and use GeoFy library to extract the coordinates of each country\n",
    "\n",
    "# def get_lat_lon_for_country(country_name):\n",
    "#     geolocator = Nominatim(user_agent=\"country_locator\")\n",
    "#     location = geolocator.geocode(country_name)\n",
    "    \n",
    "#     if location:\n",
    "#         return location.latitude, location.longitude\n",
    "#     else:\n",
    "#         return None\n",
    "\n",
    "# # Create new columns for latitude and longitude\n",
    "# coffee_df['latitude'] = None\n",
    "# coffee_df['longitude'] = None\n",
    "\n",
    "# # Iterate through rows and geocode each country\n",
    "# for index, row in coffee_df.iterrows():\n",
    "#     country_name = row['country_of_origin']  # Replace 'CountryColumnName' with the actual column name in your CSV\n",
    "#     lat_lon = get_lat_lon_for_country(country_name)\n",
    "    \n",
    "#     if lat_lon:\n",
    "#         coffee_df.at[index, 'latitude'] = lat_lon[0]\n",
    "#         coffee_df.at[index, 'longitude'] = lat_lon[1]\n",
    "\n",
    "# coffee_df.head()"
   ]
  },
  {
   "cell_type": "code",
   "execution_count": null,
   "id": "7e11e775-a2a0-4394-8611-20ab1f469613",
   "metadata": {
    "tags": []
   },
   "outputs": [],
   "source": [
    "coffee_df.to_csv('../Resources/NEW_coffee_final.csv', index=False)"
   ]
  }
 ],
 "metadata": {
  "kernelspec": {
   "display_name": "Python 3 (ipykernel)",
   "language": "python",
   "name": "python3"
  },
  "language_info": {
   "codemirror_mode": {
    "name": "ipython",
    "version": 3
   },
   "file_extension": ".py",
   "mimetype": "text/x-python",
   "name": "python",
   "nbconvert_exporter": "python",
   "pygments_lexer": "ipython3",
   "version": "3.11.5"
  }
 },
 "nbformat": 4,
 "nbformat_minor": 5
}
