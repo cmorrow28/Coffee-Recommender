{
 "cells": [
  {
   "cell_type": "markdown",
   "id": "67abe3d4-b936-4ab9-9e08-d231aef1cc60",
   "metadata": {},
   "source": [
    "## This is the notebook for the new coffee.csv file we found.\n",
    "\n",
    "Cleaning and exploration code below..."
   ]
  },
  {
   "cell_type": "code",
   "execution_count": 1,
   "id": "9a24e287-26f7-4c57-8e50-e240eb7c75ef",
   "metadata": {
    "tags": []
   },
   "outputs": [],
   "source": [
    "#!pip install geopy"
   ]
  },
  {
   "cell_type": "code",
   "execution_count": 2,
   "id": "caf8210a-ef78-477c-bf4e-bd21257e3dd5",
   "metadata": {
    "tags": []
   },
   "outputs": [],
   "source": [
    "import pandas as pd\n",
    "import numpy as np\n",
    "import matplotlib.pyplot as plt\n",
    "import seaborn as sns\n",
    "from geopy.geocoders import Nominatim\n",
    "import re"
   ]
  },
  {
   "cell_type": "code",
   "execution_count": 3,
   "id": "582084e1-4143-4a98-be80-204631773497",
   "metadata": {
    "tags": []
   },
   "outputs": [
    {
     "data": {
      "text/html": [
       "<div>\n",
       "<style scoped>\n",
       "    .dataframe tbody tr th:only-of-type {\n",
       "        vertical-align: middle;\n",
       "    }\n",
       "\n",
       "    .dataframe tbody tr th {\n",
       "        vertical-align: top;\n",
       "    }\n",
       "\n",
       "    .dataframe thead th {\n",
       "        text-align: right;\n",
       "    }\n",
       "</style>\n",
       "<table border=\"1\" class=\"dataframe\">\n",
       "  <thead>\n",
       "    <tr style=\"text-align: right;\">\n",
       "      <th></th>\n",
       "      <th>all_text</th>\n",
       "      <th>name</th>\n",
       "      <th>rating</th>\n",
       "      <th>roaster</th>\n",
       "      <th>slug</th>\n",
       "      <th>region_africa_arabia</th>\n",
       "      <th>region_caribbean</th>\n",
       "      <th>region_central_america</th>\n",
       "      <th>region_hawaii</th>\n",
       "      <th>region_asia_pacific</th>\n",
       "      <th>...</th>\n",
       "      <th>aroma</th>\n",
       "      <th>acid</th>\n",
       "      <th>body</th>\n",
       "      <th>flavor</th>\n",
       "      <th>aftertaste</th>\n",
       "      <th>with_milk</th>\n",
       "      <th>desc_1</th>\n",
       "      <th>desc_2</th>\n",
       "      <th>desc_3</th>\n",
       "      <th>desc_4</th>\n",
       "    </tr>\n",
       "  </thead>\n",
       "  <tbody>\n",
       "    <tr>\n",
       "      <th>0</th>\n",
       "      <td>\\n\\n\\n\\n \\n93\\nFlight Coffee Co.\\nEthiopia Der...</td>\n",
       "      <td>Ethiopia Deri Kochoha</td>\n",
       "      <td>93</td>\n",
       "      <td>Flight Coffee Co.</td>\n",
       "      <td>/review/ethiopia-deri-kochoha-2</td>\n",
       "      <td>1</td>\n",
       "      <td>0</td>\n",
       "      <td>0</td>\n",
       "      <td>0</td>\n",
       "      <td>0</td>\n",
       "      <td>...</td>\n",
       "      <td>9.0</td>\n",
       "      <td>8.0</td>\n",
       "      <td>9.0</td>\n",
       "      <td>9.0</td>\n",
       "      <td>8.0</td>\n",
       "      <td>NaN</td>\n",
       "      <td>Bright, crisp, sweetly tart. Citrus medley, ca...</td>\n",
       "      <td>From the Deri Kochoha mill in the Hagere Marya...</td>\n",
       "      <td>A poised and melodic wet-processed Ethiopia co...</td>\n",
       "      <td>NaN</td>\n",
       "    </tr>\n",
       "    <tr>\n",
       "      <th>1</th>\n",
       "      <td>\\n\\n\\n\\n\\n91\\nDoi Chaang Coffee\\nEspresso\\nLoc...</td>\n",
       "      <td>Espresso</td>\n",
       "      <td>91</td>\n",
       "      <td>Doi Chaang Coffee</td>\n",
       "      <td>/review/espresso-14</td>\n",
       "      <td>0</td>\n",
       "      <td>0</td>\n",
       "      <td>0</td>\n",
       "      <td>0</td>\n",
       "      <td>1</td>\n",
       "      <td>...</td>\n",
       "      <td>8.0</td>\n",
       "      <td>NaN</td>\n",
       "      <td>8.0</td>\n",
       "      <td>8.0</td>\n",
       "      <td>8.0</td>\n",
       "      <td>9.0</td>\n",
       "      <td>Evaluated as espresso. Deeply rich, sweetly ro...</td>\n",
       "      <td>Doi Chaang is a single-estate coffee produced ...</td>\n",
       "      <td>A rich, resonant espresso from Thailand, espec...</td>\n",
       "      <td>NaN</td>\n",
       "    </tr>\n",
       "    <tr>\n",
       "      <th>2</th>\n",
       "      <td>\\n\\n\\n\\n \\n95\\nTemple Coffee and Tea\\nKenya Ru...</td>\n",
       "      <td>Kenya Ruthaka Peaberry</td>\n",
       "      <td>95</td>\n",
       "      <td>Temple Coffee and Tea</td>\n",
       "      <td>/review/kenya-ruthaka-peaberry</td>\n",
       "      <td>1</td>\n",
       "      <td>0</td>\n",
       "      <td>0</td>\n",
       "      <td>0</td>\n",
       "      <td>0</td>\n",
       "      <td>...</td>\n",
       "      <td>9.0</td>\n",
       "      <td>8.0</td>\n",
       "      <td>9.0</td>\n",
       "      <td>10.0</td>\n",
       "      <td>8.0</td>\n",
       "      <td>NaN</td>\n",
       "      <td>Deeply sweet, richly savory. Dark chocolate, p...</td>\n",
       "      <td>Despite challenges ranging from contested gove...</td>\n",
       "      <td>A high-toned, nuanced Kenya cup, classic in it...</td>\n",
       "      <td>NaN</td>\n",
       "    </tr>\n",
       "    <tr>\n",
       "      <th>3</th>\n",
       "      <td>\\n\\n\\n\\n \\n93\\nTemple Coffee and Tea\\nEthiopia...</td>\n",
       "      <td>Ethiopia Gora Kone Sidamo</td>\n",
       "      <td>93</td>\n",
       "      <td>Temple Coffee and Tea</td>\n",
       "      <td>/review/ethiopia-gora-kone-sidamo</td>\n",
       "      <td>1</td>\n",
       "      <td>0</td>\n",
       "      <td>0</td>\n",
       "      <td>0</td>\n",
       "      <td>0</td>\n",
       "      <td>...</td>\n",
       "      <td>9.0</td>\n",
       "      <td>8.0</td>\n",
       "      <td>9.0</td>\n",
       "      <td>9.0</td>\n",
       "      <td>8.0</td>\n",
       "      <td>NaN</td>\n",
       "      <td>Fruit-forward, richly chocolaty. Raspberry cou...</td>\n",
       "      <td>Southern Ethiopia coffees like this one are la...</td>\n",
       "      <td>A playful, unrestrained fruit bomb of a coffee...</td>\n",
       "      <td>NaN</td>\n",
       "    </tr>\n",
       "    <tr>\n",
       "      <th>4</th>\n",
       "      <td>\\n\\n\\n\\n\\n93\\nChoosy Gourmet\\nSpecialty Coffee...</td>\n",
       "      <td>Specialty Coffee Blend Espresso</td>\n",
       "      <td>93</td>\n",
       "      <td>Choosy Gourmet</td>\n",
       "      <td>/review/specialty-coffee-blend-espresso</td>\n",
       "      <td>0</td>\n",
       "      <td>0</td>\n",
       "      <td>0</td>\n",
       "      <td>0</td>\n",
       "      <td>0</td>\n",
       "      <td>...</td>\n",
       "      <td>9.0</td>\n",
       "      <td>NaN</td>\n",
       "      <td>8.0</td>\n",
       "      <td>9.0</td>\n",
       "      <td>8.0</td>\n",
       "      <td>9.0</td>\n",
       "      <td>Evaluated as espresso. Rich, chocolaty, sweetl...</td>\n",
       "      <td>A blend of coffees from Ethiopia (natural-proc...</td>\n",
       "      <td>An espresso blend in which spice notes — in pa...</td>\n",
       "      <td>NaN</td>\n",
       "    </tr>\n",
       "  </tbody>\n",
       "</table>\n",
       "<p>5 rows × 34 columns</p>\n",
       "</div>"
      ],
      "text/plain": [
       "                                            all_text  \\\n",
       "0  \\n\\n\\n\\n \\n93\\nFlight Coffee Co.\\nEthiopia Der...   \n",
       "1  \\n\\n\\n\\n\\n91\\nDoi Chaang Coffee\\nEspresso\\nLoc...   \n",
       "2  \\n\\n\\n\\n \\n95\\nTemple Coffee and Tea\\nKenya Ru...   \n",
       "3  \\n\\n\\n\\n \\n93\\nTemple Coffee and Tea\\nEthiopia...   \n",
       "4  \\n\\n\\n\\n\\n93\\nChoosy Gourmet\\nSpecialty Coffee...   \n",
       "\n",
       "                              name rating                roaster  \\\n",
       "0            Ethiopia Deri Kochoha     93      Flight Coffee Co.   \n",
       "1                         Espresso     91      Doi Chaang Coffee   \n",
       "2           Kenya Ruthaka Peaberry     95  Temple Coffee and Tea   \n",
       "3        Ethiopia Gora Kone Sidamo     93  Temple Coffee and Tea   \n",
       "4  Specialty Coffee Blend Espresso     93         Choosy Gourmet   \n",
       "\n",
       "                                      slug  region_africa_arabia  \\\n",
       "0          /review/ethiopia-deri-kochoha-2                     1   \n",
       "1                      /review/espresso-14                     0   \n",
       "2           /review/kenya-ruthaka-peaberry                     1   \n",
       "3        /review/ethiopia-gora-kone-sidamo                     1   \n",
       "4  /review/specialty-coffee-blend-espresso                     0   \n",
       "\n",
       "   region_caribbean  region_central_america  region_hawaii  \\\n",
       "0                 0                       0              0   \n",
       "1                 0                       0              0   \n",
       "2                 0                       0              0   \n",
       "3                 0                       0              0   \n",
       "4                 0                       0              0   \n",
       "\n",
       "   region_asia_pacific  ...  aroma  acid  body  flavor  aftertaste  with_milk  \\\n",
       "0                    0  ...    9.0   8.0   9.0     9.0         8.0        NaN   \n",
       "1                    1  ...    8.0   NaN   8.0     8.0         8.0        9.0   \n",
       "2                    0  ...    9.0   8.0   9.0    10.0         8.0        NaN   \n",
       "3                    0  ...    9.0   8.0   9.0     9.0         8.0        NaN   \n",
       "4                    0  ...    9.0   NaN   8.0     9.0         8.0        9.0   \n",
       "\n",
       "                                              desc_1  \\\n",
       "0  Bright, crisp, sweetly tart. Citrus medley, ca...   \n",
       "1  Evaluated as espresso. Deeply rich, sweetly ro...   \n",
       "2  Deeply sweet, richly savory. Dark chocolate, p...   \n",
       "3  Fruit-forward, richly chocolaty. Raspberry cou...   \n",
       "4  Evaluated as espresso. Rich, chocolaty, sweetl...   \n",
       "\n",
       "                                              desc_2  \\\n",
       "0  From the Deri Kochoha mill in the Hagere Marya...   \n",
       "1  Doi Chaang is a single-estate coffee produced ...   \n",
       "2  Despite challenges ranging from contested gove...   \n",
       "3  Southern Ethiopia coffees like this one are la...   \n",
       "4  A blend of coffees from Ethiopia (natural-proc...   \n",
       "\n",
       "                                              desc_3 desc_4  \n",
       "0  A poised and melodic wet-processed Ethiopia co...    NaN  \n",
       "1  A rich, resonant espresso from Thailand, espec...    NaN  \n",
       "2  A high-toned, nuanced Kenya cup, classic in it...    NaN  \n",
       "3  A playful, unrestrained fruit bomb of a coffee...    NaN  \n",
       "4  An espresso blend in which spice notes — in pa...    NaN  \n",
       "\n",
       "[5 rows x 34 columns]"
      ]
     },
     "execution_count": 3,
     "metadata": {},
     "output_type": "execute_result"
    }
   ],
   "source": [
    "# Read the csv into a Pandas DataFrame\n",
    "coffee_df = pd.read_csv('../Resources/coffee.csv', encoding='utf-8')\n",
    "coffee_df.head()"
   ]
  },
  {
   "cell_type": "code",
   "execution_count": 4,
   "id": "df3c9a5c-a316-4cdf-9c41-64927cbdde93",
   "metadata": {
    "scrolled": true,
    "tags": []
   },
   "outputs": [
    {
     "name": "stdout",
     "output_type": "stream",
     "text": [
      "<class 'pandas.core.frame.DataFrame'>\n",
      "RangeIndex: 5124 entries, 0 to 5123\n",
      "Data columns (total 34 columns):\n",
      " #   Column                  Non-Null Count  Dtype  \n",
      "---  ------                  --------------  -----  \n",
      " 0   all_text                5124 non-null   object \n",
      " 1   name                    5124 non-null   object \n",
      " 2   rating                  5124 non-null   object \n",
      " 3   roaster                 5124 non-null   object \n",
      " 4   slug                    5124 non-null   object \n",
      " 5   region_africa_arabia    5124 non-null   int64  \n",
      " 6   region_caribbean        5124 non-null   int64  \n",
      " 7   region_central_america  5124 non-null   int64  \n",
      " 8   region_hawaii           5124 non-null   int64  \n",
      " 9   region_asia_pacific     5124 non-null   int64  \n",
      " 10  region_south_america    5124 non-null   int64  \n",
      " 11  type_espresso           5124 non-null   int64  \n",
      " 12  type_organic            5124 non-null   int64  \n",
      " 13  type_fair_trade         5124 non-null   int64  \n",
      " 14  type_decaffeinated      5124 non-null   int64  \n",
      " 15  type_pod_capsule        5124 non-null   int64  \n",
      " 16  type_blend              5124 non-null   int64  \n",
      " 17  type_estate             5124 non-null   int64  \n",
      " 18  location                5122 non-null   object \n",
      " 19  origin                  4529 non-null   object \n",
      " 20  roast                   4696 non-null   object \n",
      " 21  est_price               3014 non-null   object \n",
      " 22  review_date             5124 non-null   object \n",
      " 23  agtron                  5124 non-null   object \n",
      " 24  aroma                   5085 non-null   float64\n",
      " 25  acid                    4256 non-null   float64\n",
      " 26  body                    5111 non-null   float64\n",
      " 27  flavor                  5106 non-null   float64\n",
      " 28  aftertaste              4111 non-null   float64\n",
      " 29  with_milk               700 non-null    float64\n",
      " 30  desc_1                  5124 non-null   object \n",
      " 31  desc_2                  5124 non-null   object \n",
      " 32  desc_3                  971 non-null    object \n",
      " 33  desc_4                  4153 non-null   object \n",
      "dtypes: float64(6), int64(13), object(15)\n",
      "memory usage: 1.3+ MB\n"
     ]
    }
   ],
   "source": [
    "# Get a brief summary of DataFrame\n",
    "coffee_df.info()"
   ]
  },
  {
   "cell_type": "code",
   "execution_count": 5,
   "id": "9a5c3244-2604-4d64-b27c-9e704351023c",
   "metadata": {
    "tags": []
   },
   "outputs": [],
   "source": [
    "# drop unnecessary columns \n",
    "coffee_df = coffee_df.drop(columns=['all_text', 'est_price', 'review_date', 'agtron', 'location', 'with_milk', 'desc_3', 'desc_4'])"
   ]
  },
  {
   "cell_type": "code",
   "execution_count": 6,
   "id": "4c87a55f-c50c-4e62-9e02-229fb7ee97d2",
   "metadata": {
    "tags": []
   },
   "outputs": [],
   "source": [
    "#coffee_df.head()"
   ]
  },
  {
   "cell_type": "code",
   "execution_count": 6,
   "id": "0e1c0397-826d-4aa4-8949-7af82417bba6",
   "metadata": {},
   "outputs": [],
   "source": [
    "# Specify the columns to clean\n",
    "columns_to_clean = ['roaster','desc_1', 'desc_2']\n",
    "\n",
    "# Define a regular expression to match special characters\n",
    "special_characters_pattern = r'[^a-zA-Z0-9\\s,]'\n",
    "\n",
    "# Clean each specified column\n",
    "for column in columns_to_clean:\n",
    "    coffee_df[column] = coffee_df[column].str.replace(special_characters_pattern, '', regex=True)"
   ]
  },
  {
   "cell_type": "code",
   "execution_count": 7,
   "id": "16c6fd46-0d14-4376-a227-fc106668775b",
   "metadata": {},
   "outputs": [],
   "source": [
    "# Apply the lower method to all columns using applymap\n",
    "coffee_df = coffee_df.applymap(lambda x: x.lower() if isinstance(x, str) else x)"
   ]
  },
  {
   "cell_type": "code",
   "execution_count": 8,
   "id": "7a0aaafd-7c79-4afa-a6c3-d84c6b8f517e",
   "metadata": {
    "tags": []
   },
   "outputs": [],
   "source": [
    "# Replace hyphens with underscores in the specified column\n",
    "coffee_df['roast'] = coffee_df['roast'].str.replace('-', '_')"
   ]
  },
  {
   "cell_type": "code",
   "execution_count": 9,
   "id": "8ef2cf95-331a-4be2-be7c-d87cdb032fa0",
   "metadata": {
    "tags": []
   },
   "outputs": [
    {
     "name": "stdout",
     "output_type": "stream",
     "text": [
      "<class 'pandas.core.frame.DataFrame'>\n",
      "RangeIndex: 5124 entries, 0 to 5123\n",
      "Data columns (total 26 columns):\n",
      " #   Column                  Non-Null Count  Dtype  \n",
      "---  ------                  --------------  -----  \n",
      " 0   name                    5124 non-null   object \n",
      " 1   rating                  5124 non-null   object \n",
      " 2   roaster                 5124 non-null   object \n",
      " 3   slug                    5124 non-null   object \n",
      " 4   region_africa_arabia    5124 non-null   int64  \n",
      " 5   region_caribbean        5124 non-null   int64  \n",
      " 6   region_central_america  5124 non-null   int64  \n",
      " 7   region_hawaii           5124 non-null   int64  \n",
      " 8   region_asia_pacific     5124 non-null   int64  \n",
      " 9   region_south_america    5124 non-null   int64  \n",
      " 10  type_espresso           5124 non-null   int64  \n",
      " 11  type_organic            5124 non-null   int64  \n",
      " 12  type_fair_trade         5124 non-null   int64  \n",
      " 13  type_decaffeinated      5124 non-null   int64  \n",
      " 14  type_pod_capsule        5124 non-null   int64  \n",
      " 15  type_blend              5124 non-null   int64  \n",
      " 16  type_estate             5124 non-null   int64  \n",
      " 17  origin                  4529 non-null   object \n",
      " 18  roast                   4696 non-null   object \n",
      " 19  aroma                   5085 non-null   float64\n",
      " 20  acid                    4256 non-null   float64\n",
      " 21  body                    5111 non-null   float64\n",
      " 22  flavor                  5106 non-null   float64\n",
      " 23  aftertaste              4111 non-null   float64\n",
      " 24  desc_1                  5124 non-null   object \n",
      " 25  desc_2                  5124 non-null   object \n",
      "dtypes: float64(5), int64(13), object(8)\n",
      "memory usage: 1.0+ MB\n"
     ]
    }
   ],
   "source": [
    "coffee_df.info()"
   ]
  },
  {
   "cell_type": "markdown",
   "id": "17bb8434-65ad-453e-8744-06ca6b01863d",
   "metadata": {},
   "source": [
    "### Work with the 'origin' column"
   ]
  },
  {
   "cell_type": "code",
   "execution_count": 10,
   "id": "e884ef2b-529a-417c-9fec-91bf1b56f276",
   "metadata": {
    "tags": []
   },
   "outputs": [
    {
     "data": {
      "text/plain": [
       "not disclosed.                                    376\n",
       "not disclosed                                     166\n",
       "yirgacheffe growing region, southern ethiopia.    113\n",
       "boquete growing region, western panama            109\n",
       "yirgacheffe growing region, southern ethiopia      94\n",
       "                                                 ... \n",
       "la paz department, western bolivia.                 1\n",
       "gakui, central kenya.                               1\n",
       "colombia; brazil.                                   1\n",
       "africa; central and south america.                  1\n",
       "indonesia, central and south america                1\n",
       "Name: origin, Length: 1446, dtype: int64"
      ]
     },
     "execution_count": 10,
     "metadata": {},
     "output_type": "execute_result"
    }
   ],
   "source": [
    "coffee_df['origin'].value_counts()"
   ]
  },
  {
   "cell_type": "code",
   "execution_count": 11,
   "id": "7b83fa8a-4728-427c-995e-08f12423ea07",
   "metadata": {
    "tags": []
   },
   "outputs": [
    {
     "data": {
      "text/plain": [
       "not disclosed                                                     542\n",
       "yirgacheffe growing region, southern ethiopia                     207\n",
       "south-central kenya                                               126\n",
       "boquete growing region, western panama                            120\n",
       "nyeri growing region, south-central kenya                          83\n",
       "                                                                 ... \n",
       "embu county, kenya                                                  1\n",
       "el salvador; kenya                                                  1\n",
       "gedeo zone, yirgacheffe growing region, south-central ethiopia      1\n",
       "kenya; papua_new_guinea                                             1\n",
       "java                                                                1\n",
       "Name: origin, Length: 1271, dtype: int64"
      ]
     },
     "execution_count": 11,
     "metadata": {},
     "output_type": "execute_result"
    }
   ],
   "source": [
    "# Remove the dot at the end of string in new 'country_of_origin' column\n",
    "coffee_df['origin'] = coffee_df['origin'].str.rstrip('.')\n",
    "coffee_df['origin'].value_counts()"
   ]
  },
  {
   "cell_type": "code",
   "execution_count": 12,
   "id": "67c065b7-32c6-457c-9a6e-2402367c5d12",
   "metadata": {
    "tags": []
   },
   "outputs": [],
   "source": [
    "# Delete rows where country is listed as 'not disclosed'\n",
    "coffee_df = coffee_df[coffee_df['origin'] != 'Not disclosed']\n",
    "coffee_df = coffee_df[coffee_df['origin'] != 'Not Disclosed']"
   ]
  },
  {
   "cell_type": "code",
   "execution_count": 13,
   "id": "34cbbf0d-749e-41f1-b133-26841180d0a6",
   "metadata": {
    "tags": []
   },
   "outputs": [],
   "source": [
    "# Delete rows with NaN values\n",
    "coffee_df = coffee_df.dropna(subset=['origin'])"
   ]
  },
  {
   "cell_type": "code",
   "execution_count": 14,
   "id": "002ac01a-1deb-47a0-8056-cd83b12778b2",
   "metadata": {
    "tags": []
   },
   "outputs": [
    {
     "data": {
      "text/html": [
       "<div>\n",
       "<style scoped>\n",
       "    .dataframe tbody tr th:only-of-type {\n",
       "        vertical-align: middle;\n",
       "    }\n",
       "\n",
       "    .dataframe tbody tr th {\n",
       "        vertical-align: top;\n",
       "    }\n",
       "\n",
       "    .dataframe thead th {\n",
       "        text-align: right;\n",
       "    }\n",
       "</style>\n",
       "<table border=\"1\" class=\"dataframe\">\n",
       "  <thead>\n",
       "    <tr style=\"text-align: right;\">\n",
       "      <th></th>\n",
       "      <th>name</th>\n",
       "      <th>rating</th>\n",
       "      <th>roaster</th>\n",
       "      <th>slug</th>\n",
       "      <th>region_africa_arabia</th>\n",
       "      <th>region_caribbean</th>\n",
       "      <th>region_central_america</th>\n",
       "      <th>region_hawaii</th>\n",
       "      <th>region_asia_pacific</th>\n",
       "      <th>region_south_america</th>\n",
       "      <th>...</th>\n",
       "      <th>origin</th>\n",
       "      <th>roast</th>\n",
       "      <th>aroma</th>\n",
       "      <th>acid</th>\n",
       "      <th>body</th>\n",
       "      <th>flavor</th>\n",
       "      <th>aftertaste</th>\n",
       "      <th>desc_1</th>\n",
       "      <th>desc_2</th>\n",
       "      <th>country_of_origin</th>\n",
       "    </tr>\n",
       "  </thead>\n",
       "  <tbody>\n",
       "    <tr>\n",
       "      <th>0</th>\n",
       "      <td>ethiopia deri kochoha</td>\n",
       "      <td>93</td>\n",
       "      <td>flight coffee co</td>\n",
       "      <td>/review/ethiopia-deri-kochoha-2</td>\n",
       "      <td>1</td>\n",
       "      <td>0</td>\n",
       "      <td>0</td>\n",
       "      <td>0</td>\n",
       "      <td>0</td>\n",
       "      <td>0</td>\n",
       "      <td>...</td>\n",
       "      <td>west guji zone, oromia region, southeastern et...</td>\n",
       "      <td>medium_light</td>\n",
       "      <td>9.0</td>\n",
       "      <td>8.0</td>\n",
       "      <td>9.0</td>\n",
       "      <td>9.0</td>\n",
       "      <td>8.0</td>\n",
       "      <td>bright, crisp, sweetly tart citrus medley, cac...</td>\n",
       "      <td>from the deri kochoha mill in the hagere marya...</td>\n",
       "      <td>ethiopia</td>\n",
       "    </tr>\n",
       "    <tr>\n",
       "      <th>1</th>\n",
       "      <td>espresso</td>\n",
       "      <td>91</td>\n",
       "      <td>doi chaang coffee</td>\n",
       "      <td>/review/espresso-14</td>\n",
       "      <td>0</td>\n",
       "      <td>0</td>\n",
       "      <td>0</td>\n",
       "      <td>0</td>\n",
       "      <td>1</td>\n",
       "      <td>0</td>\n",
       "      <td>...</td>\n",
       "      <td>northern thailand</td>\n",
       "      <td>medium</td>\n",
       "      <td>8.0</td>\n",
       "      <td>NaN</td>\n",
       "      <td>8.0</td>\n",
       "      <td>8.0</td>\n",
       "      <td>8.0</td>\n",
       "      <td>evaluated as espresso deeply rich, sweetly roa...</td>\n",
       "      <td>doi chaang is a singleestate coffee produced b...</td>\n",
       "      <td>thailand</td>\n",
       "    </tr>\n",
       "    <tr>\n",
       "      <th>2</th>\n",
       "      <td>kenya ruthaka peaberry</td>\n",
       "      <td>95</td>\n",
       "      <td>temple coffee and tea</td>\n",
       "      <td>/review/kenya-ruthaka-peaberry</td>\n",
       "      <td>1</td>\n",
       "      <td>0</td>\n",
       "      <td>0</td>\n",
       "      <td>0</td>\n",
       "      <td>0</td>\n",
       "      <td>0</td>\n",
       "      <td>...</td>\n",
       "      <td>nyeri growing region, south-central kenya</td>\n",
       "      <td>medium</td>\n",
       "      <td>9.0</td>\n",
       "      <td>8.0</td>\n",
       "      <td>9.0</td>\n",
       "      <td>10.0</td>\n",
       "      <td>8.0</td>\n",
       "      <td>deeply sweet, richly savory dark chocolate, pi...</td>\n",
       "      <td>despite challenges ranging from contested gove...</td>\n",
       "      <td>kenya</td>\n",
       "    </tr>\n",
       "    <tr>\n",
       "      <th>3</th>\n",
       "      <td>ethiopia gora kone sidamo</td>\n",
       "      <td>93</td>\n",
       "      <td>temple coffee and tea</td>\n",
       "      <td>/review/ethiopia-gora-kone-sidamo</td>\n",
       "      <td>1</td>\n",
       "      <td>0</td>\n",
       "      <td>0</td>\n",
       "      <td>0</td>\n",
       "      <td>0</td>\n",
       "      <td>0</td>\n",
       "      <td>...</td>\n",
       "      <td>sidamo (also sidama) growing region, south-cen...</td>\n",
       "      <td>medium_light</td>\n",
       "      <td>9.0</td>\n",
       "      <td>8.0</td>\n",
       "      <td>9.0</td>\n",
       "      <td>9.0</td>\n",
       "      <td>8.0</td>\n",
       "      <td>fruitforward, richly chocolaty raspberry couli...</td>\n",
       "      <td>southern ethiopia coffees like this one are la...</td>\n",
       "      <td>ethiopia</td>\n",
       "    </tr>\n",
       "    <tr>\n",
       "      <th>4</th>\n",
       "      <td>specialty coffee blend espresso</td>\n",
       "      <td>93</td>\n",
       "      <td>choosy gourmet</td>\n",
       "      <td>/review/specialty-coffee-blend-espresso</td>\n",
       "      <td>0</td>\n",
       "      <td>0</td>\n",
       "      <td>0</td>\n",
       "      <td>0</td>\n",
       "      <td>0</td>\n",
       "      <td>0</td>\n",
       "      <td>...</td>\n",
       "      <td>ethiopia; colombia; kenya</td>\n",
       "      <td>medium_light</td>\n",
       "      <td>9.0</td>\n",
       "      <td>NaN</td>\n",
       "      <td>8.0</td>\n",
       "      <td>9.0</td>\n",
       "      <td>8.0</td>\n",
       "      <td>evaluated as espresso rich, chocolaty, sweetly...</td>\n",
       "      <td>a blend of coffees from ethiopia naturalproces...</td>\n",
       "      <td>kenya</td>\n",
       "    </tr>\n",
       "  </tbody>\n",
       "</table>\n",
       "<p>5 rows × 27 columns</p>\n",
       "</div>"
      ],
      "text/plain": [
       "                              name rating                roaster  \\\n",
       "0            ethiopia deri kochoha     93       flight coffee co   \n",
       "1                         espresso     91      doi chaang coffee   \n",
       "2           kenya ruthaka peaberry     95  temple coffee and tea   \n",
       "3        ethiopia gora kone sidamo     93  temple coffee and tea   \n",
       "4  specialty coffee blend espresso     93         choosy gourmet   \n",
       "\n",
       "                                      slug  region_africa_arabia  \\\n",
       "0          /review/ethiopia-deri-kochoha-2                     1   \n",
       "1                      /review/espresso-14                     0   \n",
       "2           /review/kenya-ruthaka-peaberry                     1   \n",
       "3        /review/ethiopia-gora-kone-sidamo                     1   \n",
       "4  /review/specialty-coffee-blend-espresso                     0   \n",
       "\n",
       "   region_caribbean  region_central_america  region_hawaii  \\\n",
       "0                 0                       0              0   \n",
       "1                 0                       0              0   \n",
       "2                 0                       0              0   \n",
       "3                 0                       0              0   \n",
       "4                 0                       0              0   \n",
       "\n",
       "   region_asia_pacific  region_south_america  ...  \\\n",
       "0                    0                     0  ...   \n",
       "1                    1                     0  ...   \n",
       "2                    0                     0  ...   \n",
       "3                    0                     0  ...   \n",
       "4                    0                     0  ...   \n",
       "\n",
       "                                              origin         roast  aroma  \\\n",
       "0  west guji zone, oromia region, southeastern et...  medium_light    9.0   \n",
       "1                                  northern thailand        medium    8.0   \n",
       "2          nyeri growing region, south-central kenya        medium    9.0   \n",
       "3  sidamo (also sidama) growing region, south-cen...  medium_light    9.0   \n",
       "4                          ethiopia; colombia; kenya  medium_light    9.0   \n",
       "\n",
       "   acid  body  flavor  aftertaste  \\\n",
       "0   8.0   9.0     9.0         8.0   \n",
       "1   NaN   8.0     8.0         8.0   \n",
       "2   8.0   9.0    10.0         8.0   \n",
       "3   8.0   9.0     9.0         8.0   \n",
       "4   NaN   8.0     9.0         8.0   \n",
       "\n",
       "                                              desc_1  \\\n",
       "0  bright, crisp, sweetly tart citrus medley, cac...   \n",
       "1  evaluated as espresso deeply rich, sweetly roa...   \n",
       "2  deeply sweet, richly savory dark chocolate, pi...   \n",
       "3  fruitforward, richly chocolaty raspberry couli...   \n",
       "4  evaluated as espresso rich, chocolaty, sweetly...   \n",
       "\n",
       "                                              desc_2  country_of_origin  \n",
       "0  from the deri kochoha mill in the hagere marya...           ethiopia  \n",
       "1  doi chaang is a singleestate coffee produced b...           thailand  \n",
       "2  despite challenges ranging from contested gove...              kenya  \n",
       "3  southern ethiopia coffees like this one are la...           ethiopia  \n",
       "4  a blend of coffees from ethiopia naturalproces...              kenya  \n",
       "\n",
       "[5 rows x 27 columns]"
      ]
     },
     "execution_count": 14,
     "metadata": {},
     "output_type": "execute_result"
    }
   ],
   "source": [
    "# Specify the column with strings\n",
    "columnName = 'origin'\n",
    "\n",
    "# Create a new column to store the split result\n",
    "newColumnName = 'country_of_origin'\n",
    "\n",
    "# Function to split the last word and add it to a new column\n",
    "def split_last_word_except_semicolon(text):\n",
    "    if pd.isna(text):  # Check if the value is NaN\n",
    "        return ''\n",
    "    words = re.split(r'\\s*;\\s*|\\s+', text)\n",
    "    return words[-1]\n",
    "\n",
    "# Apply the function to create a new column\n",
    "coffee_df['country_of_origin'] = coffee_df['origin'].apply(split_last_word_except_semicolon)\n",
    "\n",
    "# Print the updated DataFrame\n",
    "coffee_df.head()"
   ]
  },
  {
   "cell_type": "code",
   "execution_count": 15,
   "id": "e56753ba-6e1b-498d-aab9-a1b2da496a6a",
   "metadata": {
    "tags": []
   },
   "outputs": [
    {
     "data": {
      "text/plain": [
       "ethiopia       743\n",
       "disclosed      545\n",
       "kenya          424\n",
       "indonesia      338\n",
       "colombia       334\n",
       "              ... \n",
       "kenyamur         1\n",
       "pacific          1\n",
       "nepal            1\n",
       "colombianar      1\n",
       "chloride         1\n",
       "Name: country_of_origin, Length: 78, dtype: int64"
      ]
     },
     "execution_count": 15,
     "metadata": {},
     "output_type": "execute_result"
    }
   ],
   "source": [
    "coffee_df['country_of_origin'].value_counts()"
   ]
  },
  {
   "cell_type": "code",
   "execution_count": 16,
   "id": "f0f5de7e-25df-4011-beb2-c2ba59f8e6b4",
   "metadata": {
    "tags": []
   },
   "outputs": [
    {
     "data": {
      "text/plain": [
       "ethiopia                        743\n",
       "disclosed                       545\n",
       "kenya                           424\n",
       "indonesia                       338\n",
       "colombia                        334\n",
       "guatemala                       272\n",
       "panama                          221\n",
       "costa_rica                      190\n",
       "brazil                          168\n",
       "salvador                        165\n",
       "other                           137\n",
       "hawaii                          112\n",
       "rwanda                          101\n",
       "nicaragua                        97\n",
       "honduras                         72\n",
       "papua_new_guinea                 63\n",
       "burundi                          57\n",
       "mexico                           55\n",
       "america                          53\n",
       "peru                             51\n",
       "thailand                         49\n",
       "bolivia                          43\n",
       "tanzania                         40\n",
       "india                            37\n",
       "sumatra                          32\n",
       "africa                           23\n",
       "ecuador                          22\n",
       "jamaica                          22\n",
       "                                 20\n",
       "yemen                            18\n",
       "democratic_republic_of_congo     13\n",
       "taiwan                           12\n",
       "Name: country_of_origin, dtype: int64"
      ]
     },
     "execution_count": 16,
     "metadata": {},
     "output_type": "execute_result"
    }
   ],
   "source": [
    "# Change the datatype of the specified column to string\n",
    "coffee_df['country_of_origin'] = coffee_df['country_of_origin'].astype(str)\n",
    "\n",
    "# Create a function to identify instances of 'origin' where the value count is less than a certain number\n",
    "def single_instances_grouped(instances, cutoff):\n",
    "    instances_map = {}\n",
    "    for i in range(len(instances)):\n",
    "        if instances.values[i] >= cutoff:\n",
    "            instances_map[instances.index[i]] = instances.index[i]\n",
    "        else:\n",
    "            instances_map[instances.index[i]] = 'other'\n",
    "    return instances_map\n",
    "\n",
    "origin_map = single_instances_grouped(coffee_df.country_of_origin.value_counts(), 12)\n",
    "coffee_df['country_of_origin'] = coffee_df['country_of_origin'].map(origin_map)\n",
    "coffee_df.country_of_origin.value_counts()"
   ]
  },
  {
   "cell_type": "code",
   "execution_count": 17,
   "id": "fd9a09d0-b3f2-4a14-b195-d7af4716e8b2",
   "metadata": {
    "tags": []
   },
   "outputs": [
    {
     "data": {
      "text/plain": [
       "ethiopia                        743\n",
       "disclosed                       545\n",
       "kenya                           424\n",
       "indonesia                       338\n",
       "colombia                        334\n",
       "guatemala                       272\n",
       "panama                          221\n",
       "costa_rica                      190\n",
       "brazil                          168\n",
       "salvador                        165\n",
       "other                           137\n",
       "hawaii                          112\n",
       "rwanda                          101\n",
       "nicaragua                        97\n",
       "honduras                         72\n",
       "papua_new_guinea                 63\n",
       "burundi                          57\n",
       "mexico                           55\n",
       "america                          53\n",
       "peru                             51\n",
       "thailand                         49\n",
       "bolivia                          43\n",
       "tanzania                         40\n",
       "india                            37\n",
       "sumatra                          32\n",
       "africa                           23\n",
       "ecuador                          22\n",
       "jamaica                          22\n",
       "yemen                            18\n",
       "democratic_republic_of_congo     13\n",
       "taiwan                           12\n",
       "Name: country_of_origin, dtype: int64"
      ]
     },
     "execution_count": 17,
     "metadata": {},
     "output_type": "execute_result"
    }
   ],
   "source": [
    "# Drop the rows with blank values from the original DataFrame\n",
    "rows_with_blank_values = coffee_df[coffee_df['country_of_origin'].isna() | (coffee_df['country_of_origin'] == '')]\n",
    "\n",
    "if not rows_with_blank_values.empty:\n",
    "    coffee_df.drop(rows_with_blank_values.index, inplace=True)\n",
    "\n",
    "coffee_df.country_of_origin.value_counts()"
   ]
  },
  {
   "cell_type": "code",
   "execution_count": 18,
   "id": "d81a4bdd-867a-44a4-9a30-59d74d7d57f1",
   "metadata": {
    "tags": []
   },
   "outputs": [
    {
     "data": {
      "text/plain": [
       "4509"
      ]
     },
     "execution_count": 18,
     "metadata": {},
     "output_type": "execute_result"
    }
   ],
   "source": [
    "coffee_df.country_of_origin.value_counts().sum()"
   ]
  },
  {
   "cell_type": "code",
   "execution_count": 19,
   "id": "017d7e9f-f63d-4e26-9386-f1443d43d724",
   "metadata": {
    "tags": []
   },
   "outputs": [],
   "source": [
    "coffee_df = coffee_df.drop(columns='origin')"
   ]
  },
  {
   "cell_type": "code",
   "execution_count": 20,
   "id": "e911e40a-634c-450e-9cce-570f9cfc87be",
   "metadata": {
    "tags": []
   },
   "outputs": [
    {
     "name": "stdout",
     "output_type": "stream",
     "text": [
      "<class 'pandas.core.frame.DataFrame'>\n",
      "Int64Index: 4509 entries, 0 to 5115\n",
      "Data columns (total 26 columns):\n",
      " #   Column                  Non-Null Count  Dtype  \n",
      "---  ------                  --------------  -----  \n",
      " 0   name                    4509 non-null   object \n",
      " 1   rating                  4509 non-null   object \n",
      " 2   roaster                 4509 non-null   object \n",
      " 3   slug                    4509 non-null   object \n",
      " 4   region_africa_arabia    4509 non-null   int64  \n",
      " 5   region_caribbean        4509 non-null   int64  \n",
      " 6   region_central_america  4509 non-null   int64  \n",
      " 7   region_hawaii           4509 non-null   int64  \n",
      " 8   region_asia_pacific     4509 non-null   int64  \n",
      " 9   region_south_america    4509 non-null   int64  \n",
      " 10  type_espresso           4509 non-null   int64  \n",
      " 11  type_organic            4509 non-null   int64  \n",
      " 12  type_fair_trade         4509 non-null   int64  \n",
      " 13  type_decaffeinated      4509 non-null   int64  \n",
      " 14  type_pod_capsule        4509 non-null   int64  \n",
      " 15  type_blend              4509 non-null   int64  \n",
      " 16  type_estate             4509 non-null   int64  \n",
      " 17  roast                   4399 non-null   object \n",
      " 18  aroma                   4475 non-null   float64\n",
      " 19  acid                    3685 non-null   float64\n",
      " 20  body                    4499 non-null   float64\n",
      " 21  flavor                  4496 non-null   float64\n",
      " 22  aftertaste              4091 non-null   float64\n",
      " 23  desc_1                  4509 non-null   object \n",
      " 24  desc_2                  4509 non-null   object \n",
      " 25  country_of_origin       4509 non-null   object \n",
      "dtypes: float64(5), int64(13), object(8)\n",
      "memory usage: 951.1+ KB\n"
     ]
    }
   ],
   "source": [
    "coffee_df.info()"
   ]
  },
  {
   "cell_type": "code",
   "execution_count": 21,
   "id": "4492fba5-f3b7-4b18-8c2f-3a1722f8c795",
   "metadata": {},
   "outputs": [],
   "source": [
    "# Reorder columns in the DataFrame\n",
    "coffee_df = coffee_df[['slug', 'name', 'roaster', 'roast', 'country_of_origin', 'desc_1', 'desc_2', 'rating',\n",
    "                       'aroma', 'acid', 'body', 'flavor', 'aftertaste', \n",
    "                       'region_africa_arabia', 'region_caribbean', 'region_central_america', 'region_hawaii', 'region_asia_pacific', 'region_south_america', \n",
    "                       'type_espresso', 'type_organic', 'type_fair_trade', 'type_decaffeinated', 'type_pod_capsule', 'type_blend', 'type_estate']]"
   ]
  },
  {
   "cell_type": "code",
   "execution_count": 22,
   "id": "096c8634-ac10-488a-b042-1aaf341c21bd",
   "metadata": {},
   "outputs": [
    {
     "name": "stdout",
     "output_type": "stream",
     "text": [
      "<class 'pandas.core.frame.DataFrame'>\n",
      "Int64Index: 4509 entries, 0 to 5115\n",
      "Data columns (total 26 columns):\n",
      " #   Column                  Non-Null Count  Dtype  \n",
      "---  ------                  --------------  -----  \n",
      " 0   slug                    4509 non-null   object \n",
      " 1   name                    4509 non-null   object \n",
      " 2   roaster                 4509 non-null   object \n",
      " 3   roast                   4399 non-null   object \n",
      " 4   country_of_origin       4509 non-null   object \n",
      " 5   desc_1                  4509 non-null   object \n",
      " 6   desc_2                  4509 non-null   object \n",
      " 7   rating                  4509 non-null   object \n",
      " 8   aroma                   4475 non-null   float64\n",
      " 9   acid                    3685 non-null   float64\n",
      " 10  body                    4499 non-null   float64\n",
      " 11  flavor                  4496 non-null   float64\n",
      " 12  aftertaste              4091 non-null   float64\n",
      " 13  region_africa_arabia    4509 non-null   int64  \n",
      " 14  region_caribbean        4509 non-null   int64  \n",
      " 15  region_central_america  4509 non-null   int64  \n",
      " 16  region_hawaii           4509 non-null   int64  \n",
      " 17  region_asia_pacific     4509 non-null   int64  \n",
      " 18  region_south_america    4509 non-null   int64  \n",
      " 19  type_espresso           4509 non-null   int64  \n",
      " 20  type_organic            4509 non-null   int64  \n",
      " 21  type_fair_trade         4509 non-null   int64  \n",
      " 22  type_decaffeinated      4509 non-null   int64  \n",
      " 23  type_pod_capsule        4509 non-null   int64  \n",
      " 24  type_blend              4509 non-null   int64  \n",
      " 25  type_estate             4509 non-null   int64  \n",
      "dtypes: float64(5), int64(13), object(8)\n",
      "memory usage: 951.1+ KB\n"
     ]
    }
   ],
   "source": [
    "coffee_df.info()"
   ]
  },
  {
   "cell_type": "code",
   "execution_count": 23,
   "id": "d1e1cf55-83f2-4a0e-a7e4-d30575373083",
   "metadata": {},
   "outputs": [],
   "source": [
    "# # Function to get latitude and longitude\n",
    "# def get_lat_lon(country_name):\n",
    "#     geolocator = Nominatim(user_agent=\"my_geocoder\")\n",
    "    \n",
    "#     try:\n",
    "#         location = geolocator.geocode(country_name)\n",
    "#         if location is not None:\n",
    "#             return location.latitude, location.longitude\n",
    "#         else:\n",
    "#             return None, None\n",
    "#     except Exception as e:\n",
    "#         print(f\"Error: {e}\")\n",
    "#         return None, None\n",
    "\n",
    "# # Apply the function to the 'Country' column\n",
    "# coffee_df[['Latitude', 'Longitude']] = coffee_df['country_of_origin'].apply(lambda x: pd.Series(get_lat_lon(x)))\n",
    "\n",
    "# # Print the updated DataFrame\n",
    "# coffee_df.head()"
   ]
  },
  {
   "cell_type": "code",
   "execution_count": 24,
   "id": "c41da049-b3ca-4127-8cc9-78f42d8e2fcd",
   "metadata": {
    "tags": []
   },
   "outputs": [],
   "source": [
    "# # Create lat and lon columns and use GeoFy library to extract the coordinates of each country\n",
    "\n",
    "# def get_lat_lon_for_country(country_name):\n",
    "#     geolocator = Nominatim(user_agent=\"country_locator\")\n",
    "#     location = geolocator.geocode(country_name)\n",
    "    \n",
    "#     if location:\n",
    "#         return location.latitude, location.longitude\n",
    "#     else:\n",
    "#         return None\n",
    "\n",
    "# # Create new columns for latitude and longitude\n",
    "# coffee_df['latitude'] = None\n",
    "# coffee_df['longitude'] = None\n",
    "\n",
    "# # Iterate through rows and geocode each country\n",
    "# for index, row in coffee_df.iterrows():\n",
    "#     country_name = row['country_of_origin']  # Replace 'CountryColumnName' with the actual column name in your CSV\n",
    "#     lat_lon = get_lat_lon_for_country(country_name)\n",
    "    \n",
    "#     if lat_lon:\n",
    "#         coffee_df.at[index, 'latitude'] = lat_lon[0]\n",
    "#         coffee_df.at[index, 'longitude'] = lat_lon[1]\n",
    "\n",
    "# coffee_df.head()"
   ]
  },
  {
   "cell_type": "code",
   "execution_count": 25,
   "id": "7e11e775-a2a0-4394-8611-20ab1f469613",
   "metadata": {
    "tags": []
   },
   "outputs": [],
   "source": [
    "coffee_df.to_csv('../Resources/NEW_coffee_final.csv', index=False)"
   ]
  }
 ],
 "metadata": {
  "kernelspec": {
   "display_name": "Python 3 (ipykernel)",
   "language": "python",
   "name": "python3"
  },
  "language_info": {
   "codemirror_mode": {
    "name": "ipython",
    "version": 3
   },
   "file_extension": ".py",
   "mimetype": "text/x-python",
   "name": "python",
   "nbconvert_exporter": "python",
   "pygments_lexer": "ipython3",
   "version": "3.11.4"
  }
 },
 "nbformat": 4,
 "nbformat_minor": 5
}
